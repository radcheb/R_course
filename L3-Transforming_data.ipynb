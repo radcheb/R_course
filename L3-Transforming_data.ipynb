{
 "cells": [
  {
   "cell_type": "markdown",
   "metadata": {
    "slideshow": {
     "slide_type": "slide"
    }
   },
   "source": [
    "# Transforming Data"
   ]
  },
  {
   "cell_type": "markdown",
   "metadata": {
    "slideshow": {
     "slide_type": "slide"
    }
   },
   "source": [
    "## Table of content"
   ]
  },
  {
   "cell_type": "markdown",
   "metadata": {},
   "source": [
    "## Subsetting and sorting"
   ]
  },
  {
   "cell_type": "markdown",
   "metadata": {
    "slideshow": {
     "slide_type": "slide"
    }
   },
   "source": [
    "### Subsetting"
   ]
  },
  {
   "cell_type": "code",
   "execution_count": 2,
   "metadata": {},
   "outputs": [
    {
     "data": {
      "text/html": [
       "<table>\n",
       "<thead><tr><th></th><th scope=col>var1</th><th scope=col>var2</th><th scope=col>var3</th></tr></thead>\n",
       "<tbody>\n",
       "\t<tr><th scope=row>1</th><td>2 </td><td>NA</td><td>15</td></tr>\n",
       "\t<tr><th scope=row>4</th><td>1 </td><td>10</td><td>11</td></tr>\n",
       "\t<tr><th scope=row>2</th><td>3 </td><td>NA</td><td>12</td></tr>\n",
       "\t<tr><th scope=row>3</th><td>5 </td><td> 6</td><td>14</td></tr>\n",
       "\t<tr><th scope=row>5</th><td>4 </td><td> 9</td><td>13</td></tr>\n",
       "</tbody>\n",
       "</table>\n"
      ],
      "text/latex": [
       "\\begin{tabular}{r|lll}\n",
       "  & var1 & var2 & var3\\\\\n",
       "\\hline\n",
       "\t1 & 2  & NA & 15\\\\\n",
       "\t4 & 1  & 10 & 11\\\\\n",
       "\t2 & 3  & NA & 12\\\\\n",
       "\t3 & 5  &  6 & 14\\\\\n",
       "\t5 & 4  &  9 & 13\\\\\n",
       "\\end{tabular}\n"
      ],
      "text/markdown": [
       "\n",
       "| <!--/--> | var1 | var2 | var3 |\n",
       "|---|---|---|---|\n",
       "| 1 | 2  | NA | 15 |\n",
       "| 4 | 1  | 10 | 11 |\n",
       "| 2 | 3  | NA | 12 |\n",
       "| 3 | 5  |  6 | 14 |\n",
       "| 5 | 4  |  9 | 13 |\n",
       "\n"
      ],
      "text/plain": [
       "  var1 var2 var3\n",
       "1 2    NA   15  \n",
       "4 1    10   11  \n",
       "2 3    NA   12  \n",
       "3 5     6   14  \n",
       "5 4     9   13  "
      ]
     },
     "metadata": {},
     "output_type": "display_data"
    }
   ],
   "source": [
    "set.seed(13435)\n",
    "X <- data.frame(\"var1\"=sample(1:5),\"var2\"=sample(6:10),\"var3\"=sample(11:15))\n",
    "X <- X[sample(1:5),]; X$var2[c(1,3)] = NA\n",
    "X"
   ]
  },
  {
   "cell_type": "markdown",
   "metadata": {
    "slideshow": {
     "slide_type": "slide"
    }
   },
   "source": [
    "### Subsetting - quick review"
   ]
  },
  {
   "cell_type": "code",
   "execution_count": 3,
   "metadata": {},
   "outputs": [
    {
     "data": {
      "text/html": [
       "<ol class=list-inline>\n",
       "\t<li>2</li>\n",
       "\t<li>1</li>\n",
       "\t<li>3</li>\n",
       "\t<li>5</li>\n",
       "\t<li>4</li>\n",
       "</ol>\n"
      ],
      "text/latex": [
       "\\begin{enumerate*}\n",
       "\\item 2\n",
       "\\item 1\n",
       "\\item 3\n",
       "\\item 5\n",
       "\\item 4\n",
       "\\end{enumerate*}\n"
      ],
      "text/markdown": [
       "1. 2\n",
       "2. 1\n",
       "3. 3\n",
       "4. 5\n",
       "5. 4\n",
       "\n",
       "\n"
      ],
      "text/plain": [
       "[1] 2 1 3 5 4"
      ]
     },
     "metadata": {},
     "output_type": "display_data"
    },
    {
     "data": {
      "text/html": [
       "<ol class=list-inline>\n",
       "\t<li>2</li>\n",
       "\t<li>1</li>\n",
       "\t<li>3</li>\n",
       "\t<li>5</li>\n",
       "\t<li>4</li>\n",
       "</ol>\n"
      ],
      "text/latex": [
       "\\begin{enumerate*}\n",
       "\\item 2\n",
       "\\item 1\n",
       "\\item 3\n",
       "\\item 5\n",
       "\\item 4\n",
       "\\end{enumerate*}\n"
      ],
      "text/markdown": [
       "1. 2\n",
       "2. 1\n",
       "3. 3\n",
       "4. 5\n",
       "5. 4\n",
       "\n",
       "\n"
      ],
      "text/plain": [
       "[1] 2 1 3 5 4"
      ]
     },
     "metadata": {},
     "output_type": "display_data"
    },
    {
     "data": {
      "text/html": [
       "<ol class=list-inline>\n",
       "\t<li>&lt;NA&gt;</li>\n",
       "\t<li>10</li>\n",
       "</ol>\n"
      ],
      "text/latex": [
       "\\begin{enumerate*}\n",
       "\\item <NA>\n",
       "\\item 10\n",
       "\\end{enumerate*}\n"
      ],
      "text/markdown": [
       "1. &lt;NA&gt;\n",
       "2. 10\n",
       "\n",
       "\n"
      ],
      "text/plain": [
       "[1] NA 10"
      ]
     },
     "metadata": {},
     "output_type": "display_data"
    }
   ],
   "source": [
    "X[,1]\n",
    "X[,\"var1\"]\n",
    "X[1:2,\"var2\"]"
   ]
  },
  {
   "cell_type": "markdown",
   "metadata": {
    "slideshow": {
     "slide_type": "slide"
    }
   },
   "source": [
    "### Logicals ands and ors"
   ]
  },
  {
   "cell_type": "code",
   "execution_count": 32,
   "metadata": {},
   "outputs": [
    {
     "data": {
      "text/html": [
       "<table>\n",
       "<thead><tr><th scope=col>var1</th><th scope=col>var2</th><th scope=col>var3</th></tr></thead>\n",
       "<tbody>\n",
       "\t<tr><td>2 </td><td>NA</td><td>15</td></tr>\n",
       "\t<tr><td>3 </td><td>NA</td><td>12</td></tr>\n",
       "</tbody>\n",
       "</table>\n"
      ],
      "text/latex": [
       "\\begin{tabular}{r|lll}\n",
       " var1 & var2 & var3\\\\\n",
       "\\hline\n",
       "\t 2  & NA & 15\\\\\n",
       "\t 3  & NA & 12\\\\\n",
       "\\end{tabular}\n"
      ],
      "text/markdown": [
       "\n",
       "| var1 | var2 | var3 |\n",
       "|---|---|---|\n",
       "| 2  | NA | 15 |\n",
       "| 3  | NA | 12 |\n",
       "\n"
      ],
      "text/plain": [
       "  var1 var2 var3\n",
       "1 2    NA   15  \n",
       "2 3    NA   12  "
      ]
     },
     "metadata": {},
     "output_type": "display_data"
    },
    {
     "data": {
      "text/html": [
       "<table>\n",
       "<thead><tr><th></th><th scope=col>var1</th><th scope=col>var2</th><th scope=col>var3</th></tr></thead>\n",
       "<tbody>\n",
       "\t<tr><th scope=row>1</th><td>2 </td><td>NA</td><td>15</td></tr>\n",
       "\t<tr><th scope=row>4</th><td>1 </td><td>10</td><td>11</td></tr>\n",
       "\t<tr><th scope=row>2</th><td>3 </td><td>NA</td><td>12</td></tr>\n",
       "</tbody>\n",
       "</table>\n"
      ],
      "text/latex": [
       "\\begin{tabular}{r|lll}\n",
       "  & var1 & var2 & var3\\\\\n",
       "\\hline\n",
       "\t1 & 2  & NA & 15\\\\\n",
       "\t4 & 1  & 10 & 11\\\\\n",
       "\t2 & 3  & NA & 12\\\\\n",
       "\\end{tabular}\n"
      ],
      "text/markdown": [
       "\n",
       "| <!--/--> | var1 | var2 | var3 |\n",
       "|---|---|---|---|\n",
       "| 1 | 2  | NA | 15 |\n",
       "| 4 | 1  | 10 | 11 |\n",
       "| 2 | 3  | NA | 12 |\n",
       "\n"
      ],
      "text/plain": [
       "  var1 var2 var3\n",
       "1 2    NA   15  \n",
       "4 1    10   11  \n",
       "2 3    NA   12  "
      ]
     },
     "metadata": {},
     "output_type": "display_data"
    }
   ],
   "source": [
    "X[(X$var1 <= 3 & X$var3 > 11),]\n",
    "X[(X$var1 <= 3 | X$var3 > 15),]"
   ]
  },
  {
   "cell_type": "markdown",
   "metadata": {
    "slideshow": {
     "slide_type": "slide"
    }
   },
   "source": [
    "### Dealing with missing values"
   ]
  },
  {
   "cell_type": "code",
   "execution_count": 4,
   "metadata": {},
   "outputs": [
    {
     "data": {
      "text/html": [
       "<table>\n",
       "<thead><tr><th></th><th scope=col>var1</th><th scope=col>var2</th><th scope=col>var3</th></tr></thead>\n",
       "<tbody>\n",
       "\t<tr><th scope=row>4</th><td>1 </td><td>10</td><td>11</td></tr>\n",
       "\t<tr><th scope=row>5</th><td>4 </td><td> 9</td><td>13</td></tr>\n",
       "</tbody>\n",
       "</table>\n"
      ],
      "text/latex": [
       "\\begin{tabular}{r|lll}\n",
       "  & var1 & var2 & var3\\\\\n",
       "\\hline\n",
       "\t4 & 1  & 10 & 11\\\\\n",
       "\t5 & 4  &  9 & 13\\\\\n",
       "\\end{tabular}\n"
      ],
      "text/markdown": [
       "\n",
       "| <!--/--> | var1 | var2 | var3 |\n",
       "|---|---|---|---|\n",
       "| 4 | 1  | 10 | 11 |\n",
       "| 5 | 4  |  9 | 13 |\n",
       "\n"
      ],
      "text/plain": [
       "  var1 var2 var3\n",
       "4 1    10   11  \n",
       "5 4     9   13  "
      ]
     },
     "metadata": {},
     "output_type": "display_data"
    }
   ],
   "source": [
    "X[which(X$var2 > 8),]"
   ]
  },
  {
   "cell_type": "markdown",
   "metadata": {
    "slideshow": {
     "slide_type": "slide"
    }
   },
   "source": [
    "### Sorting"
   ]
  },
  {
   "cell_type": "code",
   "execution_count": 5,
   "metadata": {},
   "outputs": [
    {
     "data": {
      "text/html": [
       "<ol class=list-inline>\n",
       "\t<li>1</li>\n",
       "\t<li>2</li>\n",
       "\t<li>3</li>\n",
       "\t<li>4</li>\n",
       "\t<li>5</li>\n",
       "</ol>\n"
      ],
      "text/latex": [
       "\\begin{enumerate*}\n",
       "\\item 1\n",
       "\\item 2\n",
       "\\item 3\n",
       "\\item 4\n",
       "\\item 5\n",
       "\\end{enumerate*}\n"
      ],
      "text/markdown": [
       "1. 1\n",
       "2. 2\n",
       "3. 3\n",
       "4. 4\n",
       "5. 5\n",
       "\n",
       "\n"
      ],
      "text/plain": [
       "[1] 1 2 3 4 5"
      ]
     },
     "metadata": {},
     "output_type": "display_data"
    },
    {
     "data": {
      "text/html": [
       "<ol class=list-inline>\n",
       "\t<li>5</li>\n",
       "\t<li>4</li>\n",
       "\t<li>3</li>\n",
       "\t<li>2</li>\n",
       "\t<li>1</li>\n",
       "</ol>\n"
      ],
      "text/latex": [
       "\\begin{enumerate*}\n",
       "\\item 5\n",
       "\\item 4\n",
       "\\item 3\n",
       "\\item 2\n",
       "\\item 1\n",
       "\\end{enumerate*}\n"
      ],
      "text/markdown": [
       "1. 5\n",
       "2. 4\n",
       "3. 3\n",
       "4. 2\n",
       "5. 1\n",
       "\n",
       "\n"
      ],
      "text/plain": [
       "[1] 5 4 3 2 1"
      ]
     },
     "metadata": {},
     "output_type": "display_data"
    },
    {
     "data": {
      "text/html": [
       "<ol class=list-inline>\n",
       "\t<li>6</li>\n",
       "\t<li>9</li>\n",
       "\t<li>10</li>\n",
       "\t<li>&lt;NA&gt;</li>\n",
       "\t<li>&lt;NA&gt;</li>\n",
       "</ol>\n"
      ],
      "text/latex": [
       "\\begin{enumerate*}\n",
       "\\item 6\n",
       "\\item 9\n",
       "\\item 10\n",
       "\\item <NA>\n",
       "\\item <NA>\n",
       "\\end{enumerate*}\n"
      ],
      "text/markdown": [
       "1. 6\n",
       "2. 9\n",
       "3. 10\n",
       "4. &lt;NA&gt;\n",
       "5. &lt;NA&gt;\n",
       "\n",
       "\n"
      ],
      "text/plain": [
       "[1]  6  9 10 NA NA"
      ]
     },
     "metadata": {},
     "output_type": "display_data"
    }
   ],
   "source": [
    "sort(X$var1)\n",
    "sort(X$var1,decreasing=TRUE)\n",
    "sort(X$var2,na.last=TRUE)"
   ]
  },
  {
   "cell_type": "markdown",
   "metadata": {},
   "source": [
    "### Ordering"
   ]
  },
  {
   "cell_type": "code",
   "execution_count": 6,
   "metadata": {},
   "outputs": [
    {
     "data": {
      "text/html": [
       "<table>\n",
       "<thead><tr><th></th><th scope=col>var1</th><th scope=col>var2</th><th scope=col>var3</th></tr></thead>\n",
       "<tbody>\n",
       "\t<tr><th scope=row>4</th><td>1 </td><td>10</td><td>11</td></tr>\n",
       "\t<tr><th scope=row>1</th><td>2 </td><td>NA</td><td>15</td></tr>\n",
       "\t<tr><th scope=row>2</th><td>3 </td><td>NA</td><td>12</td></tr>\n",
       "\t<tr><th scope=row>5</th><td>4 </td><td> 9</td><td>13</td></tr>\n",
       "\t<tr><th scope=row>3</th><td>5 </td><td> 6</td><td>14</td></tr>\n",
       "</tbody>\n",
       "</table>\n"
      ],
      "text/latex": [
       "\\begin{tabular}{r|lll}\n",
       "  & var1 & var2 & var3\\\\\n",
       "\\hline\n",
       "\t4 & 1  & 10 & 11\\\\\n",
       "\t1 & 2  & NA & 15\\\\\n",
       "\t2 & 3  & NA & 12\\\\\n",
       "\t5 & 4  &  9 & 13\\\\\n",
       "\t3 & 5  &  6 & 14\\\\\n",
       "\\end{tabular}\n"
      ],
      "text/markdown": [
       "\n",
       "| <!--/--> | var1 | var2 | var3 |\n",
       "|---|---|---|---|\n",
       "| 4 | 1  | 10 | 11 |\n",
       "| 1 | 2  | NA | 15 |\n",
       "| 2 | 3  | NA | 12 |\n",
       "| 5 | 4  |  9 | 13 |\n",
       "| 3 | 5  |  6 | 14 |\n",
       "\n"
      ],
      "text/plain": [
       "  var1 var2 var3\n",
       "4 1    10   11  \n",
       "1 2    NA   15  \n",
       "2 3    NA   12  \n",
       "5 4     9   13  \n",
       "3 5     6   14  "
      ]
     },
     "metadata": {},
     "output_type": "display_data"
    }
   ],
   "source": [
    "X[order(X$var1),]"
   ]
  },
  {
   "cell_type": "markdown",
   "metadata": {},
   "source": [
    "### Ordering"
   ]
  },
  {
   "cell_type": "code",
   "execution_count": 7,
   "metadata": {},
   "outputs": [
    {
     "data": {
      "text/html": [
       "<table>\n",
       "<thead><tr><th></th><th scope=col>var1</th><th scope=col>var2</th><th scope=col>var3</th></tr></thead>\n",
       "<tbody>\n",
       "\t<tr><th scope=row>4</th><td>1 </td><td>10</td><td>11</td></tr>\n",
       "\t<tr><th scope=row>1</th><td>2 </td><td>NA</td><td>15</td></tr>\n",
       "\t<tr><th scope=row>2</th><td>3 </td><td>NA</td><td>12</td></tr>\n",
       "\t<tr><th scope=row>5</th><td>4 </td><td> 9</td><td>13</td></tr>\n",
       "\t<tr><th scope=row>3</th><td>5 </td><td> 6</td><td>14</td></tr>\n",
       "</tbody>\n",
       "</table>\n"
      ],
      "text/latex": [
       "\\begin{tabular}{r|lll}\n",
       "  & var1 & var2 & var3\\\\\n",
       "\\hline\n",
       "\t4 & 1  & 10 & 11\\\\\n",
       "\t1 & 2  & NA & 15\\\\\n",
       "\t2 & 3  & NA & 12\\\\\n",
       "\t5 & 4  &  9 & 13\\\\\n",
       "\t3 & 5  &  6 & 14\\\\\n",
       "\\end{tabular}\n"
      ],
      "text/markdown": [
       "\n",
       "| <!--/--> | var1 | var2 | var3 |\n",
       "|---|---|---|---|\n",
       "| 4 | 1  | 10 | 11 |\n",
       "| 1 | 2  | NA | 15 |\n",
       "| 2 | 3  | NA | 12 |\n",
       "| 5 | 4  |  9 | 13 |\n",
       "| 3 | 5  |  6 | 14 |\n",
       "\n"
      ],
      "text/plain": [
       "  var1 var2 var3\n",
       "4 1    10   11  \n",
       "1 2    NA   15  \n",
       "2 3    NA   12  \n",
       "5 4     9   13  \n",
       "3 5     6   14  "
      ]
     },
     "metadata": {},
     "output_type": "display_data"
    }
   ],
   "source": [
    "X[order(X$var1,X$var3),]"
   ]
  },
  {
   "cell_type": "markdown",
   "metadata": {},
   "source": [
    "### Ordering with plyr"
   ]
  },
  {
   "cell_type": "code",
   "execution_count": 8,
   "metadata": {},
   "outputs": [
    {
     "data": {
      "text/html": [
       "<table>\n",
       "<thead><tr><th scope=col>var1</th><th scope=col>var2</th><th scope=col>var3</th></tr></thead>\n",
       "<tbody>\n",
       "\t<tr><td>1 </td><td>10</td><td>11</td></tr>\n",
       "\t<tr><td>2 </td><td>NA</td><td>15</td></tr>\n",
       "\t<tr><td>3 </td><td>NA</td><td>12</td></tr>\n",
       "\t<tr><td>4 </td><td> 9</td><td>13</td></tr>\n",
       "\t<tr><td>5 </td><td> 6</td><td>14</td></tr>\n",
       "</tbody>\n",
       "</table>\n"
      ],
      "text/latex": [
       "\\begin{tabular}{r|lll}\n",
       " var1 & var2 & var3\\\\\n",
       "\\hline\n",
       "\t 1  & 10 & 11\\\\\n",
       "\t 2  & NA & 15\\\\\n",
       "\t 3  & NA & 12\\\\\n",
       "\t 4  &  9 & 13\\\\\n",
       "\t 5  &  6 & 14\\\\\n",
       "\\end{tabular}\n"
      ],
      "text/markdown": [
       "\n",
       "| var1 | var2 | var3 |\n",
       "|---|---|---|\n",
       "| 1  | 10 | 11 |\n",
       "| 2  | NA | 15 |\n",
       "| 3  | NA | 12 |\n",
       "| 4  |  9 | 13 |\n",
       "| 5  |  6 | 14 |\n",
       "\n"
      ],
      "text/plain": [
       "  var1 var2 var3\n",
       "1 1    10   11  \n",
       "2 2    NA   15  \n",
       "3 3    NA   12  \n",
       "4 4     9   13  \n",
       "5 5     6   14  "
      ]
     },
     "metadata": {},
     "output_type": "display_data"
    },
    {
     "data": {
      "text/html": [
       "<table>\n",
       "<thead><tr><th scope=col>var1</th><th scope=col>var2</th><th scope=col>var3</th></tr></thead>\n",
       "<tbody>\n",
       "\t<tr><td>5 </td><td> 6</td><td>14</td></tr>\n",
       "\t<tr><td>4 </td><td> 9</td><td>13</td></tr>\n",
       "\t<tr><td>3 </td><td>NA</td><td>12</td></tr>\n",
       "\t<tr><td>2 </td><td>NA</td><td>15</td></tr>\n",
       "\t<tr><td>1 </td><td>10</td><td>11</td></tr>\n",
       "</tbody>\n",
       "</table>\n"
      ],
      "text/latex": [
       "\\begin{tabular}{r|lll}\n",
       " var1 & var2 & var3\\\\\n",
       "\\hline\n",
       "\t 5  &  6 & 14\\\\\n",
       "\t 4  &  9 & 13\\\\\n",
       "\t 3  & NA & 12\\\\\n",
       "\t 2  & NA & 15\\\\\n",
       "\t 1  & 10 & 11\\\\\n",
       "\\end{tabular}\n"
      ],
      "text/markdown": [
       "\n",
       "| var1 | var2 | var3 |\n",
       "|---|---|---|\n",
       "| 5  |  6 | 14 |\n",
       "| 4  |  9 | 13 |\n",
       "| 3  | NA | 12 |\n",
       "| 2  | NA | 15 |\n",
       "| 1  | 10 | 11 |\n",
       "\n"
      ],
      "text/plain": [
       "  var1 var2 var3\n",
       "1 5     6   14  \n",
       "2 4     9   13  \n",
       "3 3    NA   12  \n",
       "4 2    NA   15  \n",
       "5 1    10   11  "
      ]
     },
     "metadata": {},
     "output_type": "display_data"
    }
   ],
   "source": [
    "library(plyr)\n",
    "arrange(X,var1)\n",
    "arrange(X,desc(var1))"
   ]
  },
  {
   "cell_type": "markdown",
   "metadata": {},
   "source": [
    "### Adding rows and columns"
   ]
  },
  {
   "cell_type": "code",
   "execution_count": 9,
   "metadata": {},
   "outputs": [
    {
     "data": {
      "text/html": [
       "<table>\n",
       "<thead><tr><th></th><th scope=col>var1</th><th scope=col>var2</th><th scope=col>var3</th><th scope=col>var4</th></tr></thead>\n",
       "<tbody>\n",
       "\t<tr><th scope=row>1</th><td>2         </td><td>NA        </td><td>15        </td><td> 0.1875960</td></tr>\n",
       "\t<tr><th scope=row>4</th><td>1         </td><td>10        </td><td>11        </td><td> 1.7869764</td></tr>\n",
       "\t<tr><th scope=row>2</th><td>3         </td><td>NA        </td><td>12        </td><td> 0.4966936</td></tr>\n",
       "\t<tr><th scope=row>3</th><td>5         </td><td> 6        </td><td>14        </td><td> 0.0631830</td></tr>\n",
       "\t<tr><th scope=row>5</th><td>4         </td><td> 9        </td><td>13        </td><td>-0.5361329</td></tr>\n",
       "</tbody>\n",
       "</table>\n"
      ],
      "text/latex": [
       "\\begin{tabular}{r|llll}\n",
       "  & var1 & var2 & var3 & var4\\\\\n",
       "\\hline\n",
       "\t1 & 2          & NA         & 15         &  0.1875960\\\\\n",
       "\t4 & 1          & 10         & 11         &  1.7869764\\\\\n",
       "\t2 & 3          & NA         & 12         &  0.4966936\\\\\n",
       "\t3 & 5          &  6         & 14         &  0.0631830\\\\\n",
       "\t5 & 4          &  9         & 13         & -0.5361329\\\\\n",
       "\\end{tabular}\n"
      ],
      "text/markdown": [
       "\n",
       "| <!--/--> | var1 | var2 | var3 | var4 |\n",
       "|---|---|---|---|---|\n",
       "| 1 | 2          | NA         | 15         |  0.1875960 |\n",
       "| 4 | 1          | 10         | 11         |  1.7869764 |\n",
       "| 2 | 3          | NA         | 12         |  0.4966936 |\n",
       "| 3 | 5          |  6         | 14         |  0.0631830 |\n",
       "| 5 | 4          |  9         | 13         | -0.5361329 |\n",
       "\n"
      ],
      "text/plain": [
       "  var1 var2 var3 var4      \n",
       "1 2    NA   15    0.1875960\n",
       "4 1    10   11    1.7869764\n",
       "2 3    NA   12    0.4966936\n",
       "3 5     6   14    0.0631830\n",
       "5 4     9   13   -0.5361329"
      ]
     },
     "metadata": {},
     "output_type": "display_data"
    }
   ],
   "source": [
    "X$var4 <- rnorm(5)\n",
    "X"
   ]
  },
  {
   "cell_type": "markdown",
   "metadata": {},
   "source": [
    "### Adding rows and columns"
   ]
  },
  {
   "cell_type": "code",
   "execution_count": 10,
   "metadata": {},
   "outputs": [
    {
     "data": {
      "text/html": [
       "<table>\n",
       "<thead><tr><th></th><th scope=col>var1</th><th scope=col>var2</th><th scope=col>var3</th><th scope=col>var4</th><th scope=col>rnorm(5)</th></tr></thead>\n",
       "<tbody>\n",
       "\t<tr><th scope=row>1</th><td>2          </td><td>NA         </td><td>15         </td><td> 0.1875960 </td><td> 0.62578490</td></tr>\n",
       "\t<tr><th scope=row>4</th><td>1          </td><td>10         </td><td>11         </td><td> 1.7869764 </td><td>-2.45083750</td></tr>\n",
       "\t<tr><th scope=row>2</th><td>3          </td><td>NA         </td><td>12         </td><td> 0.4966936 </td><td> 0.08909424</td></tr>\n",
       "\t<tr><th scope=row>3</th><td>5          </td><td> 6         </td><td>14         </td><td> 0.0631830 </td><td> 0.47838570</td></tr>\n",
       "\t<tr><th scope=row>5</th><td>4          </td><td> 9         </td><td>13         </td><td>-0.5361329 </td><td> 1.00053336</td></tr>\n",
       "</tbody>\n",
       "</table>\n"
      ],
      "text/latex": [
       "\\begin{tabular}{r|lllll}\n",
       "  & var1 & var2 & var3 & var4 & rnorm(5)\\\\\n",
       "\\hline\n",
       "\t1 & 2           & NA          & 15          &  0.1875960  &  0.62578490\\\\\n",
       "\t4 & 1           & 10          & 11          &  1.7869764  & -2.45083750\\\\\n",
       "\t2 & 3           & NA          & 12          &  0.4966936  &  0.08909424\\\\\n",
       "\t3 & 5           &  6          & 14          &  0.0631830  &  0.47838570\\\\\n",
       "\t5 & 4           &  9          & 13          & -0.5361329  &  1.00053336\\\\\n",
       "\\end{tabular}\n"
      ],
      "text/markdown": [
       "\n",
       "| <!--/--> | var1 | var2 | var3 | var4 | rnorm(5) |\n",
       "|---|---|---|---|---|---|\n",
       "| 1 | 2           | NA          | 15          |  0.1875960  |  0.62578490 |\n",
       "| 4 | 1           | 10          | 11          |  1.7869764  | -2.45083750 |\n",
       "| 2 | 3           | NA          | 12          |  0.4966936  |  0.08909424 |\n",
       "| 3 | 5           |  6          | 14          |  0.0631830  |  0.47838570 |\n",
       "| 5 | 4           |  9          | 13          | -0.5361329  |  1.00053336 |\n",
       "\n"
      ],
      "text/plain": [
       "  var1 var2 var3 var4       rnorm(5)   \n",
       "1 2    NA   15    0.1875960  0.62578490\n",
       "4 1    10   11    1.7869764 -2.45083750\n",
       "2 3    NA   12    0.4966936  0.08909424\n",
       "3 5     6   14    0.0631830  0.47838570\n",
       "5 4     9   13   -0.5361329  1.00053336"
      ]
     },
     "metadata": {},
     "output_type": "display_data"
    }
   ],
   "source": [
    "Y <- cbind(X,rnorm(5))\n",
    "Y"
   ]
  },
  {
   "cell_type": "markdown",
   "metadata": {
    "slideshow": {
     "slide_type": "slide"
    }
   },
   "source": [
    "### Notes and further resources\n",
    "\n",
    "* R programming in the Data Science Track\n",
    "* Andrew Jaffe's lecture notes [http://www.biostat.jhsph.edu/~ajaffe/lec_winterR/Lecture%202.pdf](http://www.biostat.jhsph.edu/~ajaffe/lec_winterR/Lecture%202.pdf)"
   ]
  },
  {
   "cell_type": "markdown",
   "metadata": {},
   "source": [
    "## Summarizing data"
   ]
  },
  {
   "cell_type": "markdown",
   "metadata": {},
   "source": [
    "### Example data set \n",
    "\n",
    "<img class=center src=\"https://raw.githubusercontent.com/DataScienceSpecialization/courses/master/assets/img/03_ObtainingData/restaurants.png\" height=500 />\n",
    "\n",
    "\n",
    "[https://data.baltimorecity.gov/Community/Restaurants/k5ry-ef3g](https://data.baltimorecity.gov/Community/Restaurants/k5ry-ef3g)"
   ]
  },
  {
   "cell_type": "markdown",
   "metadata": {},
   "source": [
    "### Getting the data from the web\n"
   ]
  },
  {
   "cell_type": "code",
   "execution_count": 2,
   "metadata": {},
   "outputs": [],
   "source": [
    "if(!file.exists(\"./data\")){dir.create(\"./data\")}\n",
    "fileUrl <- \"http://data.baltimorecity.gov/api/views/k5ry-ef3g/rows.csv?accessType=DOWNLOAD\"\n",
    "download.file(fileUrl, destfile=\"./data/restaurants.csv\", method = \"curl\")\n",
    "restData <- read.csv(\"./data/restaurants.csv\")"
   ]
  },
  {
   "cell_type": "markdown",
   "metadata": {},
   "source": [
    "### Look at a bit of the data\n"
   ]
  },
  {
   "cell_type": "code",
   "execution_count": 4,
   "metadata": {},
   "outputs": [
    {
     "data": {
      "text/html": [
       "<table>\n",
       "<thead><tr><th scope=col>name</th><th scope=col>zipCode</th><th scope=col>neighborhood</th><th scope=col>councilDistrict</th><th scope=col>policeDistrict</th><th scope=col>Location.1</th></tr></thead>\n",
       "<tbody>\n",
       "\t<tr><td>410                            </td><td>21206                          </td><td>Frankford                      </td><td>2                              </td><td>NORTHEASTERN                   </td><td>4509 BELAIR ROAD\n",
       "Baltimore, MD</td></tr>\n",
       "\t<tr><td>1919                           </td><td>21231                          </td><td>Fells Point                    </td><td>1                              </td><td>SOUTHEASTERN                   </td><td>1919 FLEET ST\n",
       "Baltimore, MD   </td></tr>\n",
       "\t<tr><td>SAUTE                          </td><td>21224                          </td><td>Canton                         </td><td>1                              </td><td>SOUTHEASTERN                   </td><td>2844 HUDSON ST\n",
       "Baltimore, MD  </td></tr>\n",
       "</tbody>\n",
       "</table>\n"
      ],
      "text/latex": [
       "\\begin{tabular}{r|llllll}\n",
       " name & zipCode & neighborhood & councilDistrict & policeDistrict & Location.1\\\\\n",
       "\\hline\n",
       "\t 410                             & 21206                           & Frankford                       & 2                               & NORTHEASTERN                    & 4509 BELAIR ROAD\n",
       "Baltimore, MD\\\\\n",
       "\t 1919                            & 21231                           & Fells Point                     & 1                               & SOUTHEASTERN                    & 1919 FLEET ST\n",
       "Baltimore, MD   \\\\\n",
       "\t SAUTE                           & 21224                           & Canton                          & 1                               & SOUTHEASTERN                    & 2844 HUDSON ST\n",
       "Baltimore, MD  \\\\\n",
       "\\end{tabular}\n"
      ],
      "text/markdown": [
       "\n",
       "| name | zipCode | neighborhood | councilDistrict | policeDistrict | Location.1 |\n",
       "|---|---|---|---|---|---|\n",
       "| 410                             | 21206                           | Frankford                       | 2                               | NORTHEASTERN                    | 4509 BELAIR ROAD\n",
       "Baltimore, MD |\n",
       "| 1919                            | 21231                           | Fells Point                     | 1                               | SOUTHEASTERN                    | 1919 FLEET ST\n",
       "Baltimore, MD    |\n",
       "| SAUTE                           | 21224                           | Canton                          | 1                               | SOUTHEASTERN                    | 2844 HUDSON ST\n",
       "Baltimore, MD   |\n",
       "\n"
      ],
      "text/plain": [
       "  name  zipCode neighborhood councilDistrict policeDistrict\n",
       "1 410   21206   Frankford    2               NORTHEASTERN  \n",
       "2 1919  21231   Fells Point  1               SOUTHEASTERN  \n",
       "3 SAUTE 21224   Canton       1               SOUTHEASTERN  \n",
       "  Location.1                     \n",
       "1 4509 BELAIR ROAD\\nBaltimore, MD\n",
       "2 1919 FLEET ST\\nBaltimore, MD   \n",
       "3 2844 HUDSON ST\\nBaltimore, MD  "
      ]
     },
     "metadata": {},
     "output_type": "display_data"
    },
    {
     "data": {
      "text/html": [
       "<table>\n",
       "<thead><tr><th></th><th scope=col>name</th><th scope=col>zipCode</th><th scope=col>neighborhood</th><th scope=col>councilDistrict</th><th scope=col>policeDistrict</th><th scope=col>Location.1</th></tr></thead>\n",
       "<tbody>\n",
       "\t<tr><th scope=row>1325</th><td>ZINK'S CAF                </td><td>21213                           </td><td>Belair-Edison                   </td><td>13                              </td><td>NORTHEASTERN                    </td><td>3300 LAWNVIEW AVE\n",
       "Baltimore, MD</td></tr>\n",
       "\t<tr><th scope=row>1326</th><td>ZISSIMOS BAR                    </td><td>21211                           </td><td>Hampden                         </td><td> 7                              </td><td>NORTHERN                        </td><td>1023 36TH ST\n",
       "Baltimore, MD     </td></tr>\n",
       "\t<tr><th scope=row>1327</th><td>ZORBAS                          </td><td>21224                           </td><td>Greektown                       </td><td> 2                              </td><td>SOUTHEASTERN                    </td><td>4710 EASTERN Ave\n",
       "Baltimore, MD </td></tr>\n",
       "</tbody>\n",
       "</table>\n"
      ],
      "text/latex": [
       "\\begin{tabular}{r|llllll}\n",
       "  & name & zipCode & neighborhood & councilDistrict & policeDistrict & Location.1\\\\\n",
       "\\hline\n",
       "\t1325 & ZINK'S CAF                 & 21213                            & Belair-Edison                    & 13                               & NORTHEASTERN                     & 3300 LAWNVIEW AVE\n",
       "Baltimore, MD\\\\\n",
       "\t1326 & ZISSIMOS BAR                     & 21211                            & Hampden                          &  7                               & NORTHERN                         & 1023 36TH ST\n",
       "Baltimore, MD     \\\\\n",
       "\t1327 & ZORBAS                           & 21224                            & Greektown                        &  2                               & SOUTHEASTERN                     & 4710 EASTERN Ave\n",
       "Baltimore, MD \\\\\n",
       "\\end{tabular}\n"
      ],
      "text/markdown": [
       "\n",
       "| <!--/--> | name | zipCode | neighborhood | councilDistrict | policeDistrict | Location.1 |\n",
       "|---|---|---|---|---|---|---|\n",
       "| 1325 | ZINK'S CAF                 | 21213                            | Belair-Edison                    | 13                               | NORTHEASTERN                     | 3300 LAWNVIEW AVE\n",
       "Baltimore, MD |\n",
       "| 1326 | ZISSIMOS BAR                     | 21211                            | Hampden                          |  7                               | NORTHERN                         | 1023 36TH ST\n",
       "Baltimore, MD      |\n",
       "| 1327 | ZORBAS                           | 21224                            | Greektown                        |  2                               | SOUTHEASTERN                     | 4710 EASTERN Ave\n",
       "Baltimore, MD  |\n",
       "\n"
      ],
      "text/plain": [
       "     name             zipCode neighborhood  councilDistrict policeDistrict\n",
       "1325 ZINK'S CAF\\u0090 21213   Belair-Edison 13              NORTHEASTERN  \n",
       "1326 ZISSIMOS BAR     21211   Hampden        7              NORTHERN      \n",
       "1327 ZORBAS           21224   Greektown      2              SOUTHEASTERN  \n",
       "     Location.1                      \n",
       "1325 3300 LAWNVIEW AVE\\nBaltimore, MD\n",
       "1326 1023 36TH ST\\nBaltimore, MD     \n",
       "1327 4710 EASTERN Ave\\nBaltimore, MD "
      ]
     },
     "metadata": {},
     "output_type": "display_data"
    }
   ],
   "source": [
    "head(restData,n=3)\n",
    "tail(restData,n=3)\n"
   ]
  },
  {
   "cell_type": "markdown",
   "metadata": {},
   "source": [
    "### Make summary"
   ]
  },
  {
   "cell_type": "code",
   "execution_count": 5,
   "metadata": {},
   "outputs": [
    {
     "data": {
      "text/plain": [
       "                           name         zipCode             neighborhood\n",
       " MCDONALD'S                  :   8   Min.   :-21226   Downtown    :128  \n",
       " POPEYES FAMOUS FRIED CHICKEN:   7   1st Qu.: 21202   Fells Point : 91  \n",
       " SUBWAY                      :   6   Median : 21218   Inner Harbor: 89  \n",
       " KENTUCKY FRIED CHICKEN      :   5   Mean   : 21185   Canton      : 81  \n",
       " BURGER KING                 :   4   3rd Qu.: 21226   Federal Hill: 42  \n",
       " DUNKIN DONUTS               :   4   Max.   : 21287   Mount Vernon: 33  \n",
       " (Other)                     :1293                    (Other)     :863  \n",
       " councilDistrict       policeDistrict                         Location.1   \n",
       " Min.   : 1.000   SOUTHEASTERN:385    1101 RUSSELL ST\\nBaltimore, MD:   9  \n",
       " 1st Qu.: 2.000   CENTRAL     :288    201 PRATT ST\\nBaltimore, MD   :   8  \n",
       " Median : 9.000   SOUTHERN    :213    2400 BOSTON ST\\nBaltimore, MD :   8  \n",
       " Mean   : 7.191   NORTHERN    :157    300 LIGHT ST\\nBaltimore, MD   :   5  \n",
       " 3rd Qu.:11.000   NORTHEASTERN: 72    300 CHARLES ST\\nBaltimore, MD :   4  \n",
       " Max.   :14.000   EASTERN     : 67    301 LIGHT ST\\nBaltimore, MD   :   4  \n",
       "                  (Other)     :145    (Other)                       :1289  "
      ]
     },
     "metadata": {},
     "output_type": "display_data"
    }
   ],
   "source": [
    "summary(restData)"
   ]
  },
  {
   "cell_type": "markdown",
   "metadata": {},
   "source": [
    "### More in depth information"
   ]
  },
  {
   "cell_type": "code",
   "execution_count": 6,
   "metadata": {},
   "outputs": [
    {
     "name": "stdout",
     "output_type": "stream",
     "text": [
      "'data.frame':\t1327 obs. of  6 variables:\n",
      " $ name           : Factor w/ 1277 levels \"#1 CHINESE KITCHEN\",..: 9 3 992 1 2 4 5 6 7 8 ...\n",
      " $ zipCode        : int  21206 21231 21224 21211 21223 21218 21205 21211 21205 21231 ...\n",
      " $ neighborhood   : Factor w/ 173 levels \"Abell\",\"Arlington\",..: 53 52 18 66 104 33 98 133 98 157 ...\n",
      " $ councilDistrict: int  2 1 1 14 9 14 13 7 13 1 ...\n",
      " $ policeDistrict : Factor w/ 9 levels \"CENTRAL\",\"EASTERN\",..: 3 6 6 4 8 3 6 4 6 6 ...\n",
      " $ Location.1     : Factor w/ 1210 levels \"1 BIDDLE ST\\nBaltimore, MD\",..: 835 334 554 755 492 537 505 530 507 569 ...\n"
     ]
    }
   ],
   "source": [
    "str(restData)"
   ]
  },
  {
   "cell_type": "markdown",
   "metadata": {},
   "source": [
    "### Quantiles of quantitative variables"
   ]
  },
  {
   "cell_type": "code",
   "execution_count": 7,
   "metadata": {},
   "outputs": [
    {
     "data": {
      "text/html": [
       "<dl class=dl-horizontal>\n",
       "\t<dt>0%</dt>\n",
       "\t\t<dd>1</dd>\n",
       "\t<dt>25%</dt>\n",
       "\t\t<dd>2</dd>\n",
       "\t<dt>50%</dt>\n",
       "\t\t<dd>9</dd>\n",
       "\t<dt>75%</dt>\n",
       "\t\t<dd>11</dd>\n",
       "\t<dt>100%</dt>\n",
       "\t\t<dd>14</dd>\n",
       "</dl>\n"
      ],
      "text/latex": [
       "\\begin{description*}\n",
       "\\item[0\\textbackslash{}\\%] 1\n",
       "\\item[25\\textbackslash{}\\%] 2\n",
       "\\item[50\\textbackslash{}\\%] 9\n",
       "\\item[75\\textbackslash{}\\%] 11\n",
       "\\item[100\\textbackslash{}\\%] 14\n",
       "\\end{description*}\n"
      ],
      "text/markdown": [
       "0%\n",
       ":   125%\n",
       ":   250%\n",
       ":   975%\n",
       ":   11100%\n",
       ":   14\n",
       "\n"
      ],
      "text/plain": [
       "  0%  25%  50%  75% 100% \n",
       "   1    2    9   11   14 "
      ]
     },
     "metadata": {},
     "output_type": "display_data"
    },
    {
     "data": {
      "text/html": [
       "<dl class=dl-horizontal>\n",
       "\t<dt>50%</dt>\n",
       "\t\t<dd>9</dd>\n",
       "\t<dt>75%</dt>\n",
       "\t\t<dd>11</dd>\n",
       "\t<dt>90%</dt>\n",
       "\t\t<dd>12</dd>\n",
       "</dl>\n"
      ],
      "text/latex": [
       "\\begin{description*}\n",
       "\\item[50\\textbackslash{}\\%] 9\n",
       "\\item[75\\textbackslash{}\\%] 11\n",
       "\\item[90\\textbackslash{}\\%] 12\n",
       "\\end{description*}\n"
      ],
      "text/markdown": [
       "50%\n",
       ":   975%\n",
       ":   1190%\n",
       ":   12\n",
       "\n"
      ],
      "text/plain": [
       "50% 75% 90% \n",
       "  9  11  12 "
      ]
     },
     "metadata": {},
     "output_type": "display_data"
    }
   ],
   "source": [
    "quantile(restData$councilDistrict,na.rm=TRUE)\n",
    "quantile(restData$councilDistrict,probs=c(0.5,0.75,0.9))\n"
   ]
  },
  {
   "cell_type": "markdown",
   "metadata": {},
   "source": [
    "### Make table"
   ]
  },
  {
   "cell_type": "code",
   "execution_count": 8,
   "metadata": {},
   "outputs": [
    {
     "data": {
      "text/plain": [
       "\n",
       "-21226  21201  21202  21205  21206  21207  21208  21209  21210  21211  21212 \n",
       "     1    136    201     27     30      4      1      8     23     41     28 \n",
       " 21213  21214  21215  21216  21217  21218  21220  21222  21223  21224  21225 \n",
       "    31     17     54     10     32     69      1      7     56    199     19 \n",
       " 21226  21227  21229  21230  21231  21234  21237  21239  21251  21287 \n",
       "    18      4     13    156    127      7      1      3      2      1 "
      ]
     },
     "metadata": {},
     "output_type": "display_data"
    }
   ],
   "source": [
    "table(restData$zipCode,useNA=\"ifany\")"
   ]
  },
  {
   "cell_type": "markdown",
   "metadata": {},
   "source": [
    "### Make table"
   ]
  },
  {
   "cell_type": "code",
   "execution_count": 9,
   "metadata": {},
   "outputs": [
    {
     "data": {
      "text/plain": [
       "    \n",
       "     -21226 21201 21202 21205 21206 21207 21208 21209 21210 21211 21212 21213\n",
       "  1       0     0    37     0     0     0     0     0     0     0     0     2\n",
       "  2       0     0     0     3    27     0     0     0     0     0     0     0\n",
       "  3       0     0     0     0     0     0     0     0     0     0     0     2\n",
       "  4       0     0     0     0     0     0     0     0     0     0    27     0\n",
       "  5       0     0     0     0     0     3     0     6     0     0     0     0\n",
       "  6       0     0     0     0     0     0     0     1    19     0     0     0\n",
       "  7       0     0     0     0     0     0     0     1     0    27     0     0\n",
       "  8       0     0     0     0     0     1     0     0     0     0     0     0\n",
       "  9       0     1     0     0     0     0     0     0     0     0     0     0\n",
       "  10      1     0     1     0     0     0     0     0     0     0     0     0\n",
       "  11      0   115   139     0     0     0     1     0     0     0     1     0\n",
       "  12      0    20    24     4     0     0     0     0     0     0     0    13\n",
       "  13      0     0     0    20     3     0     0     0     0     0     0    13\n",
       "  14      0     0     0     0     0     0     0     0     4    14     0     1\n",
       "    \n",
       "     21214 21215 21216 21217 21218 21220 21222 21223 21224 21225 21226 21227\n",
       "  1      0     0     0     0     0     0     7     0   140     1     0     0\n",
       "  2      0     0     0     0     0     0     0     0    54     0     0     0\n",
       "  3     17     0     0     0     3     0     0     0     0     0     0     1\n",
       "  4      0     0     0     0     0     0     0     0     0     0     0     0\n",
       "  5      0    31     0     0     0     0     0     0     0     0     0     0\n",
       "  6      0    15     1     0     0     0     0     0     0     0     0     0\n",
       "  7      0     6     7    15     6     0     0     0     0     0     0     0\n",
       "  8      0     0     0     0     0     0     0     2     0     0     0     2\n",
       "  9      0     0     2     8     0     0     0    53     0     0     0     0\n",
       "  10     0     0     0     0     0     1     0     0     0    18    18     0\n",
       "  11     0     0     0     9     0     0     0     1     0     0     0     0\n",
       "  12     0     0     0     0    26     0     0     0     0     0     0     0\n",
       "  13     0     1     0     0     0     0     0     0     5     0     0     1\n",
       "  14     0     1     0     0    34     0     0     0     0     0     0     0\n",
       "    \n",
       "     21229 21230 21231 21234 21237 21239 21251 21287\n",
       "  1      0     1   124     0     0     0     0     0\n",
       "  2      0     0     0     0     1     0     0     0\n",
       "  3      0     0     0     7     0     0     2     0\n",
       "  4      0     0     0     0     0     3     0     0\n",
       "  5      0     0     0     0     0     0     0     0\n",
       "  6      0     0     0     0     0     0     0     0\n",
       "  7      0     0     0     0     0     0     0     0\n",
       "  8     13     0     0     0     0     0     0     0\n",
       "  9      0    11     0     0     0     0     0     0\n",
       "  10     0   133     0     0     0     0     0     0\n",
       "  11     0    11     0     0     0     0     0     0\n",
       "  12     0     0     2     0     0     0     0     0\n",
       "  13     0     0     1     0     0     0     0     1\n",
       "  14     0     0     0     0     0     0     0     0"
      ]
     },
     "metadata": {},
     "output_type": "display_data"
    }
   ],
   "source": [
    "table(restData$councilDistrict,restData$zipCode)"
   ]
  },
  {
   "cell_type": "markdown",
   "metadata": {},
   "source": [
    "### Check for missing values"
   ]
  },
  {
   "cell_type": "code",
   "execution_count": 10,
   "metadata": {},
   "outputs": [
    {
     "data": {
      "text/html": [
       "0"
      ],
      "text/latex": [
       "0"
      ],
      "text/markdown": [
       "0"
      ],
      "text/plain": [
       "[1] 0"
      ]
     },
     "metadata": {},
     "output_type": "display_data"
    },
    {
     "data": {
      "text/html": [
       "FALSE"
      ],
      "text/latex": [
       "FALSE"
      ],
      "text/markdown": [
       "FALSE"
      ],
      "text/plain": [
       "[1] FALSE"
      ]
     },
     "metadata": {},
     "output_type": "display_data"
    },
    {
     "data": {
      "text/html": [
       "FALSE"
      ],
      "text/latex": [
       "FALSE"
      ],
      "text/markdown": [
       "FALSE"
      ],
      "text/plain": [
       "[1] FALSE"
      ]
     },
     "metadata": {},
     "output_type": "display_data"
    }
   ],
   "source": [
    "sum(is.na(restData$councilDistrict))\n",
    "any(is.na(restData$councilDistrict))\n",
    "all(restData$zipCode > 0)"
   ]
  },
  {
   "cell_type": "markdown",
   "metadata": {},
   "source": [
    "### Row and column sums"
   ]
  },
  {
   "cell_type": "code",
   "execution_count": 11,
   "metadata": {},
   "outputs": [
    {
     "data": {
      "text/html": [
       "<dl class=dl-horizontal>\n",
       "\t<dt>name</dt>\n",
       "\t\t<dd>0</dd>\n",
       "\t<dt>zipCode</dt>\n",
       "\t\t<dd>0</dd>\n",
       "\t<dt>neighborhood</dt>\n",
       "\t\t<dd>0</dd>\n",
       "\t<dt>councilDistrict</dt>\n",
       "\t\t<dd>0</dd>\n",
       "\t<dt>policeDistrict</dt>\n",
       "\t\t<dd>0</dd>\n",
       "\t<dt>Location.1</dt>\n",
       "\t\t<dd>0</dd>\n",
       "</dl>\n"
      ],
      "text/latex": [
       "\\begin{description*}\n",
       "\\item[name] 0\n",
       "\\item[zipCode] 0\n",
       "\\item[neighborhood] 0\n",
       "\\item[councilDistrict] 0\n",
       "\\item[policeDistrict] 0\n",
       "\\item[Location.1] 0\n",
       "\\end{description*}\n"
      ],
      "text/markdown": [
       "name\n",
       ":   0zipCode\n",
       ":   0neighborhood\n",
       ":   0councilDistrict\n",
       ":   0policeDistrict\n",
       ":   0Location.1\n",
       ":   0\n",
       "\n"
      ],
      "text/plain": [
       "           name         zipCode    neighborhood councilDistrict  policeDistrict \n",
       "              0               0               0               0               0 \n",
       "     Location.1 \n",
       "              0 "
      ]
     },
     "metadata": {},
     "output_type": "display_data"
    },
    {
     "data": {
      "text/html": [
       "TRUE"
      ],
      "text/latex": [
       "TRUE"
      ],
      "text/markdown": [
       "TRUE"
      ],
      "text/plain": [
       "[1] TRUE"
      ]
     },
     "metadata": {},
     "output_type": "display_data"
    }
   ],
   "source": [
    "colSums(is.na(restData))\n",
    "all(colSums(is.na(restData))==0)"
   ]
  },
  {
   "cell_type": "markdown",
   "metadata": {},
   "source": [
    "### Values with specific characteristics"
   ]
  },
  {
   "cell_type": "code",
   "execution_count": 12,
   "metadata": {},
   "outputs": [
    {
     "data": {
      "text/plain": [
       "\n",
       "FALSE  TRUE \n",
       " 1299    28 "
      ]
     },
     "metadata": {},
     "output_type": "display_data"
    },
    {
     "data": {
      "text/plain": [
       "\n",
       "FALSE  TRUE \n",
       " 1268    59 "
      ]
     },
     "metadata": {},
     "output_type": "display_data"
    }
   ],
   "source": [
    "table(restData$zipCode %in% c(\"21212\"))\n",
    "table(restData$zipCode %in% c(\"21212\",\"21213\"))"
   ]
  },
  {
   "cell_type": "markdown",
   "metadata": {},
   "source": [
    "### Values with specific characteristics"
   ]
  },
  {
   "cell_type": "code",
   "execution_count": 13,
   "metadata": {},
   "outputs": [
    {
     "data": {
      "text/html": [
       "<table>\n",
       "<thead><tr><th></th><th scope=col>name</th><th scope=col>zipCode</th><th scope=col>neighborhood</th><th scope=col>councilDistrict</th><th scope=col>policeDistrict</th><th scope=col>Location.1</th></tr></thead>\n",
       "<tbody>\n",
       "\t<tr><th scope=row>29</th><td>BAY ATLANTIC CLUB                   </td><td>21212                               </td><td>Downtown                            </td><td>11                                  </td><td>CENTRAL                             </td><td>206 REDWOOD ST\n",
       "Baltimore, MD       </td></tr>\n",
       "\t<tr><th scope=row>39</th><td>BERMUDA BAR                         </td><td>21213                               </td><td>Broadway East                       </td><td>12                                  </td><td>EASTERN                             </td><td>1801 NORTH AVE\n",
       "Baltimore, MD       </td></tr>\n",
       "\t<tr><th scope=row>92</th><td>ATWATER'S                           </td><td>21212                               </td><td>Chinquapin Park-Belvedere           </td><td> 4                                  </td><td>NORTHERN                            </td><td>529 BELVEDERE AVE\n",
       "Baltimore, MD    </td></tr>\n",
       "\t<tr><th scope=row>111</th><td>BALTIMORE ESTONIAN SOCIETY          </td><td>21213                               </td><td>South Clifton Park                  </td><td>12                                  </td><td>EASTERN                             </td><td>1932 BELAIR RD\n",
       "Baltimore, MD       </td></tr>\n",
       "\t<tr><th scope=row>187</th><td>CAFE ZEN                            </td><td>21212                               </td><td>Rosebank                            </td><td> 4                                  </td><td>NORTHERN                            </td><td>438 BELVEDERE AVE\n",
       "Baltimore, MD    </td></tr>\n",
       "\t<tr><th scope=row>220</th><td>CERIELLO FINE FOODS                 </td><td>21212                               </td><td>Chinquapin Park-Belvedere           </td><td> 4                                  </td><td>NORTHERN                            </td><td>529 BELVEDERE AVE\n",
       "Baltimore, MD    </td></tr>\n",
       "\t<tr><th scope=row>266</th><td>CLIFTON PARK GOLF COURSE SNACK BAR  </td><td>21213                               </td><td>Darley Park                         </td><td>14                                  </td><td>NORTHEASTERN                        </td><td>2701 ST LO DR\n",
       "Baltimore, MD        </td></tr>\n",
       "\t<tr><th scope=row>276</th><td><span style=white-space:pre-wrap>CLUB HOUSE BAR &amp; GRILL              </span></td><td>21213                                                                           </td><td>Orangeville Industrial Area                                                     </td><td>13                                                                              </td><td><span style=white-space:pre-wrap>EASTERN     </span>                            </td><td><span style=white-space:pre-wrap>4217 ERDMAN AVE\n",
       "Baltimore, MD    </span>      </td></tr>\n",
       "\t<tr><th scope=row>289</th><td><span style=white-space:pre-wrap>CLUBHOUSE BAR &amp; GRILL               </span></td><td>21213                                                                           </td><td>Orangeville Industrial Area                                                     </td><td>13                                                                              </td><td><span style=white-space:pre-wrap>EASTERN     </span>                            </td><td><span style=white-space:pre-wrap>4217 ERDMAN AVE\n",
       "Baltimore, MD    </span>      </td></tr>\n",
       "\t<tr><th scope=row>291</th><td>COCKY LOU'S                         </td><td>21213                               </td><td>Broadway East                       </td><td>12                                  </td><td>EASTERN                             </td><td>2101 NORTH AVE\n",
       "Baltimore, MD       </td></tr>\n",
       "\t<tr><th scope=row>362</th><td>DREAM TAVERN, CARRIBEAN  U.S.A.     </td><td>21213                               </td><td>Broadway East                       </td><td>13                                  </td><td>EASTERN                             </td><td>2300 LAFAYETTE AVE\n",
       "Baltimore, MD   </td></tr>\n",
       "\t<tr><th scope=row>373</th><td>DUNKIN DONUTS                       </td><td>21212                               </td><td>Homeland                            </td><td> 4                                  </td><td>NORTHERN                            </td><td>5422 YORK RD\n",
       "Baltimore, MD         </td></tr>\n",
       "\t<tr><th scope=row>383</th><td>EASTSIDE  SPORTS  SOCIAL  CLUB      </td><td>21213                               </td><td>Broadway East                       </td><td>13                                  </td><td>EASTERN                             </td><td>1203 COLLINGTON AVE\n",
       "Baltimore, MD  </td></tr>\n",
       "\t<tr><th scope=row>417</th><td>FIELDS OLD TRAIL                    </td><td>21212                               </td><td>Mid-Govans                          </td><td> 4                                  </td><td>NORTHERN                            </td><td>5723 YORK RD\n",
       "Baltimore, MD         </td></tr>\n",
       "\t<tr><th scope=row>475</th><td>GRAND CRU                           </td><td>21212                               </td><td>Chinquapin Park-Belvedere           </td><td> 4                                  </td><td>NORTHERN                            </td><td>527 BELVEDERE AVE\n",
       "Baltimore, MD    </td></tr>\n",
       "\t<tr><th scope=row>545</th><td>RANDY'S BAR                         </td><td>21213                               </td><td>Broadway East                       </td><td>12                                  </td><td>EASTERN                             </td><td>2135 NORTH AVE\n",
       "Baltimore, MD       </td></tr>\n",
       "\t<tr><th scope=row>604</th><td><span style=white-space:pre-wrap>MURPHY'S NEIGHBORHOOD BAR &amp; GRILL   </span></td><td>21212                                                                           </td><td><span style=white-space:pre-wrap>Mid-Govans                 </span>             </td><td> 4                                                                              </td><td><span style=white-space:pre-wrap>NORTHERN    </span>                            </td><td><span style=white-space:pre-wrap>5847 YORK RD\n",
       "Baltimore, MD       </span>      </td></tr>\n",
       "\t<tr><th scope=row>616</th><td>NEOPOL                              </td><td>21212                               </td><td>Chinquapin Park-Belvedere           </td><td> 4                                  </td><td>NORTHERN                            </td><td>529 BELVEDERE AVE\n",
       "Baltimore, MD    </td></tr>\n",
       "\t<tr><th scope=row>620</th><td>NEW CLUB THUNDERBIRD INC.           </td><td>21213                               </td><td>Middle East                         </td><td>13                                  </td><td>EASTERN                             </td><td>2201 CHASE ST\n",
       "Baltimore, MD        </td></tr>\n",
       "\t<tr><th scope=row>626</th><td>NEW MAYFIELD, INC.                  </td><td>21213                               </td><td>Belair-Edison                       </td><td>13                                  </td><td>NORTHEASTERN                        </td><td>3349 BELAIR RD\n",
       "Baltimore, MD       </td></tr>\n",
       "\t<tr><th scope=row>678</th><td>IKAN SEAFOOD                        </td><td>21212                               </td><td>Chinquapin Park-Belvedere           </td><td> 4                                  </td><td>NORTHERN                            </td><td>529 BELVEDERE AVE\n",
       "Baltimore, MD    </td></tr>\n",
       "\t<tr><th scope=row>711</th><td>KAY-CEE CLUB                        </td><td>21212                               </td><td>Homeland                            </td><td> 4                                  </td><td>NORTHERN                            </td><td>201 HOMELAND AVE\n",
       "Baltimore, MD     </td></tr>\n",
       "\t<tr><th scope=row>763</th><td>LA'RAE                              </td><td>21213                               </td><td>Oliver                              </td><td>12                                  </td><td>EASTERN                             </td><td>1000 HOFFMAN ST\n",
       "Baltimore, MD      </td></tr>\n",
       "\t<tr><th scope=row>777</th><td>LEMONGRASS BALTIMORE                </td><td>21213                               </td><td>Little Italy                        </td><td> 1                                  </td><td>SOUTHEASTERN                        </td><td>1300 BANK STREET\n",
       "Baltimore, MD     </td></tr>\n",
       "\t<tr><th scope=row>779</th><td>LEN'S SANDWICH SHOP                 </td><td>21213                               </td><td>Broadway East                       </td><td>12                                  </td><td>EASTERN                             </td><td>1500 WASHINGTON ST\n",
       "Baltimore, MD   </td></tr>\n",
       "\t<tr><th scope=row>845</th><td>MCDONALD'S                          </td><td>21213                               </td><td>South Clifton Park                  </td><td>12                                  </td><td>EASTERN                             </td><td>2001 BROADWAY\n",
       "Baltimore, MD        </td></tr>\n",
       "\t<tr><th scope=row>852</th><td>MCDONALD'S                          </td><td>21212                               </td><td>Radnor-Winston                      </td><td> 4                                  </td><td>NORTHERN                            </td><td>5100 YORK RD\n",
       "Baltimore, MD         </td></tr>\n",
       "\t<tr><th scope=row>873</th><td>NEW REX LIQUORS,INC.                </td><td>21212                               </td><td>Wilson Park                         </td><td> 4                                  </td><td>NORTHERN                            </td><td>4637 YORK RD\n",
       "Baltimore, MD         </td></tr>\n",
       "\t<tr><th scope=row>895</th><td>OK TAVERN                           </td><td>21213                               </td><td>Biddle Street                       </td><td>13                                  </td><td>EASTERN                             </td><td>2301 BIDDLE ST\n",
       "Baltimore, MD       </td></tr>\n",
       "\t<tr><th scope=row>919</th><td>PANERA BREAD                        </td><td>21212                               </td><td>Lake Walker                         </td><td> 4                                  </td><td>NORTHERN                            </td><td>6307 1 2 YORK RD\n",
       "Baltimore, MD     </td></tr>\n",
       "\t<tr><th scope=row>940</th><td>PEIWEI ASIAN DINER                  </td><td>21212                               </td><td>Cedarcroft                          </td><td> 4                                  </td><td>NORTHERN                            </td><td>6302 YORK RD\n",
       "Baltimore, MD         </td></tr>\n",
       "\t<tr><th scope=row>949</th><td>PERGUSA ENTERPRISES                 </td><td>21212                               </td><td>Rosebank                            </td><td> 4                                  </td><td>NORTHERN                            </td><td>5928 YORK RD\n",
       "Baltimore, MD         </td></tr>\n",
       "\t<tr><th scope=row>957</th><td>PHANTOM'S BAR AND GRILL             </td><td>21213                               </td><td>Belair-Edison                       </td><td> 3                                  </td><td>NORTHEASTERN                        </td><td>3539 BELAIR RD\n",
       "Baltimore, MD       </td></tr>\n",
       "\t<tr><th scope=row>976</th><td>POPEYES FAMOUS FRIED CHICKEN        </td><td>21212                               </td><td>Winston-Govans                      </td><td> 4                                  </td><td>NORTHERN                            </td><td>5002 YORK RD\n",
       "Baltimore, MD         </td></tr>\n",
       "\t<tr><th scope=row>994</th><td>ROBBIE'S NEST                       </td><td>21213                               </td><td>Broadway East                       </td><td>12                                  </td><td>EASTERN                             </td><td>2250 NORTH AVE\n",
       "Baltimore, MD       </td></tr>\n",
       "\t<tr><th scope=row>1017</th><td>RUTLAND BAR                         </td><td>21213                               </td><td>Broadway East                       </td><td>12                                  </td><td>EASTERN                             </td><td>1508 RUTLAND AVE\n",
       "Baltimore, MD     </td></tr>\n",
       "\t<tr><th scope=row>1018</th><td>RYAN'S DAUGHTER                     </td><td>21212                               </td><td>Chinquapin Park-Belvedere           </td><td> 4                                  </td><td>NORTHERN                            </td><td>600 BELVEDERE AVE\n",
       "Baltimore, MD    </td></tr>\n",
       "\t<tr><th scope=row>1022</th><td>saigon remembered restaurant        </td><td>21212                               </td><td>Mid-Govans                          </td><td> 4                                  </td><td>NORTHERN                            </td><td>5857 york rd\n",
       "Baltimore, MD         </td></tr>\n",
       "\t<tr><th scope=row>1053</th><td>SHIRLEY'S  HONEY HOLE               </td><td>21213                               </td><td>Broadway East                       </td><td>13                                  </td><td>EASTERN                             </td><td>2300 OLIVER ST\n",
       "Baltimore, MD       </td></tr>\n",
       "\t<tr><th scope=row>1120</th><td>STEEPLE CHASE II                    </td><td>21213                               </td><td>Biddle Street                       </td><td>13                                  </td><td>EASTERN                             </td><td>2401 CHASE ST\n",
       "Baltimore, MD        </td></tr>\n",
       "\t<tr><th scope=row>1122</th><td>SUBWAY                              </td><td>21213                               </td><td>Oliver                              </td><td>12                                  </td><td>EASTERN                             </td><td>1400 NORTH AVE\n",
       "Baltimore, MD       </td></tr>\n",
       "\t<tr><th scope=row>1153</th><td>TAM-TAM                             </td><td>21212                               </td><td>Mid-Govans                          </td><td> 4                                  </td><td>NORTHERN                            </td><td>5722 YORK RD\n",
       "Baltimore, MD         </td></tr>\n",
       "\t<tr><th scope=row>1155</th><td>TASTE                               </td><td>21212                               </td><td>Mid-Govans                          </td><td> 4                                  </td><td>NORTHERN                            </td><td>510 BELVEDERE AVE\n",
       "Baltimore, MD    </td></tr>\n",
       "\t<tr><th scope=row>1159</th><td>TAYLORS EAST                        </td><td>21213                               </td><td>Berea                               </td><td>13                                  </td><td>EASTERN                             </td><td>1201 POTOMAC ST\n",
       "Baltimore, MD      </td></tr>\n",
       "\t<tr><th scope=row>1186</th><td><span style=white-space:pre-wrap>THE EDGE BAR &amp; LOUNGE               </span></td><td>21213                                                                           </td><td><span style=white-space:pre-wrap>Broadway East              </span>             </td><td>12                                                                              </td><td><span style=white-space:pre-wrap>EASTERN     </span>                            </td><td><span style=white-space:pre-wrap>2015 FEDERAL ST\n",
       "Baltimore, MD    </span>      </td></tr>\n",
       "\t<tr><th scope=row>1187</th><td>THE EDGE BAR &amp; LOUNGE - KITCHEN AREA                                  </td><td>21213                                                                     </td><td><span style=white-space:pre-wrap>Broadway East              </span>       </td><td>12                                                                        </td><td><span style=white-space:pre-wrap>EASTERN     </span>                      </td><td><span style=white-space:pre-wrap>2015 FEDERAL ST\n",
       "Baltimore, MD    </span></td></tr>\n",
       "\t<tr><th scope=row>1198</th><td><span style=white-space:pre-wrap>THE HOLLOW BAR &amp; GRILL              </span></td><td>21212                                                                           </td><td><span style=white-space:pre-wrap>Rosebank                   </span>             </td><td> 4                                                                              </td><td><span style=white-space:pre-wrap>NORTHERN    </span>                            </td><td><span style=white-space:pre-wrap>5921 YORK RD\n",
       "Baltimore, MD       </span>      </td></tr>\n",
       "\t<tr><th scope=row>1209</th><td>THE NEW BUCKETT'S LOUNGE            </td><td>21213                               </td><td>Broadway East                       </td><td>13                                  </td><td>EASTERN                             </td><td>1432 CHESTER ST\n",
       "Baltimore, MD      </td></tr>\n",
       "\t<tr><th scope=row>1232</th><td>THREE  ACE'S                        </td><td>21213                               </td><td>Belair-Edison                       </td><td> 3                                  </td><td>NORTHEASTERN                        </td><td>3534 belair RD\n",
       "Baltimore, MD       </td></tr>\n",
       "\t<tr><th scope=row>1246</th><td>TORAIN'S  HIDE-A-WAY                </td><td>21213                               </td><td>Broadway East                       </td><td>12                                  </td><td>EASTERN                             </td><td>1701 ELLSWORTH ST\n",
       "Baltimore, MD    </td></tr>\n",
       "\t<tr><th scope=row>1259</th><td>TSUNAMI BALTIMORE                   </td><td>21213                               </td><td>Little Italy                        </td><td> 1                                  </td><td>SOUTHEASTERN                        </td><td>1300 BANK ST\n",
       "Baltimore, MD         </td></tr>\n",
       "\t<tr><th scope=row>1287</th><td>VITO'S PIZZA                        </td><td>21212                               </td><td>Cedarcroft                          </td><td> 4                                  </td><td>NORTHERN                            </td><td>6304 YORK RD\n",
       "Baltimore, MD         </td></tr>\n",
       "\t<tr><th scope=row>1298</th><td>WENDY'S OLD FASHIONED HAMBURGERS #96</td><td>21212                               </td><td>Homeland                            </td><td> 4                                  </td><td>NORTHERN                            </td><td>5615 YORK RD\n",
       "Baltimore, MD         </td></tr>\n",
       "\t<tr><th scope=row>1304</th><td>WHITTEN'S  (4502-04)                </td><td>21213                               </td><td>Claremont-Freedom                   </td><td>13                                  </td><td>NORTHEASTERN                        </td><td>4502 ERDMAN AVE\n",
       "Baltimore, MD      </td></tr>\n",
       "\t<tr><th scope=row>1312</th><td>wozi lounge                         </td><td>21212                               </td><td>Guilford                            </td><td> 4                                  </td><td>NORTHERN                            </td><td>4515 YORK RD\n",
       "Baltimore, MD         </td></tr>\n",
       "\t<tr><th scope=row>1319</th><td><span style=white-space:pre-wrap>YETI RESTAURANT &amp; CARRYOUT          </span></td><td>21212                                                                           </td><td><span style=white-space:pre-wrap>Rosebank                   </span>             </td><td> 4                                                                              </td><td><span style=white-space:pre-wrap>NORTHERN    </span>                            </td><td><span style=white-space:pre-wrap>5926 YORK RD\n",
       "Baltimore, MD       </span>      </td></tr>\n",
       "\t<tr><th scope=row>1320</th><td>YORK CLUB TAVERN                    </td><td>21212                               </td><td>Homeland                            </td><td> 4                                  </td><td>NORTHERN                            </td><td>5407 YORK RD\n",
       "Baltimore, MD         </td></tr>\n",
       "\t<tr><th scope=row>1323</th><td>ZEN WEST ROADSIDE CANTINA           </td><td>21212                               </td><td>Rosebank                            </td><td> 4                                  </td><td>NORTHERN                            </td><td>5916 YORK RD\n",
       "Baltimore, MD         </td></tr>\n",
       "\t<tr><th scope=row>1325</th><td>ZINK'S CAF                    </td><td>21213                               </td><td>Belair-Edison                       </td><td>13                                  </td><td>NORTHEASTERN                        </td><td>3300 LAWNVIEW AVE\n",
       "Baltimore, MD    </td></tr>\n",
       "</tbody>\n",
       "</table>\n"
      ],
      "text/latex": [
       "\\begin{tabular}{r|llllll}\n",
       "  & name & zipCode & neighborhood & councilDistrict & policeDistrict & Location.1\\\\\n",
       "\\hline\n",
       "\t29 & BAY ATLANTIC CLUB                    & 21212                                & Downtown                             & 11                                   & CENTRAL                              & 206 REDWOOD ST\n",
       "Baltimore, MD       \\\\\n",
       "\t39 & BERMUDA BAR                          & 21213                                & Broadway East                        & 12                                   & EASTERN                              & 1801 NORTH AVE\n",
       "Baltimore, MD       \\\\\n",
       "\t92 & ATWATER'S                            & 21212                                & Chinquapin Park-Belvedere            &  4                                   & NORTHERN                             & 529 BELVEDERE AVE\n",
       "Baltimore, MD    \\\\\n",
       "\t111 & BALTIMORE ESTONIAN SOCIETY           & 21213                                & South Clifton Park                   & 12                                   & EASTERN                              & 1932 BELAIR RD\n",
       "Baltimore, MD       \\\\\n",
       "\t187 & CAFE ZEN                             & 21212                                & Rosebank                             &  4                                   & NORTHERN                             & 438 BELVEDERE AVE\n",
       "Baltimore, MD    \\\\\n",
       "\t220 & CERIELLO FINE FOODS                  & 21212                                & Chinquapin Park-Belvedere            &  4                                   & NORTHERN                             & 529 BELVEDERE AVE\n",
       "Baltimore, MD    \\\\\n",
       "\t266 & CLIFTON PARK GOLF COURSE SNACK BAR   & 21213                                & Darley Park                          & 14                                   & NORTHEASTERN                         & 2701 ST LO DR\n",
       "Baltimore, MD        \\\\\n",
       "\t276 & CLUB HOUSE BAR \\& GRILL               & 21213                                  & Orangeville Industrial Area            & 13                                     & EASTERN                                & 4217 ERDMAN AVE\n",
       "Baltimore, MD        \\\\\n",
       "\t289 & CLUBHOUSE BAR \\& GRILL                & 21213                                  & Orangeville Industrial Area            & 13                                     & EASTERN                                & 4217 ERDMAN AVE\n",
       "Baltimore, MD        \\\\\n",
       "\t291 & COCKY LOU'S                          & 21213                                & Broadway East                        & 12                                   & EASTERN                              & 2101 NORTH AVE\n",
       "Baltimore, MD       \\\\\n",
       "\t362 & DREAM TAVERN, CARRIBEAN  U.S.A.      & 21213                                & Broadway East                        & 13                                   & EASTERN                              & 2300 LAFAYETTE AVE\n",
       "Baltimore, MD   \\\\\n",
       "\t373 & DUNKIN DONUTS                        & 21212                                & Homeland                             &  4                                   & NORTHERN                             & 5422 YORK RD\n",
       "Baltimore, MD         \\\\\n",
       "\t383 & EASTSIDE  SPORTS  SOCIAL  CLUB       & 21213                                & Broadway East                        & 13                                   & EASTERN                              & 1203 COLLINGTON AVE\n",
       "Baltimore, MD  \\\\\n",
       "\t417 & FIELDS OLD TRAIL                     & 21212                                & Mid-Govans                           &  4                                   & NORTHERN                             & 5723 YORK RD\n",
       "Baltimore, MD         \\\\\n",
       "\t475 & GRAND CRU                            & 21212                                & Chinquapin Park-Belvedere            &  4                                   & NORTHERN                             & 527 BELVEDERE AVE\n",
       "Baltimore, MD    \\\\\n",
       "\t545 & RANDY'S BAR                          & 21213                                & Broadway East                        & 12                                   & EASTERN                              & 2135 NORTH AVE\n",
       "Baltimore, MD       \\\\\n",
       "\t604 & MURPHY'S NEIGHBORHOOD BAR \\& GRILL    & 21212                                  & Mid-Govans                             &  4                                     & NORTHERN                               & 5847 YORK RD\n",
       "Baltimore, MD           \\\\\n",
       "\t616 & NEOPOL                               & 21212                                & Chinquapin Park-Belvedere            &  4                                   & NORTHERN                             & 529 BELVEDERE AVE\n",
       "Baltimore, MD    \\\\\n",
       "\t620 & NEW CLUB THUNDERBIRD INC.            & 21213                                & Middle East                          & 13                                   & EASTERN                              & 2201 CHASE ST\n",
       "Baltimore, MD        \\\\\n",
       "\t626 & NEW MAYFIELD, INC.                   & 21213                                & Belair-Edison                        & 13                                   & NORTHEASTERN                         & 3349 BELAIR RD\n",
       "Baltimore, MD       \\\\\n",
       "\t678 & IKAN SEAFOOD                         & 21212                                & Chinquapin Park-Belvedere            &  4                                   & NORTHERN                             & 529 BELVEDERE AVE\n",
       "Baltimore, MD    \\\\\n",
       "\t711 & KAY-CEE CLUB                         & 21212                                & Homeland                             &  4                                   & NORTHERN                             & 201 HOMELAND AVE\n",
       "Baltimore, MD     \\\\\n",
       "\t763 & LA'RAE                               & 21213                                & Oliver                               & 12                                   & EASTERN                              & 1000 HOFFMAN ST\n",
       "Baltimore, MD      \\\\\n",
       "\t777 & LEMONGRASS BALTIMORE                 & 21213                                & Little Italy                         &  1                                   & SOUTHEASTERN                         & 1300 BANK STREET\n",
       "Baltimore, MD     \\\\\n",
       "\t779 & LEN'S SANDWICH SHOP                  & 21213                                & Broadway East                        & 12                                   & EASTERN                              & 1500 WASHINGTON ST\n",
       "Baltimore, MD   \\\\\n",
       "\t845 & MCDONALD'S                           & 21213                                & South Clifton Park                   & 12                                   & EASTERN                              & 2001 BROADWAY\n",
       "Baltimore, MD        \\\\\n",
       "\t852 & MCDONALD'S                           & 21212                                & Radnor-Winston                       &  4                                   & NORTHERN                             & 5100 YORK RD\n",
       "Baltimore, MD         \\\\\n",
       "\t873 & NEW REX LIQUORS,INC.                 & 21212                                & Wilson Park                          &  4                                   & NORTHERN                             & 4637 YORK RD\n",
       "Baltimore, MD         \\\\\n",
       "\t895 & OK TAVERN                            & 21213                                & Biddle Street                        & 13                                   & EASTERN                              & 2301 BIDDLE ST\n",
       "Baltimore, MD       \\\\\n",
       "\t919 & PANERA BREAD                         & 21212                                & Lake Walker                          &  4                                   & NORTHERN                             & 6307 1 2 YORK RD\n",
       "Baltimore, MD     \\\\\n",
       "\t940 & PEIWEI ASIAN DINER                   & 21212                                & Cedarcroft                           &  4                                   & NORTHERN                             & 6302 YORK RD\n",
       "Baltimore, MD         \\\\\n",
       "\t949 & PERGUSA ENTERPRISES                  & 21212                                & Rosebank                             &  4                                   & NORTHERN                             & 5928 YORK RD\n",
       "Baltimore, MD         \\\\\n",
       "\t957 & PHANTOM'S BAR AND GRILL              & 21213                                & Belair-Edison                        &  3                                   & NORTHEASTERN                         & 3539 BELAIR RD\n",
       "Baltimore, MD       \\\\\n",
       "\t976 & POPEYES FAMOUS FRIED CHICKEN         & 21212                                & Winston-Govans                       &  4                                   & NORTHERN                             & 5002 YORK RD\n",
       "Baltimore, MD         \\\\\n",
       "\t994 & ROBBIE'S NEST                        & 21213                                & Broadway East                        & 12                                   & EASTERN                              & 2250 NORTH AVE\n",
       "Baltimore, MD       \\\\\n",
       "\t1017 & RUTLAND BAR                          & 21213                                & Broadway East                        & 12                                   & EASTERN                              & 1508 RUTLAND AVE\n",
       "Baltimore, MD     \\\\\n",
       "\t1018 & RYAN'S DAUGHTER                      & 21212                                & Chinquapin Park-Belvedere            &  4                                   & NORTHERN                             & 600 BELVEDERE AVE\n",
       "Baltimore, MD    \\\\\n",
       "\t1022 & saigon remembered restaurant         & 21212                                & Mid-Govans                           &  4                                   & NORTHERN                             & 5857 york rd\n",
       "Baltimore, MD         \\\\\n",
       "\t1053 & SHIRLEY'S  HONEY HOLE                & 21213                                & Broadway East                        & 13                                   & EASTERN                              & 2300 OLIVER ST\n",
       "Baltimore, MD       \\\\\n",
       "\t1120 & STEEPLE CHASE II                     & 21213                                & Biddle Street                        & 13                                   & EASTERN                              & 2401 CHASE ST\n",
       "Baltimore, MD        \\\\\n",
       "\t1122 & SUBWAY                               & 21213                                & Oliver                               & 12                                   & EASTERN                              & 1400 NORTH AVE\n",
       "Baltimore, MD       \\\\\n",
       "\t1153 & TAM-TAM                              & 21212                                & Mid-Govans                           &  4                                   & NORTHERN                             & 5722 YORK RD\n",
       "Baltimore, MD         \\\\\n",
       "\t1155 & TASTE                                & 21212                                & Mid-Govans                           &  4                                   & NORTHERN                             & 510 BELVEDERE AVE\n",
       "Baltimore, MD    \\\\\n",
       "\t1159 & TAYLORS EAST                         & 21213                                & Berea                                & 13                                   & EASTERN                              & 1201 POTOMAC ST\n",
       "Baltimore, MD      \\\\\n",
       "\t1186 & THE EDGE BAR \\& LOUNGE                & 21213                                  & Broadway East                          & 12                                     & EASTERN                                & 2015 FEDERAL ST\n",
       "Baltimore, MD        \\\\\n",
       "\t1187 & THE EDGE BAR \\& LOUNGE - KITCHEN AREA & 21213                                  & Broadway East                          & 12                                     & EASTERN                                & 2015 FEDERAL ST\n",
       "Baltimore, MD        \\\\\n",
       "\t1198 & THE HOLLOW BAR \\& GRILL               & 21212                                  & Rosebank                               &  4                                     & NORTHERN                               & 5921 YORK RD\n",
       "Baltimore, MD           \\\\\n",
       "\t1209 & THE NEW BUCKETT'S LOUNGE             & 21213                                & Broadway East                        & 13                                   & EASTERN                              & 1432 CHESTER ST\n",
       "Baltimore, MD      \\\\\n",
       "\t1232 & THREE  ACE'S                         & 21213                                & Belair-Edison                        &  3                                   & NORTHEASTERN                         & 3534 belair RD\n",
       "Baltimore, MD       \\\\\n",
       "\t1246 & TORAIN'S  HIDE-A-WAY                 & 21213                                & Broadway East                        & 12                                   & EASTERN                              & 1701 ELLSWORTH ST\n",
       "Baltimore, MD    \\\\\n",
       "\t1259 & TSUNAMI BALTIMORE                    & 21213                                & Little Italy                         &  1                                   & SOUTHEASTERN                         & 1300 BANK ST\n",
       "Baltimore, MD         \\\\\n",
       "\t1287 & VITO'S PIZZA                         & 21212                                & Cedarcroft                           &  4                                   & NORTHERN                             & 6304 YORK RD\n",
       "Baltimore, MD         \\\\\n",
       "\t1298 & WENDY'S OLD FASHIONED HAMBURGERS \\#96 & 21212                                  & Homeland                               &  4                                     & NORTHERN                               & 5615 YORK RD\n",
       "Baltimore, MD           \\\\\n",
       "\t1304 & WHITTEN'S  (4502-04)                 & 21213                                & Claremont-Freedom                    & 13                                   & NORTHEASTERN                         & 4502 ERDMAN AVE\n",
       "Baltimore, MD      \\\\\n",
       "\t1312 & wozi lounge                          & 21212                                & Guilford                             &  4                                   & NORTHERN                             & 4515 YORK RD\n",
       "Baltimore, MD         \\\\\n",
       "\t1319 & YETI RESTAURANT \\& CARRYOUT           & 21212                                  & Rosebank                               &  4                                     & NORTHERN                               & 5926 YORK RD\n",
       "Baltimore, MD           \\\\\n",
       "\t1320 & YORK CLUB TAVERN                     & 21212                                & Homeland                             &  4                                   & NORTHERN                             & 5407 YORK RD\n",
       "Baltimore, MD         \\\\\n",
       "\t1323 & ZEN WEST ROADSIDE CANTINA            & 21212                                & Rosebank                             &  4                                   & NORTHERN                             & 5916 YORK RD\n",
       "Baltimore, MD         \\\\\n",
       "\t1325 & ZINK'S CAF                     & 21213                                & Belair-Edison                        & 13                                   & NORTHEASTERN                         & 3300 LAWNVIEW AVE\n",
       "Baltimore, MD    \\\\\n",
       "\\end{tabular}\n"
      ],
      "text/markdown": [
       "\n",
       "| <!--/--> | name | zipCode | neighborhood | councilDistrict | policeDistrict | Location.1 |\n",
       "|---|---|---|---|---|---|---|\n",
       "| 29 | BAY ATLANTIC CLUB                    | 21212                                | Downtown                             | 11                                   | CENTRAL                              | 206 REDWOOD ST\n",
       "Baltimore, MD        |\n",
       "| 39 | BERMUDA BAR                          | 21213                                | Broadway East                        | 12                                   | EASTERN                              | 1801 NORTH AVE\n",
       "Baltimore, MD        |\n",
       "| 92 | ATWATER'S                            | 21212                                | Chinquapin Park-Belvedere            |  4                                   | NORTHERN                             | 529 BELVEDERE AVE\n",
       "Baltimore, MD     |\n",
       "| 111 | BALTIMORE ESTONIAN SOCIETY           | 21213                                | South Clifton Park                   | 12                                   | EASTERN                              | 1932 BELAIR RD\n",
       "Baltimore, MD        |\n",
       "| 187 | CAFE ZEN                             | 21212                                | Rosebank                             |  4                                   | NORTHERN                             | 438 BELVEDERE AVE\n",
       "Baltimore, MD     |\n",
       "| 220 | CERIELLO FINE FOODS                  | 21212                                | Chinquapin Park-Belvedere            |  4                                   | NORTHERN                             | 529 BELVEDERE AVE\n",
       "Baltimore, MD     |\n",
       "| 266 | CLIFTON PARK GOLF COURSE SNACK BAR   | 21213                                | Darley Park                          | 14                                   | NORTHEASTERN                         | 2701 ST LO DR\n",
       "Baltimore, MD         |\n",
       "| 276 | CLUB HOUSE BAR & GRILL               | 21213                                | Orangeville Industrial Area          | 13                                   | EASTERN                              | 4217 ERDMAN AVE\n",
       "Baltimore, MD       |\n",
       "| 289 | CLUBHOUSE BAR & GRILL                | 21213                                | Orangeville Industrial Area          | 13                                   | EASTERN                              | 4217 ERDMAN AVE\n",
       "Baltimore, MD       |\n",
       "| 291 | COCKY LOU'S                          | 21213                                | Broadway East                        | 12                                   | EASTERN                              | 2101 NORTH AVE\n",
       "Baltimore, MD        |\n",
       "| 362 | DREAM TAVERN, CARRIBEAN  U.S.A.      | 21213                                | Broadway East                        | 13                                   | EASTERN                              | 2300 LAFAYETTE AVE\n",
       "Baltimore, MD    |\n",
       "| 373 | DUNKIN DONUTS                        | 21212                                | Homeland                             |  4                                   | NORTHERN                             | 5422 YORK RD\n",
       "Baltimore, MD          |\n",
       "| 383 | EASTSIDE  SPORTS  SOCIAL  CLUB       | 21213                                | Broadway East                        | 13                                   | EASTERN                              | 1203 COLLINGTON AVE\n",
       "Baltimore, MD   |\n",
       "| 417 | FIELDS OLD TRAIL                     | 21212                                | Mid-Govans                           |  4                                   | NORTHERN                             | 5723 YORK RD\n",
       "Baltimore, MD          |\n",
       "| 475 | GRAND CRU                            | 21212                                | Chinquapin Park-Belvedere            |  4                                   | NORTHERN                             | 527 BELVEDERE AVE\n",
       "Baltimore, MD     |\n",
       "| 545 | RANDY'S BAR                          | 21213                                | Broadway East                        | 12                                   | EASTERN                              | 2135 NORTH AVE\n",
       "Baltimore, MD        |\n",
       "| 604 | MURPHY'S NEIGHBORHOOD BAR & GRILL    | 21212                                | Mid-Govans                           |  4                                   | NORTHERN                             | 5847 YORK RD\n",
       "Baltimore, MD          |\n",
       "| 616 | NEOPOL                               | 21212                                | Chinquapin Park-Belvedere            |  4                                   | NORTHERN                             | 529 BELVEDERE AVE\n",
       "Baltimore, MD     |\n",
       "| 620 | NEW CLUB THUNDERBIRD INC.            | 21213                                | Middle East                          | 13                                   | EASTERN                              | 2201 CHASE ST\n",
       "Baltimore, MD         |\n",
       "| 626 | NEW MAYFIELD, INC.                   | 21213                                | Belair-Edison                        | 13                                   | NORTHEASTERN                         | 3349 BELAIR RD\n",
       "Baltimore, MD        |\n",
       "| 678 | IKAN SEAFOOD                         | 21212                                | Chinquapin Park-Belvedere            |  4                                   | NORTHERN                             | 529 BELVEDERE AVE\n",
       "Baltimore, MD     |\n",
       "| 711 | KAY-CEE CLUB                         | 21212                                | Homeland                             |  4                                   | NORTHERN                             | 201 HOMELAND AVE\n",
       "Baltimore, MD      |\n",
       "| 763 | LA'RAE                               | 21213                                | Oliver                               | 12                                   | EASTERN                              | 1000 HOFFMAN ST\n",
       "Baltimore, MD       |\n",
       "| 777 | LEMONGRASS BALTIMORE                 | 21213                                | Little Italy                         |  1                                   | SOUTHEASTERN                         | 1300 BANK STREET\n",
       "Baltimore, MD      |\n",
       "| 779 | LEN'S SANDWICH SHOP                  | 21213                                | Broadway East                        | 12                                   | EASTERN                              | 1500 WASHINGTON ST\n",
       "Baltimore, MD    |\n",
       "| 845 | MCDONALD'S                           | 21213                                | South Clifton Park                   | 12                                   | EASTERN                              | 2001 BROADWAY\n",
       "Baltimore, MD         |\n",
       "| 852 | MCDONALD'S                           | 21212                                | Radnor-Winston                       |  4                                   | NORTHERN                             | 5100 YORK RD\n",
       "Baltimore, MD          |\n",
       "| 873 | NEW REX LIQUORS,INC.                 | 21212                                | Wilson Park                          |  4                                   | NORTHERN                             | 4637 YORK RD\n",
       "Baltimore, MD          |\n",
       "| 895 | OK TAVERN                            | 21213                                | Biddle Street                        | 13                                   | EASTERN                              | 2301 BIDDLE ST\n",
       "Baltimore, MD        |\n",
       "| 919 | PANERA BREAD                         | 21212                                | Lake Walker                          |  4                                   | NORTHERN                             | 6307 1 2 YORK RD\n",
       "Baltimore, MD      |\n",
       "| 940 | PEIWEI ASIAN DINER                   | 21212                                | Cedarcroft                           |  4                                   | NORTHERN                             | 6302 YORK RD\n",
       "Baltimore, MD          |\n",
       "| 949 | PERGUSA ENTERPRISES                  | 21212                                | Rosebank                             |  4                                   | NORTHERN                             | 5928 YORK RD\n",
       "Baltimore, MD          |\n",
       "| 957 | PHANTOM'S BAR AND GRILL              | 21213                                | Belair-Edison                        |  3                                   | NORTHEASTERN                         | 3539 BELAIR RD\n",
       "Baltimore, MD        |\n",
       "| 976 | POPEYES FAMOUS FRIED CHICKEN         | 21212                                | Winston-Govans                       |  4                                   | NORTHERN                             | 5002 YORK RD\n",
       "Baltimore, MD          |\n",
       "| 994 | ROBBIE'S NEST                        | 21213                                | Broadway East                        | 12                                   | EASTERN                              | 2250 NORTH AVE\n",
       "Baltimore, MD        |\n",
       "| 1017 | RUTLAND BAR                          | 21213                                | Broadway East                        | 12                                   | EASTERN                              | 1508 RUTLAND AVE\n",
       "Baltimore, MD      |\n",
       "| 1018 | RYAN'S DAUGHTER                      | 21212                                | Chinquapin Park-Belvedere            |  4                                   | NORTHERN                             | 600 BELVEDERE AVE\n",
       "Baltimore, MD     |\n",
       "| 1022 | saigon remembered restaurant         | 21212                                | Mid-Govans                           |  4                                   | NORTHERN                             | 5857 york rd\n",
       "Baltimore, MD          |\n",
       "| 1053 | SHIRLEY'S  HONEY HOLE                | 21213                                | Broadway East                        | 13                                   | EASTERN                              | 2300 OLIVER ST\n",
       "Baltimore, MD        |\n",
       "| 1120 | STEEPLE CHASE II                     | 21213                                | Biddle Street                        | 13                                   | EASTERN                              | 2401 CHASE ST\n",
       "Baltimore, MD         |\n",
       "| 1122 | SUBWAY                               | 21213                                | Oliver                               | 12                                   | EASTERN                              | 1400 NORTH AVE\n",
       "Baltimore, MD        |\n",
       "| 1153 | TAM-TAM                              | 21212                                | Mid-Govans                           |  4                                   | NORTHERN                             | 5722 YORK RD\n",
       "Baltimore, MD          |\n",
       "| 1155 | TASTE                                | 21212                                | Mid-Govans                           |  4                                   | NORTHERN                             | 510 BELVEDERE AVE\n",
       "Baltimore, MD     |\n",
       "| 1159 | TAYLORS EAST                         | 21213                                | Berea                                | 13                                   | EASTERN                              | 1201 POTOMAC ST\n",
       "Baltimore, MD       |\n",
       "| 1186 | THE EDGE BAR & LOUNGE                | 21213                                | Broadway East                        | 12                                   | EASTERN                              | 2015 FEDERAL ST\n",
       "Baltimore, MD       |\n",
       "| 1187 | THE EDGE BAR & LOUNGE - KITCHEN AREA | 21213                                | Broadway East                        | 12                                   | EASTERN                              | 2015 FEDERAL ST\n",
       "Baltimore, MD       |\n",
       "| 1198 | THE HOLLOW BAR & GRILL               | 21212                                | Rosebank                             |  4                                   | NORTHERN                             | 5921 YORK RD\n",
       "Baltimore, MD          |\n",
       "| 1209 | THE NEW BUCKETT'S LOUNGE             | 21213                                | Broadway East                        | 13                                   | EASTERN                              | 1432 CHESTER ST\n",
       "Baltimore, MD       |\n",
       "| 1232 | THREE  ACE'S                         | 21213                                | Belair-Edison                        |  3                                   | NORTHEASTERN                         | 3534 belair RD\n",
       "Baltimore, MD        |\n",
       "| 1246 | TORAIN'S  HIDE-A-WAY                 | 21213                                | Broadway East                        | 12                                   | EASTERN                              | 1701 ELLSWORTH ST\n",
       "Baltimore, MD     |\n",
       "| 1259 | TSUNAMI BALTIMORE                    | 21213                                | Little Italy                         |  1                                   | SOUTHEASTERN                         | 1300 BANK ST\n",
       "Baltimore, MD          |\n",
       "| 1287 | VITO'S PIZZA                         | 21212                                | Cedarcroft                           |  4                                   | NORTHERN                             | 6304 YORK RD\n",
       "Baltimore, MD          |\n",
       "| 1298 | WENDY'S OLD FASHIONED HAMBURGERS #96 | 21212                                | Homeland                             |  4                                   | NORTHERN                             | 5615 YORK RD\n",
       "Baltimore, MD          |\n",
       "| 1304 | WHITTEN'S  (4502-04)                 | 21213                                | Claremont-Freedom                    | 13                                   | NORTHEASTERN                         | 4502 ERDMAN AVE\n",
       "Baltimore, MD       |\n",
       "| 1312 | wozi lounge                          | 21212                                | Guilford                             |  4                                   | NORTHERN                             | 4515 YORK RD\n",
       "Baltimore, MD          |\n",
       "| 1319 | YETI RESTAURANT & CARRYOUT           | 21212                                | Rosebank                             |  4                                   | NORTHERN                             | 5926 YORK RD\n",
       "Baltimore, MD          |\n",
       "| 1320 | YORK CLUB TAVERN                     | 21212                                | Homeland                             |  4                                   | NORTHERN                             | 5407 YORK RD\n",
       "Baltimore, MD          |\n",
       "| 1323 | ZEN WEST ROADSIDE CANTINA            | 21212                                | Rosebank                             |  4                                   | NORTHERN                             | 5916 YORK RD\n",
       "Baltimore, MD          |\n",
       "| 1325 | ZINK'S CAF                     | 21213                                | Belair-Edison                        | 13                                   | NORTHEASTERN                         | 3300 LAWNVIEW AVE\n",
       "Baltimore, MD     |\n",
       "\n"
      ],
      "text/plain": [
       "     name                                 zipCode neighborhood               \n",
       "29   BAY ATLANTIC CLUB                    21212   Downtown                   \n",
       "39   BERMUDA BAR                          21213   Broadway East              \n",
       "92   ATWATER'S                            21212   Chinquapin Park-Belvedere  \n",
       "111  BALTIMORE ESTONIAN SOCIETY           21213   South Clifton Park         \n",
       "187  CAFE ZEN                             21212   Rosebank                   \n",
       "220  CERIELLO FINE FOODS                  21212   Chinquapin Park-Belvedere  \n",
       "266  CLIFTON PARK GOLF COURSE SNACK BAR   21213   Darley Park                \n",
       "276  CLUB HOUSE BAR & GRILL               21213   Orangeville Industrial Area\n",
       "289  CLUBHOUSE BAR & GRILL                21213   Orangeville Industrial Area\n",
       "291  COCKY LOU'S                          21213   Broadway East              \n",
       "362  DREAM TAVERN, CARRIBEAN  U.S.A.      21213   Broadway East              \n",
       "373  DUNKIN DONUTS                        21212   Homeland                   \n",
       "383  EASTSIDE  SPORTS  SOCIAL  CLUB       21213   Broadway East              \n",
       "417  FIELDS OLD TRAIL                     21212   Mid-Govans                 \n",
       "475  GRAND CRU                            21212   Chinquapin Park-Belvedere  \n",
       "545  RANDY'S BAR                          21213   Broadway East              \n",
       "604  MURPHY'S NEIGHBORHOOD BAR & GRILL    21212   Mid-Govans                 \n",
       "616  NEOPOL                               21212   Chinquapin Park-Belvedere  \n",
       "620  NEW CLUB THUNDERBIRD INC.            21213   Middle East                \n",
       "626  NEW MAYFIELD, INC.                   21213   Belair-Edison              \n",
       "678  IKAN SEAFOOD                         21212   Chinquapin Park-Belvedere  \n",
       "711  KAY-CEE CLUB                         21212   Homeland                   \n",
       "763  LA'RAE                               21213   Oliver                     \n",
       "777  LEMONGRASS BALTIMORE                 21213   Little Italy               \n",
       "779  LEN'S SANDWICH SHOP                  21213   Broadway East              \n",
       "845  MCDONALD'S                           21213   South Clifton Park         \n",
       "852  MCDONALD'S                           21212   Radnor-Winston             \n",
       "873  NEW REX LIQUORS,INC.                 21212   Wilson Park                \n",
       "895  OK TAVERN                            21213   Biddle Street              \n",
       "919  PANERA BREAD                         21212   Lake Walker                \n",
       "940  PEIWEI ASIAN DINER                   21212   Cedarcroft                 \n",
       "949  PERGUSA ENTERPRISES                  21212   Rosebank                   \n",
       "957  PHANTOM'S BAR AND GRILL              21213   Belair-Edison              \n",
       "976  POPEYES FAMOUS FRIED CHICKEN         21212   Winston-Govans             \n",
       "994  ROBBIE'S NEST                        21213   Broadway East              \n",
       "1017 RUTLAND BAR                          21213   Broadway East              \n",
       "1018 RYAN'S DAUGHTER                      21212   Chinquapin Park-Belvedere  \n",
       "1022 saigon remembered restaurant         21212   Mid-Govans                 \n",
       "1053 SHIRLEY'S  HONEY HOLE                21213   Broadway East              \n",
       "1120 STEEPLE CHASE II                     21213   Biddle Street              \n",
       "1122 SUBWAY                               21213   Oliver                     \n",
       "1153 TAM-TAM                              21212   Mid-Govans                 \n",
       "1155 TASTE                                21212   Mid-Govans                 \n",
       "1159 TAYLORS EAST                         21213   Berea                      \n",
       "1186 THE EDGE BAR & LOUNGE                21213   Broadway East              \n",
       "1187 THE EDGE BAR & LOUNGE - KITCHEN AREA 21213   Broadway East              \n",
       "1198 THE HOLLOW BAR & GRILL               21212   Rosebank                   \n",
       "1209 THE NEW BUCKETT'S LOUNGE             21213   Broadway East              \n",
       "1232 THREE  ACE'S                         21213   Belair-Edison              \n",
       "1246 TORAIN'S  HIDE-A-WAY                 21213   Broadway East              \n",
       "1259 TSUNAMI BALTIMORE                    21213   Little Italy               \n",
       "1287 VITO'S PIZZA                         21212   Cedarcroft                 \n",
       "1298 WENDY'S OLD FASHIONED HAMBURGERS #96 21212   Homeland                   \n",
       "1304 WHITTEN'S  (4502-04)                 21213   Claremont-Freedom          \n",
       "1312 wozi lounge                          21212   Guilford                   \n",
       "1319 YETI RESTAURANT & CARRYOUT           21212   Rosebank                   \n",
       "1320 YORK CLUB TAVERN                     21212   Homeland                   \n",
       "1323 ZEN WEST ROADSIDE CANTINA            21212   Rosebank                   \n",
       "1325 ZINK'S CAF\\u0090                     21213   Belair-Edison              \n",
       "     councilDistrict policeDistrict Location.1                        \n",
       "29   11              CENTRAL        206 REDWOOD ST\\nBaltimore, MD     \n",
       "39   12              EASTERN        1801 NORTH AVE\\nBaltimore, MD     \n",
       "92    4              NORTHERN       529 BELVEDERE AVE\\nBaltimore, MD  \n",
       "111  12              EASTERN        1932 BELAIR RD\\nBaltimore, MD     \n",
       "187   4              NORTHERN       438 BELVEDERE AVE\\nBaltimore, MD  \n",
       "220   4              NORTHERN       529 BELVEDERE AVE\\nBaltimore, MD  \n",
       "266  14              NORTHEASTERN   2701 ST LO DR\\nBaltimore, MD      \n",
       "276  13              EASTERN        4217 ERDMAN AVE\\nBaltimore, MD    \n",
       "289  13              EASTERN        4217 ERDMAN AVE\\nBaltimore, MD    \n",
       "291  12              EASTERN        2101 NORTH AVE\\nBaltimore, MD     \n",
       "362  13              EASTERN        2300 LAFAYETTE AVE\\nBaltimore, MD \n",
       "373   4              NORTHERN       5422 YORK RD\\nBaltimore, MD       \n",
       "383  13              EASTERN        1203 COLLINGTON AVE\\nBaltimore, MD\n",
       "417   4              NORTHERN       5723 YORK RD\\nBaltimore, MD       \n",
       "475   4              NORTHERN       527 BELVEDERE AVE\\nBaltimore, MD  \n",
       "545  12              EASTERN        2135 NORTH AVE\\nBaltimore, MD     \n",
       "604   4              NORTHERN       5847 YORK RD\\nBaltimore, MD       \n",
       "616   4              NORTHERN       529 BELVEDERE AVE\\nBaltimore, MD  \n",
       "620  13              EASTERN        2201 CHASE ST\\nBaltimore, MD      \n",
       "626  13              NORTHEASTERN   3349 BELAIR RD\\nBaltimore, MD     \n",
       "678   4              NORTHERN       529 BELVEDERE AVE\\nBaltimore, MD  \n",
       "711   4              NORTHERN       201 HOMELAND AVE\\nBaltimore, MD   \n",
       "763  12              EASTERN        1000 HOFFMAN ST\\nBaltimore, MD    \n",
       "777   1              SOUTHEASTERN   1300 BANK STREET\\nBaltimore, MD   \n",
       "779  12              EASTERN        1500 WASHINGTON ST\\nBaltimore, MD \n",
       "845  12              EASTERN        2001 BROADWAY\\nBaltimore, MD      \n",
       "852   4              NORTHERN       5100 YORK RD\\nBaltimore, MD       \n",
       "873   4              NORTHERN       4637 YORK RD\\nBaltimore, MD       \n",
       "895  13              EASTERN        2301 BIDDLE ST\\nBaltimore, MD     \n",
       "919   4              NORTHERN       6307 1 2 YORK RD\\nBaltimore, MD   \n",
       "940   4              NORTHERN       6302 YORK RD\\nBaltimore, MD       \n",
       "949   4              NORTHERN       5928 YORK RD\\nBaltimore, MD       \n",
       "957   3              NORTHEASTERN   3539 BELAIR RD\\nBaltimore, MD     \n",
       "976   4              NORTHERN       5002 YORK RD\\nBaltimore, MD       \n",
       "994  12              EASTERN        2250 NORTH AVE\\nBaltimore, MD     \n",
       "1017 12              EASTERN        1508 RUTLAND AVE\\nBaltimore, MD   \n",
       "1018  4              NORTHERN       600 BELVEDERE AVE\\nBaltimore, MD  \n",
       "1022  4              NORTHERN       5857 york rd\\nBaltimore, MD       \n",
       "1053 13              EASTERN        2300 OLIVER ST\\nBaltimore, MD     \n",
       "1120 13              EASTERN        2401 CHASE ST\\nBaltimore, MD      \n",
       "1122 12              EASTERN        1400 NORTH AVE\\nBaltimore, MD     \n",
       "1153  4              NORTHERN       5722 YORK RD\\nBaltimore, MD       \n",
       "1155  4              NORTHERN       510 BELVEDERE AVE\\nBaltimore, MD  \n",
       "1159 13              EASTERN        1201 POTOMAC ST\\nBaltimore, MD    \n",
       "1186 12              EASTERN        2015 FEDERAL ST\\nBaltimore, MD    \n",
       "1187 12              EASTERN        2015 FEDERAL ST\\nBaltimore, MD    \n",
       "1198  4              NORTHERN       5921 YORK RD\\nBaltimore, MD       \n",
       "1209 13              EASTERN        1432 CHESTER ST\\nBaltimore, MD    \n",
       "1232  3              NORTHEASTERN   3534 belair RD\\nBaltimore, MD     \n",
       "1246 12              EASTERN        1701 ELLSWORTH ST\\nBaltimore, MD  \n",
       "1259  1              SOUTHEASTERN   1300 BANK ST\\nBaltimore, MD       \n",
       "1287  4              NORTHERN       6304 YORK RD\\nBaltimore, MD       \n",
       "1298  4              NORTHERN       5615 YORK RD\\nBaltimore, MD       \n",
       "1304 13              NORTHEASTERN   4502 ERDMAN AVE\\nBaltimore, MD    \n",
       "1312  4              NORTHERN       4515 YORK RD\\nBaltimore, MD       \n",
       "1319  4              NORTHERN       5926 YORK RD\\nBaltimore, MD       \n",
       "1320  4              NORTHERN       5407 YORK RD\\nBaltimore, MD       \n",
       "1323  4              NORTHERN       5916 YORK RD\\nBaltimore, MD       \n",
       "1325 13              NORTHEASTERN   3300 LAWNVIEW AVE\\nBaltimore, MD  "
      ]
     },
     "metadata": {},
     "output_type": "display_data"
    }
   ],
   "source": [
    "restData[restData$zipCode %in% c(\"21212\",\"21213\"),]\n"
   ]
  },
  {
   "cell_type": "markdown",
   "metadata": {},
   "source": [
    "### Cross tabs"
   ]
  },
  {
   "cell_type": "code",
   "execution_count": 14,
   "metadata": {},
   "outputs": [
    {
     "data": {
      "text/plain": [
       "      Admit       Gender   Dept       Freq      \n",
       " Admitted:12   Male  :12   A:4   Min.   :  8.0  \n",
       " Rejected:12   Female:12   B:4   1st Qu.: 80.0  \n",
       "                           C:4   Median :170.0  \n",
       "                           D:4   Mean   :188.6  \n",
       "                           E:4   3rd Qu.:302.5  \n",
       "                           F:4   Max.   :512.0  "
      ]
     },
     "metadata": {},
     "output_type": "display_data"
    }
   ],
   "source": [
    "data(UCBAdmissions)\n",
    "DF = as.data.frame(UCBAdmissions)\n",
    "summary(DF)"
   ]
  },
  {
   "cell_type": "markdown",
   "metadata": {},
   "source": [
    "### Cross tabs"
   ]
  },
  {
   "cell_type": "code",
   "execution_count": 15,
   "metadata": {},
   "outputs": [
    {
     "data": {
      "text/plain": [
       "        Admit\n",
       "Gender   Admitted Rejected\n",
       "  Male       1198     1493\n",
       "  Female      557     1278"
      ]
     },
     "metadata": {},
     "output_type": "display_data"
    }
   ],
   "source": [
    "xt <- xtabs(Freq ~ Gender + Admit,data=DF)\n",
    "xt"
   ]
  },
  {
   "cell_type": "markdown",
   "metadata": {},
   "source": [
    "### Flat tables"
   ]
  },
  {
   "cell_type": "code",
   "execution_count": 16,
   "metadata": {},
   "outputs": [
    {
     "data": {
      "text/plain": [
       ", , replicate = 1\n",
       "\n",
       "    tension\n",
       "wool  L  M  H\n",
       "   A 26 18 36\n",
       "   B 27 42 20\n",
       "\n",
       ", , replicate = 2\n",
       "\n",
       "    tension\n",
       "wool  L  M  H\n",
       "   A 30 21 21\n",
       "   B 14 26 21\n",
       "\n",
       ", , replicate = 3\n",
       "\n",
       "    tension\n",
       "wool  L  M  H\n",
       "   A 54 29 24\n",
       "   B 29 19 24\n",
       "\n",
       ", , replicate = 4\n",
       "\n",
       "    tension\n",
       "wool  L  M  H\n",
       "   A 25 17 18\n",
       "   B 19 16 17\n",
       "\n",
       ", , replicate = 5\n",
       "\n",
       "    tension\n",
       "wool  L  M  H\n",
       "   A 70 12 10\n",
       "   B 29 39 13\n",
       "\n",
       ", , replicate = 6\n",
       "\n",
       "    tension\n",
       "wool  L  M  H\n",
       "   A 52 18 43\n",
       "   B 31 28 15\n",
       "\n",
       ", , replicate = 7\n",
       "\n",
       "    tension\n",
       "wool  L  M  H\n",
       "   A 51 35 28\n",
       "   B 41 21 15\n",
       "\n",
       ", , replicate = 8\n",
       "\n",
       "    tension\n",
       "wool  L  M  H\n",
       "   A 26 30 15\n",
       "   B 20 39 16\n",
       "\n",
       ", , replicate = 9\n",
       "\n",
       "    tension\n",
       "wool  L  M  H\n",
       "   A 67 36 26\n",
       "   B 44 29 28\n"
      ]
     },
     "metadata": {},
     "output_type": "display_data"
    }
   ],
   "source": [
    "warpbreaks$replicate <- rep(1:9, len = 54)\n",
    "xt = xtabs(breaks ~.,data=warpbreaks)\n",
    "xt"
   ]
  },
  {
   "cell_type": "markdown",
   "metadata": {},
   "source": [
    "### Flat tables"
   ]
  },
  {
   "cell_type": "code",
   "execution_count": 17,
   "metadata": {},
   "outputs": [
    {
     "data": {
      "text/plain": [
       "             replicate  1  2  3  4  5  6  7  8  9\n",
       "wool tension                                     \n",
       "A    L                 26 30 54 25 70 52 51 26 67\n",
       "     M                 18 21 29 17 12 18 35 30 36\n",
       "     H                 36 21 24 18 10 43 28 15 26\n",
       "B    L                 27 14 29 19 29 31 41 20 44\n",
       "     M                 42 26 19 16 39 28 21 39 29\n",
       "     H                 20 21 24 17 13 15 15 16 28"
      ]
     },
     "metadata": {},
     "output_type": "display_data"
    }
   ],
   "source": [
    "ftable(xt)"
   ]
  },
  {
   "cell_type": "markdown",
   "metadata": {},
   "source": [
    "### Size of a data set"
   ]
  },
  {
   "cell_type": "code",
   "execution_count": 18,
   "metadata": {},
   "outputs": [
    {
     "data": {
      "text/plain": [
       "800048 bytes"
      ]
     },
     "metadata": {},
     "output_type": "display_data"
    },
    {
     "name": "stdout",
     "output_type": "stream",
     "text": [
      "0.8 Mb\n"
     ]
    }
   ],
   "source": [
    "fakeData = rnorm(1e5)\n",
    "object.size(fakeData)\n",
    "print(object.size(fakeData),units=\"Mb\")"
   ]
  },
  {
   "cell_type": "markdown",
   "metadata": {},
   "source": [
    "## Creating new variables"
   ]
  },
  {
   "cell_type": "markdown",
   "metadata": {},
   "source": [
    "### Why create new variables?\n",
    "\n",
    "* Often the raw data won't have a value you are looking for\n",
    "* You will need to transform the data to get the values you would like\n",
    "* Usually you will add those values to the data frames you are working with\n",
    "* Common variables to create\n",
    "  * Missingness indicators\n",
    "  * \"Cutting up\" quantitative variables\n",
    "  * Applying transforms"
   ]
  },
  {
   "cell_type": "markdown",
   "metadata": {},
   "source": [
    "### Example data set \n",
    "\n",
    "<img class=center src=\"https://raw.githubusercontent.com/DataScienceSpecialization/courses/master/assets/img/03_ObtainingData/restaurants.png\" height=500 />\n",
    "\n",
    "\n",
    "[https://data.baltimorecity.gov/Community/Restaurants/k5ry-ef3g](https://data.baltimorecity.gov/Community/Restaurants/k5ry-ef3g)"
   ]
  },
  {
   "cell_type": "markdown",
   "metadata": {},
   "source": [
    "### Creating sequences\n",
    "\n",
    "_Sometimes you need an index for your data set_"
   ]
  },
  {
   "cell_type": "code",
   "execution_count": 19,
   "metadata": {},
   "outputs": [
    {
     "data": {
      "text/html": [
       "<ol class=list-inline>\n",
       "\t<li>1</li>\n",
       "\t<li>3</li>\n",
       "\t<li>5</li>\n",
       "\t<li>7</li>\n",
       "\t<li>9</li>\n",
       "</ol>\n"
      ],
      "text/latex": [
       "\\begin{enumerate*}\n",
       "\\item 1\n",
       "\\item 3\n",
       "\\item 5\n",
       "\\item 7\n",
       "\\item 9\n",
       "\\end{enumerate*}\n"
      ],
      "text/markdown": [
       "1. 1\n",
       "2. 3\n",
       "3. 5\n",
       "4. 7\n",
       "5. 9\n",
       "\n",
       "\n"
      ],
      "text/plain": [
       "[1] 1 3 5 7 9"
      ]
     },
     "metadata": {},
     "output_type": "display_data"
    },
    {
     "data": {
      "text/html": [
       "<ol class=list-inline>\n",
       "\t<li>1</li>\n",
       "\t<li>5.5</li>\n",
       "\t<li>10</li>\n",
       "</ol>\n"
      ],
      "text/latex": [
       "\\begin{enumerate*}\n",
       "\\item 1\n",
       "\\item 5.5\n",
       "\\item 10\n",
       "\\end{enumerate*}\n"
      ],
      "text/markdown": [
       "1. 1\n",
       "2. 5.5\n",
       "3. 10\n",
       "\n",
       "\n"
      ],
      "text/plain": [
       "[1]  1.0  5.5 10.0"
      ]
     },
     "metadata": {},
     "output_type": "display_data"
    },
    {
     "data": {
      "text/html": [
       "<ol class=list-inline>\n",
       "\t<li>1</li>\n",
       "\t<li>2</li>\n",
       "\t<li>3</li>\n",
       "\t<li>4</li>\n",
       "\t<li>5</li>\n",
       "</ol>\n"
      ],
      "text/latex": [
       "\\begin{enumerate*}\n",
       "\\item 1\n",
       "\\item 2\n",
       "\\item 3\n",
       "\\item 4\n",
       "\\item 5\n",
       "\\end{enumerate*}\n"
      ],
      "text/markdown": [
       "1. 1\n",
       "2. 2\n",
       "3. 3\n",
       "4. 4\n",
       "5. 5\n",
       "\n",
       "\n"
      ],
      "text/plain": [
       "[1] 1 2 3 4 5"
      ]
     },
     "metadata": {},
     "output_type": "display_data"
    }
   ],
   "source": [
    "s1 <- seq(1,10,by=2) ; s1\n",
    "s2 <- seq(1,10,length=3); s2\n",
    "x <- c(1,3,8,25,100); seq(along = x)"
   ]
  },
  {
   "cell_type": "markdown",
   "metadata": {},
   "source": [
    "### Subsetting variables"
   ]
  },
  {
   "cell_type": "code",
   "execution_count": 20,
   "metadata": {},
   "outputs": [
    {
     "data": {
      "text/plain": [
       "\n",
       "FALSE  TRUE \n",
       " 1314    13 "
      ]
     },
     "metadata": {},
     "output_type": "display_data"
    }
   ],
   "source": [
    "restData$nearMe = restData$neighborhood %in% c(\"Roland Park\", \"Homeland\")\n",
    "table(restData$nearMe)"
   ]
  },
  {
   "cell_type": "markdown",
   "metadata": {},
   "source": [
    "### Creating binary variables"
   ]
  },
  {
   "cell_type": "code",
   "execution_count": 21,
   "metadata": {},
   "outputs": [
    {
     "data": {
      "text/plain": [
       "       \n",
       "        FALSE TRUE\n",
       "  FALSE  1326    0\n",
       "  TRUE      0    1"
      ]
     },
     "metadata": {},
     "output_type": "display_data"
    }
   ],
   "source": [
    "restData$zipWrong = ifelse(restData$zipCode < 0, TRUE, FALSE)\n",
    "table(restData$zipWrong,restData$zipCode < 0)"
   ]
  },
  {
   "cell_type": "markdown",
   "metadata": {},
   "source": [
    "### Creating categorical variables"
   ]
  },
  {
   "cell_type": "code",
   "execution_count": 22,
   "metadata": {},
   "outputs": [
    {
     "data": {
      "text/plain": [
       "\n",
       "(-2.123e+04,2.12e+04]  (2.12e+04,2.122e+04] (2.122e+04,2.123e+04] \n",
       "                  337                   375                   282 \n",
       "(2.123e+04,2.129e+04] \n",
       "                  332 "
      ]
     },
     "metadata": {},
     "output_type": "display_data"
    },
    {
     "data": {
      "text/plain": [
       "                       \n",
       "                        -21226 21201 21202 21205 21206 21207 21208 21209 21210\n",
       "  (-2.123e+04,2.12e+04]      0   136   201     0     0     0     0     0     0\n",
       "  (2.12e+04,2.122e+04]       0     0     0    27    30     4     1     8    23\n",
       "  (2.122e+04,2.123e+04]      0     0     0     0     0     0     0     0     0\n",
       "  (2.123e+04,2.129e+04]      0     0     0     0     0     0     0     0     0\n",
       "                       \n",
       "                        21211 21212 21213 21214 21215 21216 21217 21218 21220\n",
       "  (-2.123e+04,2.12e+04]     0     0     0     0     0     0     0     0     0\n",
       "  (2.12e+04,2.122e+04]     41    28    31    17    54    10    32    69     0\n",
       "  (2.122e+04,2.123e+04]     0     0     0     0     0     0     0     0     1\n",
       "  (2.123e+04,2.129e+04]     0     0     0     0     0     0     0     0     0\n",
       "                       \n",
       "                        21222 21223 21224 21225 21226 21227 21229 21230 21231\n",
       "  (-2.123e+04,2.12e+04]     0     0     0     0     0     0     0     0     0\n",
       "  (2.12e+04,2.122e+04]      0     0     0     0     0     0     0     0     0\n",
       "  (2.122e+04,2.123e+04]     7    56   199    19     0     0     0     0     0\n",
       "  (2.123e+04,2.129e+04]     0     0     0     0    18     4    13   156   127\n",
       "                       \n",
       "                        21234 21237 21239 21251 21287\n",
       "  (-2.123e+04,2.12e+04]     0     0     0     0     0\n",
       "  (2.12e+04,2.122e+04]      0     0     0     0     0\n",
       "  (2.122e+04,2.123e+04]     0     0     0     0     0\n",
       "  (2.123e+04,2.129e+04]     7     1     3     2     1"
      ]
     },
     "metadata": {},
     "output_type": "display_data"
    }
   ],
   "source": [
    "restData$zipGroups = cut(restData$zipCode,breaks=quantile(restData$zipCode))\n",
    "table(restData$zipGroups)\n",
    "table(restData$zipGroups,restData$zipCode)"
   ]
  },
  {
   "cell_type": "markdown",
   "metadata": {},
   "source": [
    "### Easier cutting"
   ]
  },
  {
   "cell_type": "code",
   "execution_count": 24,
   "metadata": {},
   "outputs": [
    {
     "name": "stderr",
     "output_type": "stream",
     "text": [
      "also installing the dependencies ‘checkmate’, ‘Formula’, ‘latticeExtra’, ‘cluster’, ‘acepack’, ‘foreign’, ‘gridExtra’, ‘data.table’, ‘htmlTable’, ‘viridis’\n",
      "\n",
      "Updating HTML index of packages in '.Library'\n",
      "Making 'packages.html' ... done\n",
      "Loading required package: lattice\n",
      "Loading required package: survival\n",
      "Loading required package: Formula\n",
      "Loading required package: ggplot2\n",
      "\n",
      "Attaching package: ‘Hmisc’\n",
      "\n",
      "The following objects are masked from ‘package:base’:\n",
      "\n",
      "    format.pval, units\n",
      "\n"
     ]
    },
    {
     "data": {
      "text/plain": [
       "\n",
       "[-21226,21205) [ 21205,21220) [ 21220,21227) [ 21227,21287] \n",
       "           338            375            300            314 "
      ]
     },
     "metadata": {},
     "output_type": "display_data"
    }
   ],
   "source": [
    "install.packages(\"Hmisc\")\n",
    "library(Hmisc)\n",
    "restData$zipGroups = cut2(restData$zipCode,g=4)\n",
    "table(restData$zipGroups)"
   ]
  },
  {
   "cell_type": "markdown",
   "metadata": {},
   "source": [
    "### Creating factor variables"
   ]
  },
  {
   "cell_type": "code",
   "execution_count": 25,
   "metadata": {},
   "outputs": [
    {
     "data": {
      "text/html": [
       "<ol class=list-inline>\n",
       "\t<li>21206</li>\n",
       "\t<li>21231</li>\n",
       "\t<li>21224</li>\n",
       "\t<li>21211</li>\n",
       "\t<li>21223</li>\n",
       "\t<li>21218</li>\n",
       "\t<li>21205</li>\n",
       "\t<li>21211</li>\n",
       "\t<li>21205</li>\n",
       "\t<li>21231</li>\n",
       "</ol>\n",
       "\n",
       "<details>\n",
       "\t<summary style=display:list-item;cursor:pointer>\n",
       "\t\t<strong>Levels</strong>:\n",
       "\t</summary>\n",
       "\t<ol class=list-inline>\n",
       "\t\t<li>'-21226'</li>\n",
       "\t\t<li>'21201'</li>\n",
       "\t\t<li>'21202'</li>\n",
       "\t\t<li>'21205'</li>\n",
       "\t\t<li>'21206'</li>\n",
       "\t\t<li>'21207'</li>\n",
       "\t\t<li>'21208'</li>\n",
       "\t\t<li>'21209'</li>\n",
       "\t\t<li>'21210'</li>\n",
       "\t\t<li>'21211'</li>\n",
       "\t\t<li>'21212'</li>\n",
       "\t\t<li>'21213'</li>\n",
       "\t\t<li>'21214'</li>\n",
       "\t\t<li>'21215'</li>\n",
       "\t\t<li>'21216'</li>\n",
       "\t\t<li>'21217'</li>\n",
       "\t\t<li>'21218'</li>\n",
       "\t\t<li>'21220'</li>\n",
       "\t\t<li>'21222'</li>\n",
       "\t\t<li>'21223'</li>\n",
       "\t\t<li>'21224'</li>\n",
       "\t\t<li>'21225'</li>\n",
       "\t\t<li>'21226'</li>\n",
       "\t\t<li>'21227'</li>\n",
       "\t\t<li>'21229'</li>\n",
       "\t\t<li>'21230'</li>\n",
       "\t\t<li>'21231'</li>\n",
       "\t\t<li>'21234'</li>\n",
       "\t\t<li>'21237'</li>\n",
       "\t\t<li>'21239'</li>\n",
       "\t\t<li>'21251'</li>\n",
       "\t\t<li>'21287'</li>\n",
       "\t</ol>\n",
       "</details>"
      ],
      "text/latex": [
       "\\begin{enumerate*}\n",
       "\\item 21206\n",
       "\\item 21231\n",
       "\\item 21224\n",
       "\\item 21211\n",
       "\\item 21223\n",
       "\\item 21218\n",
       "\\item 21205\n",
       "\\item 21211\n",
       "\\item 21205\n",
       "\\item 21231\n",
       "\\end{enumerate*}\n",
       "\n",
       "\\emph{Levels}: \\begin{enumerate*}\n",
       "\\item '-21226'\n",
       "\\item '21201'\n",
       "\\item '21202'\n",
       "\\item '21205'\n",
       "\\item '21206'\n",
       "\\item '21207'\n",
       "\\item '21208'\n",
       "\\item '21209'\n",
       "\\item '21210'\n",
       "\\item '21211'\n",
       "\\item '21212'\n",
       "\\item '21213'\n",
       "\\item '21214'\n",
       "\\item '21215'\n",
       "\\item '21216'\n",
       "\\item '21217'\n",
       "\\item '21218'\n",
       "\\item '21220'\n",
       "\\item '21222'\n",
       "\\item '21223'\n",
       "\\item '21224'\n",
       "\\item '21225'\n",
       "\\item '21226'\n",
       "\\item '21227'\n",
       "\\item '21229'\n",
       "\\item '21230'\n",
       "\\item '21231'\n",
       "\\item '21234'\n",
       "\\item '21237'\n",
       "\\item '21239'\n",
       "\\item '21251'\n",
       "\\item '21287'\n",
       "\\end{enumerate*}\n"
      ],
      "text/markdown": [
       "1. 21206\n",
       "2. 21231\n",
       "3. 21224\n",
       "4. 21211\n",
       "5. 21223\n",
       "6. 21218\n",
       "7. 21205\n",
       "8. 21211\n",
       "9. 21205\n",
       "10. 21231\n",
       "\n",
       "\n",
       "\n",
       "**Levels**: 1. '-21226'\n",
       "2. '21201'\n",
       "3. '21202'\n",
       "4. '21205'\n",
       "5. '21206'\n",
       "6. '21207'\n",
       "7. '21208'\n",
       "8. '21209'\n",
       "9. '21210'\n",
       "10. '21211'\n",
       "11. '21212'\n",
       "12. '21213'\n",
       "13. '21214'\n",
       "14. '21215'\n",
       "15. '21216'\n",
       "16. '21217'\n",
       "17. '21218'\n",
       "18. '21220'\n",
       "19. '21222'\n",
       "20. '21223'\n",
       "21. '21224'\n",
       "22. '21225'\n",
       "23. '21226'\n",
       "24. '21227'\n",
       "25. '21229'\n",
       "26. '21230'\n",
       "27. '21231'\n",
       "28. '21234'\n",
       "29. '21237'\n",
       "30. '21239'\n",
       "31. '21251'\n",
       "32. '21287'\n",
       "\n",
       "\n"
      ],
      "text/plain": [
       " [1] 21206 21231 21224 21211 21223 21218 21205 21211 21205 21231\n",
       "32 Levels: -21226 21201 21202 21205 21206 21207 21208 21209 21210 ... 21287"
      ]
     },
     "metadata": {},
     "output_type": "display_data"
    },
    {
     "data": {
      "text/html": [
       "'factor'"
      ],
      "text/latex": [
       "'factor'"
      ],
      "text/markdown": [
       "'factor'"
      ],
      "text/plain": [
       "[1] \"factor\""
      ]
     },
     "metadata": {},
     "output_type": "display_data"
    }
   ],
   "source": [
    "restData$zcf <- factor(restData$zipCode)\n",
    "restData$zcf[1:10]\n",
    "class(restData$zcf)"
   ]
  },
  {
   "cell_type": "markdown",
   "metadata": {},
   "source": [
    "### Levels of factor variables"
   ]
  },
  {
   "cell_type": "code",
   "execution_count": 26,
   "metadata": {},
   "outputs": [
    {
     "data": {
      "text/html": [
       "<ol class=list-inline>\n",
       "\t<li>yes</li>\n",
       "\t<li>yes</li>\n",
       "\t<li>no</li>\n",
       "\t<li>no</li>\n",
       "\t<li>no</li>\n",
       "\t<li>yes</li>\n",
       "\t<li>no</li>\n",
       "\t<li>no</li>\n",
       "\t<li>no</li>\n",
       "\t<li>no</li>\n",
       "</ol>\n",
       "\n",
       "<details>\n",
       "\t<summary style=display:list-item;cursor:pointer>\n",
       "\t\t<strong>Levels</strong>:\n",
       "\t</summary>\n",
       "\t<ol class=list-inline>\n",
       "\t\t<li>'no'</li>\n",
       "\t\t<li>'yes'</li>\n",
       "\t</ol>\n",
       "</details>"
      ],
      "text/latex": [
       "\\begin{enumerate*}\n",
       "\\item yes\n",
       "\\item yes\n",
       "\\item no\n",
       "\\item no\n",
       "\\item no\n",
       "\\item yes\n",
       "\\item no\n",
       "\\item no\n",
       "\\item no\n",
       "\\item no\n",
       "\\end{enumerate*}\n",
       "\n",
       "\\emph{Levels}: \\begin{enumerate*}\n",
       "\\item 'no'\n",
       "\\item 'yes'\n",
       "\\end{enumerate*}\n"
      ],
      "text/markdown": [
       "1. yes\n",
       "2. yes\n",
       "3. no\n",
       "4. no\n",
       "5. no\n",
       "6. yes\n",
       "7. no\n",
       "8. no\n",
       "9. no\n",
       "10. no\n",
       "\n",
       "\n",
       "\n",
       "**Levels**: 1. 'no'\n",
       "2. 'yes'\n",
       "\n",
       "\n"
      ],
      "text/plain": [
       " [1] yes yes no  no  no  yes no  no  no  no \n",
       "Levels: no yes"
      ]
     },
     "metadata": {},
     "output_type": "display_data"
    },
    {
     "data": {
      "text/html": [
       "<ol class=list-inline>\n",
       "\t<li>1</li>\n",
       "\t<li>1</li>\n",
       "\t<li>2</li>\n",
       "\t<li>2</li>\n",
       "\t<li>2</li>\n",
       "\t<li>1</li>\n",
       "\t<li>2</li>\n",
       "\t<li>2</li>\n",
       "\t<li>2</li>\n",
       "\t<li>2</li>\n",
       "</ol>\n"
      ],
      "text/latex": [
       "\\begin{enumerate*}\n",
       "\\item 1\n",
       "\\item 1\n",
       "\\item 2\n",
       "\\item 2\n",
       "\\item 2\n",
       "\\item 1\n",
       "\\item 2\n",
       "\\item 2\n",
       "\\item 2\n",
       "\\item 2\n",
       "\\end{enumerate*}\n"
      ],
      "text/markdown": [
       "1. 1\n",
       "2. 1\n",
       "3. 2\n",
       "4. 2\n",
       "5. 2\n",
       "6. 1\n",
       "7. 2\n",
       "8. 2\n",
       "9. 2\n",
       "10. 2\n",
       "\n",
       "\n"
      ],
      "text/plain": [
       " [1] 1 1 2 2 2 1 2 2 2 2"
      ]
     },
     "metadata": {},
     "output_type": "display_data"
    }
   ],
   "source": [
    "yesno <- sample(c(\"yes\",\"no\"),size=10,replace=TRUE)\n",
    "yesnofac = factor(yesno,levels=c(\"yes\",\"no\"))\n",
    "relevel(yesnofac,ref=\"no\")\n",
    "as.numeric(yesnofac)"
   ]
  },
  {
   "cell_type": "markdown",
   "metadata": {},
   "source": [
    "### Cutting produces factor variables"
   ]
  },
  {
   "cell_type": "code",
   "execution_count": 27,
   "metadata": {},
   "outputs": [
    {
     "data": {
      "text/plain": [
       "\n",
       "[-21226,21205) [ 21205,21220) [ 21220,21227) [ 21227,21287] \n",
       "           338            375            300            314 "
      ]
     },
     "metadata": {},
     "output_type": "display_data"
    }
   ],
   "source": [
    "library(Hmisc)\n",
    "restData$zipGroups = cut2(restData$zipCode,g=4)\n",
    "table(restData$zipGroups)"
   ]
  },
  {
   "cell_type": "markdown",
   "metadata": {},
   "source": [
    "### Using the mutate function"
   ]
  },
  {
   "cell_type": "code",
   "execution_count": 28,
   "metadata": {},
   "outputs": [
    {
     "name": "stderr",
     "output_type": "stream",
     "text": [
      "\n",
      "Attaching package: ‘plyr’\n",
      "\n",
      "The following objects are masked from ‘package:Hmisc’:\n",
      "\n",
      "    is.discrete, summarize\n",
      "\n"
     ]
    },
    {
     "data": {
      "text/plain": [
       "\n",
       "[-21226,21205) [ 21205,21220) [ 21220,21227) [ 21227,21287] \n",
       "           338            375            300            314 "
      ]
     },
     "metadata": {},
     "output_type": "display_data"
    }
   ],
   "source": [
    "library(Hmisc); library(plyr)\n",
    "restData2 = mutate(restData,zipGroups=cut2(zipCode,g=4))\n",
    "table(restData2$zipGroups)"
   ]
  },
  {
   "cell_type": "markdown",
   "metadata": {},
   "source": [
    "### Common transforms\n",
    "\n",
    "* `abs(x)` absolute value\n",
    "* `sqrt(x)` square root\n",
    "* `ceiling(x)` ceiling(3.475) is 4\n",
    "* `floor(x)` floor(3.475) is 3\n",
    "* `round(x,digits=n)` round(3.475,digits=2) is 3.48\n",
    "* `signif(x,digits=n)` signif(3.475,digits=2) is 3.5\n",
    "* `cos(x), sin(x)` etc.\n",
    "* `log(x)` natural logarithm\n",
    "* `log2(x)`, `log10(x)` other common logs\n",
    "* `exp(x)` exponentiating x\n",
    "\n",
    "[http://www.biostat.jhsph.edu/~ajaffe/lec_winterR/Lecture%202.pdf](http://www.biostat.jhsph.edu/~ajaffe/lec_winterR/Lecture%202.pdf)\n",
    "[http://statmethods.net/management/functions.html](http://statmethods.net/management/functions.html)"
   ]
  },
  {
   "cell_type": "markdown",
   "metadata": {},
   "source": [
    "### Notes and further reading\n",
    "\n",
    "* A tutorial from the developer of plyr - [http://plyr.had.co.nz/09-user/](http://plyr.had.co.nz/09-user/)\n",
    "* Andrew Jaffe's R notes [http://www.biostat.jhsph.edu/~ajaffe/lec_winterR/Lecture%202.pdf](http://www.biostat.jhsph.edu/~ajaffe/lec_winterR/Lecture%202.pdf)\n",
    "* A nice lecture on categorical and factor variables [http://www.stat.berkeley.edu/classes/s133/factors.html](http://www.stat.berkeley.edu/classes/s133/factors.html)"
   ]
  },
  {
   "cell_type": "markdown",
   "metadata": {},
   "source": [
    "## Reshaping data"
   ]
  },
  {
   "cell_type": "markdown",
   "metadata": {},
   "source": [
    "### The goal is tidy data\n",
    "\n",
    "<img class=center src=\"https://raw.githubusercontent.com/DataScienceSpecialization/courses/master/assets/img/01_DataScientistToolbox/excel.png\" height=300 />\n",
    "\n",
    "\n",
    "1. Each variable forms a column\n",
    "2. Each observation forms a row\n",
    "3. Each table/file stores data about one kind of observation (e.g. people/hospitals).\n",
    "\n",
    "\n",
    "[http://vita.had.co.nz/papers/tidy-data.pdf](http://vita.had.co.nz/papers/tidy-data.pdf)\n",
    "\n",
    "[Leek, Taub, and Pineda 2011 PLoS One](http://www.plosone.org/article/info%3Adoi%2F10.1371%2Fjournal.pone.0026895)\n"
   ]
  },
  {
   "cell_type": "markdown",
   "metadata": {},
   "source": [
    "### Start with reshaping"
   ]
  },
  {
   "cell_type": "code",
   "execution_count": 29,
   "metadata": {},
   "outputs": [
    {
     "data": {
      "text/html": [
       "<table>\n",
       "<thead><tr><th></th><th scope=col>mpg</th><th scope=col>cyl</th><th scope=col>disp</th><th scope=col>hp</th><th scope=col>drat</th><th scope=col>wt</th><th scope=col>qsec</th><th scope=col>vs</th><th scope=col>am</th><th scope=col>gear</th><th scope=col>carb</th></tr></thead>\n",
       "<tbody>\n",
       "\t<tr><th scope=row>Mazda RX4</th><td>21.0 </td><td>6    </td><td>160  </td><td>110  </td><td>3.90 </td><td>2.620</td><td>16.46</td><td>0    </td><td>1    </td><td>4    </td><td>4    </td></tr>\n",
       "\t<tr><th scope=row>Mazda RX4 Wag</th><td>21.0 </td><td>6    </td><td>160  </td><td>110  </td><td>3.90 </td><td>2.875</td><td>17.02</td><td>0    </td><td>1    </td><td>4    </td><td>4    </td></tr>\n",
       "\t<tr><th scope=row>Datsun 710</th><td>22.8 </td><td>4    </td><td>108  </td><td> 93  </td><td>3.85 </td><td>2.320</td><td>18.61</td><td>1    </td><td>1    </td><td>4    </td><td>1    </td></tr>\n",
       "\t<tr><th scope=row>Hornet 4 Drive</th><td>21.4 </td><td>6    </td><td>258  </td><td>110  </td><td>3.08 </td><td>3.215</td><td>19.44</td><td>1    </td><td>0    </td><td>3    </td><td>1    </td></tr>\n",
       "\t<tr><th scope=row>Hornet Sportabout</th><td>18.7 </td><td>8    </td><td>360  </td><td>175  </td><td>3.15 </td><td>3.440</td><td>17.02</td><td>0    </td><td>0    </td><td>3    </td><td>2    </td></tr>\n",
       "\t<tr><th scope=row>Valiant</th><td>18.1 </td><td>6    </td><td>225  </td><td>105  </td><td>2.76 </td><td>3.460</td><td>20.22</td><td>1    </td><td>0    </td><td>3    </td><td>1    </td></tr>\n",
       "</tbody>\n",
       "</table>\n"
      ],
      "text/latex": [
       "\\begin{tabular}{r|lllllllllll}\n",
       "  & mpg & cyl & disp & hp & drat & wt & qsec & vs & am & gear & carb\\\\\n",
       "\\hline\n",
       "\tMazda RX4 & 21.0  & 6     & 160   & 110   & 3.90  & 2.620 & 16.46 & 0     & 1     & 4     & 4    \\\\\n",
       "\tMazda RX4 Wag & 21.0  & 6     & 160   & 110   & 3.90  & 2.875 & 17.02 & 0     & 1     & 4     & 4    \\\\\n",
       "\tDatsun 710 & 22.8  & 4     & 108   &  93   & 3.85  & 2.320 & 18.61 & 1     & 1     & 4     & 1    \\\\\n",
       "\tHornet 4 Drive & 21.4  & 6     & 258   & 110   & 3.08  & 3.215 & 19.44 & 1     & 0     & 3     & 1    \\\\\n",
       "\tHornet Sportabout & 18.7  & 8     & 360   & 175   & 3.15  & 3.440 & 17.02 & 0     & 0     & 3     & 2    \\\\\n",
       "\tValiant & 18.1  & 6     & 225   & 105   & 2.76  & 3.460 & 20.22 & 1     & 0     & 3     & 1    \\\\\n",
       "\\end{tabular}\n"
      ],
      "text/markdown": [
       "\n",
       "| <!--/--> | mpg | cyl | disp | hp | drat | wt | qsec | vs | am | gear | carb |\n",
       "|---|---|---|---|---|---|---|---|---|---|---|---|\n",
       "| Mazda RX4 | 21.0  | 6     | 160   | 110   | 3.90  | 2.620 | 16.46 | 0     | 1     | 4     | 4     |\n",
       "| Mazda RX4 Wag | 21.0  | 6     | 160   | 110   | 3.90  | 2.875 | 17.02 | 0     | 1     | 4     | 4     |\n",
       "| Datsun 710 | 22.8  | 4     | 108   |  93   | 3.85  | 2.320 | 18.61 | 1     | 1     | 4     | 1     |\n",
       "| Hornet 4 Drive | 21.4  | 6     | 258   | 110   | 3.08  | 3.215 | 19.44 | 1     | 0     | 3     | 1     |\n",
       "| Hornet Sportabout | 18.7  | 8     | 360   | 175   | 3.15  | 3.440 | 17.02 | 0     | 0     | 3     | 2     |\n",
       "| Valiant | 18.1  | 6     | 225   | 105   | 2.76  | 3.460 | 20.22 | 1     | 0     | 3     | 1     |\n",
       "\n"
      ],
      "text/plain": [
       "                  mpg  cyl disp hp  drat wt    qsec  vs am gear carb\n",
       "Mazda RX4         21.0 6   160  110 3.90 2.620 16.46 0  1  4    4   \n",
       "Mazda RX4 Wag     21.0 6   160  110 3.90 2.875 17.02 0  1  4    4   \n",
       "Datsun 710        22.8 4   108   93 3.85 2.320 18.61 1  1  4    1   \n",
       "Hornet 4 Drive    21.4 6   258  110 3.08 3.215 19.44 1  0  3    1   \n",
       "Hornet Sportabout 18.7 8   360  175 3.15 3.440 17.02 0  0  3    2   \n",
       "Valiant           18.1 6   225  105 2.76 3.460 20.22 1  0  3    1   "
      ]
     },
     "metadata": {},
     "output_type": "display_data"
    }
   ],
   "source": [
    "library(reshape2)\n",
    "head(mtcars)"
   ]
  },
  {
   "cell_type": "markdown",
   "metadata": {},
   "source": [
    "### Melting data frames\n"
   ]
  },
  {
   "cell_type": "code",
   "execution_count": 30,
   "metadata": {},
   "outputs": [
    {
     "data": {
      "text/html": [
       "<table>\n",
       "<thead><tr><th scope=col>carname</th><th scope=col>gear</th><th scope=col>cyl</th><th scope=col>variable</th><th scope=col>value</th></tr></thead>\n",
       "<tbody>\n",
       "\t<tr><td>Mazda RX4    </td><td>4            </td><td>6            </td><td>mpg          </td><td>21.0         </td></tr>\n",
       "\t<tr><td>Mazda RX4 Wag</td><td>4            </td><td>6            </td><td>mpg          </td><td>21.0         </td></tr>\n",
       "\t<tr><td>Datsun 710   </td><td>4            </td><td>4            </td><td>mpg          </td><td>22.8         </td></tr>\n",
       "</tbody>\n",
       "</table>\n"
      ],
      "text/latex": [
       "\\begin{tabular}{r|lllll}\n",
       " carname & gear & cyl & variable & value\\\\\n",
       "\\hline\n",
       "\t Mazda RX4     & 4             & 6             & mpg           & 21.0         \\\\\n",
       "\t Mazda RX4 Wag & 4             & 6             & mpg           & 21.0         \\\\\n",
       "\t Datsun 710    & 4             & 4             & mpg           & 22.8         \\\\\n",
       "\\end{tabular}\n"
      ],
      "text/markdown": [
       "\n",
       "| carname | gear | cyl | variable | value |\n",
       "|---|---|---|---|---|\n",
       "| Mazda RX4     | 4             | 6             | mpg           | 21.0          |\n",
       "| Mazda RX4 Wag | 4             | 6             | mpg           | 21.0          |\n",
       "| Datsun 710    | 4             | 4             | mpg           | 22.8          |\n",
       "\n"
      ],
      "text/plain": [
       "  carname       gear cyl variable value\n",
       "1 Mazda RX4     4    6   mpg      21.0 \n",
       "2 Mazda RX4 Wag 4    6   mpg      21.0 \n",
       "3 Datsun 710    4    4   mpg      22.8 "
      ]
     },
     "metadata": {},
     "output_type": "display_data"
    },
    {
     "data": {
      "text/html": [
       "<table>\n",
       "<thead><tr><th></th><th scope=col>carname</th><th scope=col>gear</th><th scope=col>cyl</th><th scope=col>variable</th><th scope=col>value</th></tr></thead>\n",
       "<tbody>\n",
       "\t<tr><th scope=row>62</th><td>Ferrari Dino </td><td>5            </td><td>6            </td><td>hp           </td><td>175          </td></tr>\n",
       "\t<tr><th scope=row>63</th><td>Maserati Bora</td><td>5            </td><td>8            </td><td>hp           </td><td>335          </td></tr>\n",
       "\t<tr><th scope=row>64</th><td>Volvo 142E   </td><td>4            </td><td>4            </td><td>hp           </td><td>109          </td></tr>\n",
       "</tbody>\n",
       "</table>\n"
      ],
      "text/latex": [
       "\\begin{tabular}{r|lllll}\n",
       "  & carname & gear & cyl & variable & value\\\\\n",
       "\\hline\n",
       "\t62 & Ferrari Dino  & 5             & 6             & hp            & 175          \\\\\n",
       "\t63 & Maserati Bora & 5             & 8             & hp            & 335          \\\\\n",
       "\t64 & Volvo 142E    & 4             & 4             & hp            & 109          \\\\\n",
       "\\end{tabular}\n"
      ],
      "text/markdown": [
       "\n",
       "| <!--/--> | carname | gear | cyl | variable | value |\n",
       "|---|---|---|---|---|---|\n",
       "| 62 | Ferrari Dino  | 5             | 6             | hp            | 175           |\n",
       "| 63 | Maserati Bora | 5             | 8             | hp            | 335           |\n",
       "| 64 | Volvo 142E    | 4             | 4             | hp            | 109           |\n",
       "\n"
      ],
      "text/plain": [
       "   carname       gear cyl variable value\n",
       "62 Ferrari Dino  5    6   hp       175  \n",
       "63 Maserati Bora 5    8   hp       335  \n",
       "64 Volvo 142E    4    4   hp       109  "
      ]
     },
     "metadata": {},
     "output_type": "display_data"
    }
   ],
   "source": [
    "mtcars$carname <- rownames(mtcars)\n",
    "carMelt <- melt(mtcars,id=c(\"carname\",\"gear\",\"cyl\"),measure.vars=c(\"mpg\",\"hp\"))\n",
    "head(carMelt,n=3)\n",
    "tail(carMelt,n=3)"
   ]
  },
  {
   "cell_type": "markdown",
   "metadata": {},
   "source": [
    "[http://www.statmethods.net/management/reshape.html](http://www.statmethods.net/management/reshape.html)"
   ]
  },
  {
   "cell_type": "markdown",
   "metadata": {},
   "source": [
    "### Casting data frames\n",
    "\n",
    "[http://www.statmethods.net/management/reshape.html](http://www.statmethods.net/management/reshape.html)\n"
   ]
  },
  {
   "cell_type": "code",
   "execution_count": 32,
   "metadata": {},
   "outputs": [
    {
     "name": "stderr",
     "output_type": "stream",
     "text": [
      "Aggregation function missing: defaulting to length\n"
     ]
    },
    {
     "data": {
      "text/html": [
       "<table>\n",
       "<thead><tr><th scope=col>cyl</th><th scope=col>mpg</th><th scope=col>hp</th></tr></thead>\n",
       "<tbody>\n",
       "\t<tr><td>4 </td><td>11</td><td>11</td></tr>\n",
       "\t<tr><td>6 </td><td> 7</td><td> 7</td></tr>\n",
       "\t<tr><td>8 </td><td>14</td><td>14</td></tr>\n",
       "</tbody>\n",
       "</table>\n"
      ],
      "text/latex": [
       "\\begin{tabular}{r|lll}\n",
       " cyl & mpg & hp\\\\\n",
       "\\hline\n",
       "\t 4  & 11 & 11\\\\\n",
       "\t 6  &  7 &  7\\\\\n",
       "\t 8  & 14 & 14\\\\\n",
       "\\end{tabular}\n"
      ],
      "text/markdown": [
       "\n",
       "| cyl | mpg | hp |\n",
       "|---|---|---|\n",
       "| 4  | 11 | 11 |\n",
       "| 6  |  7 |  7 |\n",
       "| 8  | 14 | 14 |\n",
       "\n"
      ],
      "text/plain": [
       "  cyl mpg hp\n",
       "1 4   11  11\n",
       "2 6    7   7\n",
       "3 8   14  14"
      ]
     },
     "metadata": {},
     "output_type": "display_data"
    },
    {
     "data": {
      "text/html": [
       "<table>\n",
       "<thead><tr><th scope=col>cyl</th><th scope=col>mpg</th><th scope=col>hp</th></tr></thead>\n",
       "<tbody>\n",
       "\t<tr><td>4        </td><td>26.66364 </td><td> 82.63636</td></tr>\n",
       "\t<tr><td>6        </td><td>19.74286 </td><td>122.28571</td></tr>\n",
       "\t<tr><td>8        </td><td>15.10000 </td><td>209.21429</td></tr>\n",
       "</tbody>\n",
       "</table>\n"
      ],
      "text/latex": [
       "\\begin{tabular}{r|lll}\n",
       " cyl & mpg & hp\\\\\n",
       "\\hline\n",
       "\t 4         & 26.66364  &  82.63636\\\\\n",
       "\t 6         & 19.74286  & 122.28571\\\\\n",
       "\t 8         & 15.10000  & 209.21429\\\\\n",
       "\\end{tabular}\n"
      ],
      "text/markdown": [
       "\n",
       "| cyl | mpg | hp |\n",
       "|---|---|---|\n",
       "| 4         | 26.66364  |  82.63636 |\n",
       "| 6         | 19.74286  | 122.28571 |\n",
       "| 8         | 15.10000  | 209.21429 |\n",
       "\n"
      ],
      "text/plain": [
       "  cyl mpg      hp       \n",
       "1 4   26.66364  82.63636\n",
       "2 6   19.74286 122.28571\n",
       "3 8   15.10000 209.21429"
      ]
     },
     "metadata": {},
     "output_type": "display_data"
    }
   ],
   "source": [
    "cylData <- dcast(carMelt, cyl ~ variable)\n",
    "cylData\n",
    "cylData <- dcast(carMelt, cyl ~ variable,mean)\n",
    "cylData\n"
   ]
  },
  {
   "cell_type": "markdown",
   "metadata": {},
   "source": [
    "### Averaging values\n",
    "\n",
    "[http://www.r-bloggers.com/a-quick-primer-on-split-apply-combine-problems/](http://www.r-bloggers.com/a-quick-primer-on-split-apply-combine-problems/)\n"
   ]
  },
  {
   "cell_type": "code",
   "execution_count": 35,
   "metadata": {},
   "outputs": [
    {
     "data": {
      "text/html": [
       "<table>\n",
       "<thead><tr><th scope=col>count</th><th scope=col>spray</th></tr></thead>\n",
       "<tbody>\n",
       "\t<tr><td>10</td><td>A </td></tr>\n",
       "\t<tr><td> 7</td><td>A </td></tr>\n",
       "\t<tr><td>20</td><td>A </td></tr>\n",
       "\t<tr><td>14</td><td>A </td></tr>\n",
       "\t<tr><td>14</td><td>A </td></tr>\n",
       "\t<tr><td>12</td><td>A </td></tr>\n",
       "</tbody>\n",
       "</table>\n"
      ],
      "text/latex": [
       "\\begin{tabular}{r|ll}\n",
       " count & spray\\\\\n",
       "\\hline\n",
       "\t 10 & A \\\\\n",
       "\t  7 & A \\\\\n",
       "\t 20 & A \\\\\n",
       "\t 14 & A \\\\\n",
       "\t 14 & A \\\\\n",
       "\t 12 & A \\\\\n",
       "\\end{tabular}\n"
      ],
      "text/markdown": [
       "\n",
       "| count | spray |\n",
       "|---|---|\n",
       "| 10 | A  |\n",
       "|  7 | A  |\n",
       "| 20 | A  |\n",
       "| 14 | A  |\n",
       "| 14 | A  |\n",
       "| 12 | A  |\n",
       "\n"
      ],
      "text/plain": [
       "  count spray\n",
       "1 10    A    \n",
       "2  7    A    \n",
       "3 20    A    \n",
       "4 14    A    \n",
       "5 14    A    \n",
       "6 12    A    "
      ]
     },
     "metadata": {},
     "output_type": "display_data"
    },
    {
     "data": {
      "text/html": [
       "<dl class=dl-horizontal>\n",
       "\t<dt>A</dt>\n",
       "\t\t<dd>174</dd>\n",
       "\t<dt>B</dt>\n",
       "\t\t<dd>184</dd>\n",
       "\t<dt>C</dt>\n",
       "\t\t<dd>25</dd>\n",
       "\t<dt>D</dt>\n",
       "\t\t<dd>59</dd>\n",
       "\t<dt>E</dt>\n",
       "\t\t<dd>42</dd>\n",
       "\t<dt>F</dt>\n",
       "\t\t<dd>200</dd>\n",
       "</dl>\n"
      ],
      "text/latex": [
       "\\begin{description*}\n",
       "\\item[A] 174\n",
       "\\item[B] 184\n",
       "\\item[C] 25\n",
       "\\item[D] 59\n",
       "\\item[E] 42\n",
       "\\item[F] 200\n",
       "\\end{description*}\n"
      ],
      "text/markdown": [
       "A\n",
       ":   174B\n",
       ":   184C\n",
       ":   25D\n",
       ":   59E\n",
       ":   42F\n",
       ":   200\n",
       "\n"
      ],
      "text/plain": [
       "  A   B   C   D   E   F \n",
       "174 184  25  59  42 200 "
      ]
     },
     "metadata": {},
     "output_type": "display_data"
    }
   ],
   "source": [
    "head(InsectSprays)\n",
    "tapply(InsectSprays$count,InsectSprays$spray,sum)"
   ]
  },
  {
   "cell_type": "markdown",
   "metadata": {},
   "source": [
    "### Another way - split"
   ]
  },
  {
   "cell_type": "code",
   "execution_count": 36,
   "metadata": {},
   "outputs": [
    {
     "data": {
      "text/html": [
       "<dl>\n",
       "\t<dt>$A</dt>\n",
       "\t\t<dd><ol class=list-inline>\n",
       "\t<li>10</li>\n",
       "\t<li>7</li>\n",
       "\t<li>20</li>\n",
       "\t<li>14</li>\n",
       "\t<li>14</li>\n",
       "\t<li>12</li>\n",
       "\t<li>10</li>\n",
       "\t<li>23</li>\n",
       "\t<li>17</li>\n",
       "\t<li>20</li>\n",
       "\t<li>14</li>\n",
       "\t<li>13</li>\n",
       "</ol>\n",
       "</dd>\n",
       "\t<dt>$B</dt>\n",
       "\t\t<dd><ol class=list-inline>\n",
       "\t<li>11</li>\n",
       "\t<li>17</li>\n",
       "\t<li>21</li>\n",
       "\t<li>11</li>\n",
       "\t<li>16</li>\n",
       "\t<li>14</li>\n",
       "\t<li>17</li>\n",
       "\t<li>17</li>\n",
       "\t<li>19</li>\n",
       "\t<li>21</li>\n",
       "\t<li>7</li>\n",
       "\t<li>13</li>\n",
       "</ol>\n",
       "</dd>\n",
       "\t<dt>$C</dt>\n",
       "\t\t<dd><ol class=list-inline>\n",
       "\t<li>0</li>\n",
       "\t<li>1</li>\n",
       "\t<li>7</li>\n",
       "\t<li>2</li>\n",
       "\t<li>3</li>\n",
       "\t<li>1</li>\n",
       "\t<li>2</li>\n",
       "\t<li>1</li>\n",
       "\t<li>3</li>\n",
       "\t<li>0</li>\n",
       "\t<li>1</li>\n",
       "\t<li>4</li>\n",
       "</ol>\n",
       "</dd>\n",
       "\t<dt>$D</dt>\n",
       "\t\t<dd><ol class=list-inline>\n",
       "\t<li>3</li>\n",
       "\t<li>5</li>\n",
       "\t<li>12</li>\n",
       "\t<li>6</li>\n",
       "\t<li>4</li>\n",
       "\t<li>3</li>\n",
       "\t<li>5</li>\n",
       "\t<li>5</li>\n",
       "\t<li>5</li>\n",
       "\t<li>5</li>\n",
       "\t<li>2</li>\n",
       "\t<li>4</li>\n",
       "</ol>\n",
       "</dd>\n",
       "\t<dt>$E</dt>\n",
       "\t\t<dd><ol class=list-inline>\n",
       "\t<li>3</li>\n",
       "\t<li>5</li>\n",
       "\t<li>3</li>\n",
       "\t<li>5</li>\n",
       "\t<li>3</li>\n",
       "\t<li>6</li>\n",
       "\t<li>1</li>\n",
       "\t<li>1</li>\n",
       "\t<li>3</li>\n",
       "\t<li>2</li>\n",
       "\t<li>6</li>\n",
       "\t<li>4</li>\n",
       "</ol>\n",
       "</dd>\n",
       "\t<dt>$F</dt>\n",
       "\t\t<dd><ol class=list-inline>\n",
       "\t<li>11</li>\n",
       "\t<li>9</li>\n",
       "\t<li>15</li>\n",
       "\t<li>22</li>\n",
       "\t<li>15</li>\n",
       "\t<li>16</li>\n",
       "\t<li>13</li>\n",
       "\t<li>10</li>\n",
       "\t<li>26</li>\n",
       "\t<li>26</li>\n",
       "\t<li>24</li>\n",
       "\t<li>13</li>\n",
       "</ol>\n",
       "</dd>\n",
       "</dl>\n"
      ],
      "text/latex": [
       "\\begin{description}\n",
       "\\item[\\$A] \\begin{enumerate*}\n",
       "\\item 10\n",
       "\\item 7\n",
       "\\item 20\n",
       "\\item 14\n",
       "\\item 14\n",
       "\\item 12\n",
       "\\item 10\n",
       "\\item 23\n",
       "\\item 17\n",
       "\\item 20\n",
       "\\item 14\n",
       "\\item 13\n",
       "\\end{enumerate*}\n",
       "\n",
       "\\item[\\$B] \\begin{enumerate*}\n",
       "\\item 11\n",
       "\\item 17\n",
       "\\item 21\n",
       "\\item 11\n",
       "\\item 16\n",
       "\\item 14\n",
       "\\item 17\n",
       "\\item 17\n",
       "\\item 19\n",
       "\\item 21\n",
       "\\item 7\n",
       "\\item 13\n",
       "\\end{enumerate*}\n",
       "\n",
       "\\item[\\$C] \\begin{enumerate*}\n",
       "\\item 0\n",
       "\\item 1\n",
       "\\item 7\n",
       "\\item 2\n",
       "\\item 3\n",
       "\\item 1\n",
       "\\item 2\n",
       "\\item 1\n",
       "\\item 3\n",
       "\\item 0\n",
       "\\item 1\n",
       "\\item 4\n",
       "\\end{enumerate*}\n",
       "\n",
       "\\item[\\$D] \\begin{enumerate*}\n",
       "\\item 3\n",
       "\\item 5\n",
       "\\item 12\n",
       "\\item 6\n",
       "\\item 4\n",
       "\\item 3\n",
       "\\item 5\n",
       "\\item 5\n",
       "\\item 5\n",
       "\\item 5\n",
       "\\item 2\n",
       "\\item 4\n",
       "\\end{enumerate*}\n",
       "\n",
       "\\item[\\$E] \\begin{enumerate*}\n",
       "\\item 3\n",
       "\\item 5\n",
       "\\item 3\n",
       "\\item 5\n",
       "\\item 3\n",
       "\\item 6\n",
       "\\item 1\n",
       "\\item 1\n",
       "\\item 3\n",
       "\\item 2\n",
       "\\item 6\n",
       "\\item 4\n",
       "\\end{enumerate*}\n",
       "\n",
       "\\item[\\$F] \\begin{enumerate*}\n",
       "\\item 11\n",
       "\\item 9\n",
       "\\item 15\n",
       "\\item 22\n",
       "\\item 15\n",
       "\\item 16\n",
       "\\item 13\n",
       "\\item 10\n",
       "\\item 26\n",
       "\\item 26\n",
       "\\item 24\n",
       "\\item 13\n",
       "\\end{enumerate*}\n",
       "\n",
       "\\end{description}\n"
      ],
      "text/markdown": [
       "$A\n",
       ":   1. 10\n",
       "2. 7\n",
       "3. 20\n",
       "4. 14\n",
       "5. 14\n",
       "6. 12\n",
       "7. 10\n",
       "8. 23\n",
       "9. 17\n",
       "10. 20\n",
       "11. 14\n",
       "12. 13\n",
       "\n",
       "\n",
       "\n",
       "$B\n",
       ":   1. 11\n",
       "2. 17\n",
       "3. 21\n",
       "4. 11\n",
       "5. 16\n",
       "6. 14\n",
       "7. 17\n",
       "8. 17\n",
       "9. 19\n",
       "10. 21\n",
       "11. 7\n",
       "12. 13\n",
       "\n",
       "\n",
       "\n",
       "$C\n",
       ":   1. 0\n",
       "2. 1\n",
       "3. 7\n",
       "4. 2\n",
       "5. 3\n",
       "6. 1\n",
       "7. 2\n",
       "8. 1\n",
       "9. 3\n",
       "10. 0\n",
       "11. 1\n",
       "12. 4\n",
       "\n",
       "\n",
       "\n",
       "$D\n",
       ":   1. 3\n",
       "2. 5\n",
       "3. 12\n",
       "4. 6\n",
       "5. 4\n",
       "6. 3\n",
       "7. 5\n",
       "8. 5\n",
       "9. 5\n",
       "10. 5\n",
       "11. 2\n",
       "12. 4\n",
       "\n",
       "\n",
       "\n",
       "$E\n",
       ":   1. 3\n",
       "2. 5\n",
       "3. 3\n",
       "4. 5\n",
       "5. 3\n",
       "6. 6\n",
       "7. 1\n",
       "8. 1\n",
       "9. 3\n",
       "10. 2\n",
       "11. 6\n",
       "12. 4\n",
       "\n",
       "\n",
       "\n",
       "$F\n",
       ":   1. 11\n",
       "2. 9\n",
       "3. 15\n",
       "4. 22\n",
       "5. 15\n",
       "6. 16\n",
       "7. 13\n",
       "8. 10\n",
       "9. 26\n",
       "10. 26\n",
       "11. 24\n",
       "12. 13\n",
       "\n",
       "\n",
       "\n",
       "\n",
       "\n"
      ],
      "text/plain": [
       "$A\n",
       " [1] 10  7 20 14 14 12 10 23 17 20 14 13\n",
       "\n",
       "$B\n",
       " [1] 11 17 21 11 16 14 17 17 19 21  7 13\n",
       "\n",
       "$C\n",
       " [1] 0 1 7 2 3 1 2 1 3 0 1 4\n",
       "\n",
       "$D\n",
       " [1]  3  5 12  6  4  3  5  5  5  5  2  4\n",
       "\n",
       "$E\n",
       " [1] 3 5 3 5 3 6 1 1 3 2 6 4\n",
       "\n",
       "$F\n",
       " [1] 11  9 15 22 15 16 13 10 26 26 24 13\n"
      ]
     },
     "metadata": {},
     "output_type": "display_data"
    }
   ],
   "source": [
    "spIns =  split(InsectSprays$count,InsectSprays$spray)\n",
    "spIns"
   ]
  },
  {
   "cell_type": "markdown",
   "metadata": {},
   "source": [
    "### Another way - apply"
   ]
  },
  {
   "cell_type": "code",
   "execution_count": 37,
   "metadata": {},
   "outputs": [
    {
     "data": {
      "text/html": [
       "<dl>\n",
       "\t<dt>$A</dt>\n",
       "\t\t<dd>174</dd>\n",
       "\t<dt>$B</dt>\n",
       "\t\t<dd>184</dd>\n",
       "\t<dt>$C</dt>\n",
       "\t\t<dd>25</dd>\n",
       "\t<dt>$D</dt>\n",
       "\t\t<dd>59</dd>\n",
       "\t<dt>$E</dt>\n",
       "\t\t<dd>42</dd>\n",
       "\t<dt>$F</dt>\n",
       "\t\t<dd>200</dd>\n",
       "</dl>\n"
      ],
      "text/latex": [
       "\\begin{description}\n",
       "\\item[\\$A] 174\n",
       "\\item[\\$B] 184\n",
       "\\item[\\$C] 25\n",
       "\\item[\\$D] 59\n",
       "\\item[\\$E] 42\n",
       "\\item[\\$F] 200\n",
       "\\end{description}\n"
      ],
      "text/markdown": [
       "$A\n",
       ":   174\n",
       "$B\n",
       ":   184\n",
       "$C\n",
       ":   25\n",
       "$D\n",
       ":   59\n",
       "$E\n",
       ":   42\n",
       "$F\n",
       ":   200\n",
       "\n",
       "\n"
      ],
      "text/plain": [
       "$A\n",
       "[1] 174\n",
       "\n",
       "$B\n",
       "[1] 184\n",
       "\n",
       "$C\n",
       "[1] 25\n",
       "\n",
       "$D\n",
       "[1] 59\n",
       "\n",
       "$E\n",
       "[1] 42\n",
       "\n",
       "$F\n",
       "[1] 200\n"
      ]
     },
     "metadata": {},
     "output_type": "display_data"
    }
   ],
   "source": [
    "sprCount = lapply(spIns,sum)\n",
    "sprCount"
   ]
  },
  {
   "cell_type": "markdown",
   "metadata": {},
   "source": [
    "### Another way - combine"
   ]
  },
  {
   "cell_type": "code",
   "execution_count": 38,
   "metadata": {},
   "outputs": [
    {
     "data": {
      "text/html": [
       "<dl class=dl-horizontal>\n",
       "\t<dt>A</dt>\n",
       "\t\t<dd>174</dd>\n",
       "\t<dt>B</dt>\n",
       "\t\t<dd>184</dd>\n",
       "\t<dt>C</dt>\n",
       "\t\t<dd>25</dd>\n",
       "\t<dt>D</dt>\n",
       "\t\t<dd>59</dd>\n",
       "\t<dt>E</dt>\n",
       "\t\t<dd>42</dd>\n",
       "\t<dt>F</dt>\n",
       "\t\t<dd>200</dd>\n",
       "</dl>\n"
      ],
      "text/latex": [
       "\\begin{description*}\n",
       "\\item[A] 174\n",
       "\\item[B] 184\n",
       "\\item[C] 25\n",
       "\\item[D] 59\n",
       "\\item[E] 42\n",
       "\\item[F] 200\n",
       "\\end{description*}\n"
      ],
      "text/markdown": [
       "A\n",
       ":   174B\n",
       ":   184C\n",
       ":   25D\n",
       ":   59E\n",
       ":   42F\n",
       ":   200\n",
       "\n"
      ],
      "text/plain": [
       "  A   B   C   D   E   F \n",
       "174 184  25  59  42 200 "
      ]
     },
     "metadata": {},
     "output_type": "display_data"
    },
    {
     "data": {
      "text/html": [
       "<dl class=dl-horizontal>\n",
       "\t<dt>A</dt>\n",
       "\t\t<dd>174</dd>\n",
       "\t<dt>B</dt>\n",
       "\t\t<dd>184</dd>\n",
       "\t<dt>C</dt>\n",
       "\t\t<dd>25</dd>\n",
       "\t<dt>D</dt>\n",
       "\t\t<dd>59</dd>\n",
       "\t<dt>E</dt>\n",
       "\t\t<dd>42</dd>\n",
       "\t<dt>F</dt>\n",
       "\t\t<dd>200</dd>\n",
       "</dl>\n"
      ],
      "text/latex": [
       "\\begin{description*}\n",
       "\\item[A] 174\n",
       "\\item[B] 184\n",
       "\\item[C] 25\n",
       "\\item[D] 59\n",
       "\\item[E] 42\n",
       "\\item[F] 200\n",
       "\\end{description*}\n"
      ],
      "text/markdown": [
       "A\n",
       ":   174B\n",
       ":   184C\n",
       ":   25D\n",
       ":   59E\n",
       ":   42F\n",
       ":   200\n",
       "\n"
      ],
      "text/plain": [
       "  A   B   C   D   E   F \n",
       "174 184  25  59  42 200 "
      ]
     },
     "metadata": {},
     "output_type": "display_data"
    }
   ],
   "source": [
    "unlist(sprCount)\n",
    "sapply(spIns,sum)"
   ]
  },
  {
   "cell_type": "markdown",
   "metadata": {},
   "source": [
    "### Another way - plyr package"
   ]
  },
  {
   "cell_type": "code",
   "execution_count": 39,
   "metadata": {},
   "outputs": [
    {
     "data": {
      "text/html": [
       "<table>\n",
       "<thead><tr><th scope=col>spray</th><th scope=col>sum</th></tr></thead>\n",
       "<tbody>\n",
       "\t<tr><td>A  </td><td>174</td></tr>\n",
       "\t<tr><td>B  </td><td>184</td></tr>\n",
       "\t<tr><td>C  </td><td> 25</td></tr>\n",
       "\t<tr><td>D  </td><td> 59</td></tr>\n",
       "\t<tr><td>E  </td><td> 42</td></tr>\n",
       "\t<tr><td>F  </td><td>200</td></tr>\n",
       "</tbody>\n",
       "</table>\n"
      ],
      "text/latex": [
       "\\begin{tabular}{r|ll}\n",
       " spray & sum\\\\\n",
       "\\hline\n",
       "\t A   & 174\\\\\n",
       "\t B   & 184\\\\\n",
       "\t C   &  25\\\\\n",
       "\t D   &  59\\\\\n",
       "\t E   &  42\\\\\n",
       "\t F   & 200\\\\\n",
       "\\end{tabular}\n"
      ],
      "text/markdown": [
       "\n",
       "| spray | sum |\n",
       "|---|---|\n",
       "| A   | 174 |\n",
       "| B   | 184 |\n",
       "| C   |  25 |\n",
       "| D   |  59 |\n",
       "| E   |  42 |\n",
       "| F   | 200 |\n",
       "\n"
      ],
      "text/plain": [
       "  spray sum\n",
       "1 A     174\n",
       "2 B     184\n",
       "3 C      25\n",
       "4 D      59\n",
       "5 E      42\n",
       "6 F     200"
      ]
     },
     "metadata": {},
     "output_type": "display_data"
    }
   ],
   "source": [
    "ddply(InsectSprays,.(spray),summarize,sum=sum(count))"
   ]
  },
  {
   "cell_type": "markdown",
   "metadata": {},
   "source": [
    "### Creating a new variable\n"
   ]
  },
  {
   "cell_type": "code",
   "execution_count": 40,
   "metadata": {},
   "outputs": [
    {
     "data": {
      "text/html": [
       "<ol class=list-inline>\n",
       "\t<li>72</li>\n",
       "\t<li>2</li>\n",
       "</ol>\n"
      ],
      "text/latex": [
       "\\begin{enumerate*}\n",
       "\\item 72\n",
       "\\item 2\n",
       "\\end{enumerate*}\n"
      ],
      "text/markdown": [
       "1. 72\n",
       "2. 2\n",
       "\n",
       "\n"
      ],
      "text/plain": [
       "[1] 72  2"
      ]
     },
     "metadata": {},
     "output_type": "display_data"
    },
    {
     "data": {
      "text/html": [
       "<table>\n",
       "<thead><tr><th scope=col>spray</th><th scope=col>sum</th></tr></thead>\n",
       "<tbody>\n",
       "\t<tr><td>A  </td><td>174</td></tr>\n",
       "\t<tr><td>A  </td><td>174</td></tr>\n",
       "\t<tr><td>A  </td><td>174</td></tr>\n",
       "\t<tr><td>A  </td><td>174</td></tr>\n",
       "\t<tr><td>A  </td><td>174</td></tr>\n",
       "\t<tr><td>A  </td><td>174</td></tr>\n",
       "</tbody>\n",
       "</table>\n"
      ],
      "text/latex": [
       "\\begin{tabular}{r|ll}\n",
       " spray & sum\\\\\n",
       "\\hline\n",
       "\t A   & 174\\\\\n",
       "\t A   & 174\\\\\n",
       "\t A   & 174\\\\\n",
       "\t A   & 174\\\\\n",
       "\t A   & 174\\\\\n",
       "\t A   & 174\\\\\n",
       "\\end{tabular}\n"
      ],
      "text/markdown": [
       "\n",
       "| spray | sum |\n",
       "|---|---|\n",
       "| A   | 174 |\n",
       "| A   | 174 |\n",
       "| A   | 174 |\n",
       "| A   | 174 |\n",
       "| A   | 174 |\n",
       "| A   | 174 |\n",
       "\n"
      ],
      "text/plain": [
       "  spray sum\n",
       "1 A     174\n",
       "2 A     174\n",
       "3 A     174\n",
       "4 A     174\n",
       "5 A     174\n",
       "6 A     174"
      ]
     },
     "metadata": {},
     "output_type": "display_data"
    }
   ],
   "source": [
    "spraySums <- ddply(InsectSprays,.(spray),summarize,sum=ave(count,FUN=sum))\n",
    "dim(spraySums)\n",
    "head(spraySums)"
   ]
  },
  {
   "cell_type": "markdown",
   "metadata": {},
   "source": [
    "### More information\n",
    "\n",
    "* A tutorial from the developer of plyr - [http://plyr.had.co.nz/09-user/](http://plyr.had.co.nz/09-user/)\n",
    "* A nice reshape tutorial [http://www.slideshare.net/jeffreybreen/reshaping-data-in-r](http://www.slideshare.net/jeffreybreen/reshaping-data-in-r)\n",
    "* A good plyr primer - [http://www.r-bloggers.com/a-quick-primer-on-split-apply-combine-problems/](http://www.r-bloggers.com/a-quick-primer-on-split-apply-combine-problems/)\n",
    "* See also the functions\n",
    "  * acast - for casting as multi-dimensional arrays\n",
    "  * arrange - for faster reordering without using order() commands\n",
    "  * mutate - adding new variables"
   ]
  },
  {
   "cell_type": "markdown",
   "metadata": {},
   "source": [
    "## Package dplyr"
   ]
  },
  {
   "cell_type": "markdown",
   "metadata": {},
   "source": [
    "### dplyr\n",
    "\n",
    "The data frame is a key data structure in statistics and in R.\n",
    "\n",
    "* There is one observation per row\n",
    "\n",
    "* Each column represents a variable or measure or characteristic\n",
    "\n",
    "* Primary implementation that you will use is the default R\n",
    "  implementation\n",
    "\n",
    "* Other implementations, particularly relational databases systems"
   ]
  },
  {
   "cell_type": "markdown",
   "metadata": {},
   "source": [
    "### dplyr\n",
    "\n",
    "* Developed by Hadley Wickham of RStudio\n",
    "\n",
    "* An optimized and distilled version of `plyr` package (also by Hadley)\n",
    "\n",
    "* Does not provide any \"new\" functionality per se, but **greatly**\n",
    "  simplifies existing functionality in R\n",
    "\n",
    "* Provides a \"grammar\" (in particular, verbs) for data manipulation\n",
    "\n",
    "* Is **very** fast, as many key operations are coded in C++"
   ]
  },
  {
   "cell_type": "markdown",
   "metadata": {},
   "source": [
    "### dplyr Verbs\n",
    "\n",
    "* `select`: return a subset of the columns of a data frame\n",
    "\n",
    "* `filter`: extract a subset of rows from a data frame based on\n",
    "  logical conditions\n",
    "\n",
    "* `arrange`: reorder rows of a data frame\n",
    "\n",
    "\n",
    "* `rename`: rename variables in a data frame\n",
    "\n",
    "* `mutate`: add new variables/columns or transform existing variables\n",
    "\n",
    "* `summarise` / `summarize`: generate summary statistics of different\n",
    "  variables in the data frame, possibly within strata\n",
    "\n",
    "There is also a handy `print` method that prevents you from printing a\n",
    "lot of data to the console."
   ]
  },
  {
   "cell_type": "markdown",
   "metadata": {},
   "source": [
    "### dplyr Properties\n",
    "\n",
    "* The first argument is a data frame.\n",
    "\n",
    "* The subsequent arguments describe what to do with it, and you can\n",
    "  refer to columns in the data frame directly without using the $\n",
    "  operator (just use the names).\n",
    "\n",
    "* The result is a new data frame\n",
    "\n",
    "* Data frames must be properly formatted and annotated for this to all\n",
    "  be useful"
   ]
  },
  {
   "cell_type": "markdown",
   "metadata": {},
   "source": [
    "### Load the `dplyr` package\n",
    "\n",
    "\n",
    "This step is important!"
   ]
  },
  {
   "cell_type": "code",
   "execution_count": 43,
   "metadata": {},
   "outputs": [],
   "source": [
    "library(dplyr)"
   ]
  },
  {
   "cell_type": "markdown",
   "metadata": {},
   "source": [
    "### Download data file"
   ]
  },
  {
   "cell_type": "code",
   "execution_count": 46,
   "metadata": {},
   "outputs": [],
   "source": [
    "fileUrl <- \"https://raw.githubusercontent.com/DataScienceSpecialization/courses/master/03_GettingData/dplyr/chicago.rds\"\n",
    "download.file(fileUrl,destfile=\"./chicago.rds\",method=\"curl\")"
   ]
  },
  {
   "cell_type": "markdown",
   "metadata": {},
   "source": [
    "### `select`"
   ]
  },
  {
   "cell_type": "code",
   "execution_count": 47,
   "metadata": {},
   "outputs": [
    {
     "data": {
      "text/html": [
       "<ol class=list-inline>\n",
       "\t<li>6940</li>\n",
       "\t<li>8</li>\n",
       "</ol>\n"
      ],
      "text/latex": [
       "\\begin{enumerate*}\n",
       "\\item 6940\n",
       "\\item 8\n",
       "\\end{enumerate*}\n"
      ],
      "text/markdown": [
       "1. 6940\n",
       "2. 8\n",
       "\n",
       "\n"
      ],
      "text/plain": [
       "[1] 6940    8"
      ]
     },
     "metadata": {},
     "output_type": "display_data"
    },
    {
     "data": {
      "text/html": [
       "<table>\n",
       "<thead><tr><th scope=col>city</th><th scope=col>tmpd</th><th scope=col>dptp</th><th scope=col>date</th><th scope=col>pm25tmean2</th></tr></thead>\n",
       "<tbody>\n",
       "\t<tr><td>chic      </td><td>31.5      </td><td>31.500    </td><td>1987-01-01</td><td>NA        </td></tr>\n",
       "\t<tr><td>chic      </td><td>33.0      </td><td>29.875    </td><td>1987-01-02</td><td>NA        </td></tr>\n",
       "\t<tr><td>chic      </td><td>33.0      </td><td>27.375    </td><td>1987-01-03</td><td>NA        </td></tr>\n",
       "\t<tr><td>chic      </td><td>29.0      </td><td>28.625    </td><td>1987-01-04</td><td>NA        </td></tr>\n",
       "\t<tr><td>chic      </td><td>32.0      </td><td>28.875    </td><td>1987-01-05</td><td>NA        </td></tr>\n",
       "\t<tr><td>chic      </td><td>40.0      </td><td>35.125    </td><td>1987-01-06</td><td>NA        </td></tr>\n",
       "</tbody>\n",
       "</table>\n"
      ],
      "text/latex": [
       "\\begin{tabular}{r|lllll}\n",
       " city & tmpd & dptp & date & pm25tmean2\\\\\n",
       "\\hline\n",
       "\t chic       & 31.5       & 31.500     & 1987-01-01 & NA        \\\\\n",
       "\t chic       & 33.0       & 29.875     & 1987-01-02 & NA        \\\\\n",
       "\t chic       & 33.0       & 27.375     & 1987-01-03 & NA        \\\\\n",
       "\t chic       & 29.0       & 28.625     & 1987-01-04 & NA        \\\\\n",
       "\t chic       & 32.0       & 28.875     & 1987-01-05 & NA        \\\\\n",
       "\t chic       & 40.0       & 35.125     & 1987-01-06 & NA        \\\\\n",
       "\\end{tabular}\n"
      ],
      "text/markdown": [
       "\n",
       "| city | tmpd | dptp | date | pm25tmean2 |\n",
       "|---|---|---|---|---|\n",
       "| chic       | 31.5       | 31.500     | 1987-01-01 | NA         |\n",
       "| chic       | 33.0       | 29.875     | 1987-01-02 | NA         |\n",
       "| chic       | 33.0       | 27.375     | 1987-01-03 | NA         |\n",
       "| chic       | 29.0       | 28.625     | 1987-01-04 | NA         |\n",
       "| chic       | 32.0       | 28.875     | 1987-01-05 | NA         |\n",
       "| chic       | 40.0       | 35.125     | 1987-01-06 | NA         |\n",
       "\n"
      ],
      "text/plain": [
       "  city tmpd dptp   date       pm25tmean2\n",
       "1 chic 31.5 31.500 1987-01-01 NA        \n",
       "2 chic 33.0 29.875 1987-01-02 NA        \n",
       "3 chic 33.0 27.375 1987-01-03 NA        \n",
       "4 chic 29.0 28.625 1987-01-04 NA        \n",
       "5 chic 32.0 28.875 1987-01-05 NA        \n",
       "6 chic 40.0 35.125 1987-01-06 NA        "
      ]
     },
     "metadata": {},
     "output_type": "display_data"
    }
   ],
   "source": [
    "chicago <- readRDS(\"chicago.rds\")\n",
    "dim(chicago)\n",
    "head(select(chicago, 1:5))"
   ]
  },
  {
   "cell_type": "markdown",
   "metadata": {},
   "source": [
    "### `select`\n"
   ]
  },
  {
   "cell_type": "code",
   "execution_count": 48,
   "metadata": {},
   "outputs": [
    {
     "data": {
      "text/html": [
       "<ol class=list-inline>\n",
       "\t<li>'city'</li>\n",
       "\t<li>'tmpd'</li>\n",
       "\t<li>'dptp'</li>\n",
       "</ol>\n"
      ],
      "text/latex": [
       "\\begin{enumerate*}\n",
       "\\item 'city'\n",
       "\\item 'tmpd'\n",
       "\\item 'dptp'\n",
       "\\end{enumerate*}\n"
      ],
      "text/markdown": [
       "1. 'city'\n",
       "2. 'tmpd'\n",
       "3. 'dptp'\n",
       "\n",
       "\n"
      ],
      "text/plain": [
       "[1] \"city\" \"tmpd\" \"dptp\""
      ]
     },
     "metadata": {},
     "output_type": "display_data"
    },
    {
     "data": {
      "text/html": [
       "<table>\n",
       "<thead><tr><th scope=col>city</th><th scope=col>tmpd</th><th scope=col>dptp</th></tr></thead>\n",
       "<tbody>\n",
       "\t<tr><td>chic  </td><td>31.5  </td><td>31.500</td></tr>\n",
       "\t<tr><td>chic  </td><td>33.0  </td><td>29.875</td></tr>\n",
       "\t<tr><td>chic  </td><td>33.0  </td><td>27.375</td></tr>\n",
       "\t<tr><td>chic  </td><td>29.0  </td><td>28.625</td></tr>\n",
       "\t<tr><td>chic  </td><td>32.0  </td><td>28.875</td></tr>\n",
       "\t<tr><td>chic  </td><td>40.0  </td><td>35.125</td></tr>\n",
       "</tbody>\n",
       "</table>\n"
      ],
      "text/latex": [
       "\\begin{tabular}{r|lll}\n",
       " city & tmpd & dptp\\\\\n",
       "\\hline\n",
       "\t chic   & 31.5   & 31.500\\\\\n",
       "\t chic   & 33.0   & 29.875\\\\\n",
       "\t chic   & 33.0   & 27.375\\\\\n",
       "\t chic   & 29.0   & 28.625\\\\\n",
       "\t chic   & 32.0   & 28.875\\\\\n",
       "\t chic   & 40.0   & 35.125\\\\\n",
       "\\end{tabular}\n"
      ],
      "text/markdown": [
       "\n",
       "| city | tmpd | dptp |\n",
       "|---|---|---|\n",
       "| chic   | 31.5   | 31.500 |\n",
       "| chic   | 33.0   | 29.875 |\n",
       "| chic   | 33.0   | 27.375 |\n",
       "| chic   | 29.0   | 28.625 |\n",
       "| chic   | 32.0   | 28.875 |\n",
       "| chic   | 40.0   | 35.125 |\n",
       "\n"
      ],
      "text/plain": [
       "  city tmpd dptp  \n",
       "1 chic 31.5 31.500\n",
       "2 chic 33.0 29.875\n",
       "3 chic 33.0 27.375\n",
       "4 chic 29.0 28.625\n",
       "5 chic 32.0 28.875\n",
       "6 chic 40.0 35.125"
      ]
     },
     "metadata": {},
     "output_type": "display_data"
    }
   ],
   "source": [
    "names(chicago)[1:3]\n",
    "head(select(chicago, city:dptp))"
   ]
  },
  {
   "cell_type": "markdown",
   "metadata": {
    "slideshow": {
     "slide_type": "slide"
    }
   },
   "source": [
    "### `select`\n",
    "\n",
    "In dplyr you can do"
   ]
  },
  {
   "cell_type": "code",
   "execution_count": 49,
   "metadata": {},
   "outputs": [
    {
     "data": {
      "text/html": [
       "<table>\n",
       "<thead><tr><th scope=col>date</th><th scope=col>pm25tmean2</th><th scope=col>pm10tmean2</th><th scope=col>o3tmean2</th><th scope=col>no2tmean2</th></tr></thead>\n",
       "<tbody>\n",
       "\t<tr><td>1987-01-01</td><td>NA        </td><td>34.00000  </td><td>4.250000  </td><td>19.98810  </td></tr>\n",
       "\t<tr><td>1987-01-02</td><td>NA        </td><td>      NA  </td><td>3.304348  </td><td>23.19099  </td></tr>\n",
       "\t<tr><td>1987-01-03</td><td>NA        </td><td>34.16667  </td><td>3.333333  </td><td>23.81548  </td></tr>\n",
       "\t<tr><td>1987-01-04</td><td>NA        </td><td>47.00000  </td><td>4.375000  </td><td>30.43452  </td></tr>\n",
       "\t<tr><td>1987-01-05</td><td>NA        </td><td>      NA  </td><td>4.750000  </td><td>30.33333  </td></tr>\n",
       "\t<tr><td>1987-01-06</td><td>NA        </td><td>48.00000  </td><td>5.833333  </td><td>25.77233  </td></tr>\n",
       "</tbody>\n",
       "</table>\n"
      ],
      "text/latex": [
       "\\begin{tabular}{r|lllll}\n",
       " date & pm25tmean2 & pm10tmean2 & o3tmean2 & no2tmean2\\\\\n",
       "\\hline\n",
       "\t 1987-01-01 & NA         & 34.00000   & 4.250000   & 19.98810  \\\\\n",
       "\t 1987-01-02 & NA         &       NA   & 3.304348   & 23.19099  \\\\\n",
       "\t 1987-01-03 & NA         & 34.16667   & 3.333333   & 23.81548  \\\\\n",
       "\t 1987-01-04 & NA         & 47.00000   & 4.375000   & 30.43452  \\\\\n",
       "\t 1987-01-05 & NA         &       NA   & 4.750000   & 30.33333  \\\\\n",
       "\t 1987-01-06 & NA         & 48.00000   & 5.833333   & 25.77233  \\\\\n",
       "\\end{tabular}\n"
      ],
      "text/markdown": [
       "\n",
       "| date | pm25tmean2 | pm10tmean2 | o3tmean2 | no2tmean2 |\n",
       "|---|---|---|---|---|\n",
       "| 1987-01-01 | NA         | 34.00000   | 4.250000   | 19.98810   |\n",
       "| 1987-01-02 | NA         |       NA   | 3.304348   | 23.19099   |\n",
       "| 1987-01-03 | NA         | 34.16667   | 3.333333   | 23.81548   |\n",
       "| 1987-01-04 | NA         | 47.00000   | 4.375000   | 30.43452   |\n",
       "| 1987-01-05 | NA         |       NA   | 4.750000   | 30.33333   |\n",
       "| 1987-01-06 | NA         | 48.00000   | 5.833333   | 25.77233   |\n",
       "\n"
      ],
      "text/plain": [
       "  date       pm25tmean2 pm10tmean2 o3tmean2 no2tmean2\n",
       "1 1987-01-01 NA         34.00000   4.250000 19.98810 \n",
       "2 1987-01-02 NA               NA   3.304348 23.19099 \n",
       "3 1987-01-03 NA         34.16667   3.333333 23.81548 \n",
       "4 1987-01-04 NA         47.00000   4.375000 30.43452 \n",
       "5 1987-01-05 NA               NA   4.750000 30.33333 \n",
       "6 1987-01-06 NA         48.00000   5.833333 25.77233 "
      ]
     },
     "metadata": {},
     "output_type": "display_data"
    }
   ],
   "source": [
    "head(select(chicago, -(city:dptp)))"
   ]
  },
  {
   "cell_type": "markdown",
   "metadata": {
    "slideshow": {
     "slide_type": "subslide"
    }
   },
   "source": [
    "Equivalent base R"
   ]
  },
  {
   "cell_type": "code",
   "execution_count": 50,
   "metadata": {},
   "outputs": [
    {
     "data": {
      "text/html": [
       "<table>\n",
       "<thead><tr><th scope=col>date</th><th scope=col>pm25tmean2</th><th scope=col>pm10tmean2</th><th scope=col>o3tmean2</th><th scope=col>no2tmean2</th></tr></thead>\n",
       "<tbody>\n",
       "\t<tr><td>1987-01-01</td><td>NA        </td><td>34.00000  </td><td>4.250000  </td><td>19.98810  </td></tr>\n",
       "\t<tr><td>1987-01-02</td><td>NA        </td><td>      NA  </td><td>3.304348  </td><td>23.19099  </td></tr>\n",
       "\t<tr><td>1987-01-03</td><td>NA        </td><td>34.16667  </td><td>3.333333  </td><td>23.81548  </td></tr>\n",
       "\t<tr><td>1987-01-04</td><td>NA        </td><td>47.00000  </td><td>4.375000  </td><td>30.43452  </td></tr>\n",
       "\t<tr><td>1987-01-05</td><td>NA        </td><td>      NA  </td><td>4.750000  </td><td>30.33333  </td></tr>\n",
       "\t<tr><td>1987-01-06</td><td>NA        </td><td>48.00000  </td><td>5.833333  </td><td>25.77233  </td></tr>\n",
       "</tbody>\n",
       "</table>\n"
      ],
      "text/latex": [
       "\\begin{tabular}{r|lllll}\n",
       " date & pm25tmean2 & pm10tmean2 & o3tmean2 & no2tmean2\\\\\n",
       "\\hline\n",
       "\t 1987-01-01 & NA         & 34.00000   & 4.250000   & 19.98810  \\\\\n",
       "\t 1987-01-02 & NA         &       NA   & 3.304348   & 23.19099  \\\\\n",
       "\t 1987-01-03 & NA         & 34.16667   & 3.333333   & 23.81548  \\\\\n",
       "\t 1987-01-04 & NA         & 47.00000   & 4.375000   & 30.43452  \\\\\n",
       "\t 1987-01-05 & NA         &       NA   & 4.750000   & 30.33333  \\\\\n",
       "\t 1987-01-06 & NA         & 48.00000   & 5.833333   & 25.77233  \\\\\n",
       "\\end{tabular}\n"
      ],
      "text/markdown": [
       "\n",
       "| date | pm25tmean2 | pm10tmean2 | o3tmean2 | no2tmean2 |\n",
       "|---|---|---|---|---|\n",
       "| 1987-01-01 | NA         | 34.00000   | 4.250000   | 19.98810   |\n",
       "| 1987-01-02 | NA         |       NA   | 3.304348   | 23.19099   |\n",
       "| 1987-01-03 | NA         | 34.16667   | 3.333333   | 23.81548   |\n",
       "| 1987-01-04 | NA         | 47.00000   | 4.375000   | 30.43452   |\n",
       "| 1987-01-05 | NA         |       NA   | 4.750000   | 30.33333   |\n",
       "| 1987-01-06 | NA         | 48.00000   | 5.833333   | 25.77233   |\n",
       "\n"
      ],
      "text/plain": [
       "  date       pm25tmean2 pm10tmean2 o3tmean2 no2tmean2\n",
       "1 1987-01-01 NA         34.00000   4.250000 19.98810 \n",
       "2 1987-01-02 NA               NA   3.304348 23.19099 \n",
       "3 1987-01-03 NA         34.16667   3.333333 23.81548 \n",
       "4 1987-01-04 NA         47.00000   4.375000 30.43452 \n",
       "5 1987-01-05 NA               NA   4.750000 30.33333 \n",
       "6 1987-01-06 NA         48.00000   5.833333 25.77233 "
      ]
     },
     "metadata": {},
     "output_type": "display_data"
    }
   ],
   "source": [
    "i <- match(\"city\", names(chicago))\n",
    "j <- match(\"dptp\", names(chicago))\n",
    "head(chicago[, -(i:j)])"
   ]
  },
  {
   "cell_type": "markdown",
   "metadata": {},
   "source": [
    "### `filter`"
   ]
  },
  {
   "cell_type": "code",
   "execution_count": 51,
   "metadata": {},
   "outputs": [
    {
     "data": {
      "text/html": [
       "<table>\n",
       "<thead><tr><th scope=col>city</th><th scope=col>tmpd</th><th scope=col>dptp</th><th scope=col>pm25tmean2</th></tr></thead>\n",
       "<tbody>\n",
       "\t<tr><td>chic </td><td>23   </td><td>21.9 </td><td>38.10</td></tr>\n",
       "\t<tr><td>chic </td><td>28   </td><td>25.8 </td><td>33.95</td></tr>\n",
       "\t<tr><td>chic </td><td>55   </td><td>51.3 </td><td>39.40</td></tr>\n",
       "\t<tr><td>chic </td><td>59   </td><td>53.7 </td><td>35.40</td></tr>\n",
       "\t<tr><td>chic </td><td>57   </td><td>52.0 </td><td>33.30</td></tr>\n",
       "\t<tr><td>chic </td><td>57   </td><td>56.0 </td><td>32.10</td></tr>\n",
       "\t<tr><td>chic </td><td>75   </td><td>65.8 </td><td>56.50</td></tr>\n",
       "\t<tr><td>chic </td><td>61   </td><td>59.0 </td><td>33.80</td></tr>\n",
       "\t<tr><td>chic </td><td>73   </td><td>60.3 </td><td>30.30</td></tr>\n",
       "\t<tr><td>chic </td><td>78   </td><td>67.1 </td><td>41.40</td></tr>\n",
       "</tbody>\n",
       "</table>\n"
      ],
      "text/latex": [
       "\\begin{tabular}{r|llll}\n",
       " city & tmpd & dptp & pm25tmean2\\\\\n",
       "\\hline\n",
       "\t chic  & 23    & 21.9  & 38.10\\\\\n",
       "\t chic  & 28    & 25.8  & 33.95\\\\\n",
       "\t chic  & 55    & 51.3  & 39.40\\\\\n",
       "\t chic  & 59    & 53.7  & 35.40\\\\\n",
       "\t chic  & 57    & 52.0  & 33.30\\\\\n",
       "\t chic  & 57    & 56.0  & 32.10\\\\\n",
       "\t chic  & 75    & 65.8  & 56.50\\\\\n",
       "\t chic  & 61    & 59.0  & 33.80\\\\\n",
       "\t chic  & 73    & 60.3  & 30.30\\\\\n",
       "\t chic  & 78    & 67.1  & 41.40\\\\\n",
       "\\end{tabular}\n"
      ],
      "text/markdown": [
       "\n",
       "| city | tmpd | dptp | pm25tmean2 |\n",
       "|---|---|---|---|\n",
       "| chic  | 23    | 21.9  | 38.10 |\n",
       "| chic  | 28    | 25.8  | 33.95 |\n",
       "| chic  | 55    | 51.3  | 39.40 |\n",
       "| chic  | 59    | 53.7  | 35.40 |\n",
       "| chic  | 57    | 52.0  | 33.30 |\n",
       "| chic  | 57    | 56.0  | 32.10 |\n",
       "| chic  | 75    | 65.8  | 56.50 |\n",
       "| chic  | 61    | 59.0  | 33.80 |\n",
       "| chic  | 73    | 60.3  | 30.30 |\n",
       "| chic  | 78    | 67.1  | 41.40 |\n",
       "\n"
      ],
      "text/plain": [
       "   city tmpd dptp pm25tmean2\n",
       "1  chic 23   21.9 38.10     \n",
       "2  chic 28   25.8 33.95     \n",
       "3  chic 55   51.3 39.40     \n",
       "4  chic 59   53.7 35.40     \n",
       "5  chic 57   52.0 33.30     \n",
       "6  chic 57   56.0 32.10     \n",
       "7  chic 75   65.8 56.50     \n",
       "8  chic 61   59.0 33.80     \n",
       "9  chic 73   60.3 30.30     \n",
       "10 chic 78   67.1 41.40     "
      ]
     },
     "metadata": {},
     "output_type": "display_data"
    }
   ],
   "source": [
    "chic.f <- filter(chicago, pm25tmean2 > 30)\n",
    "head(select(chic.f, 1:3, pm25tmean2), 10)\n"
   ]
  },
  {
   "cell_type": "markdown",
   "metadata": {},
   "source": [
    "### `filter`"
   ]
  },
  {
   "cell_type": "code",
   "execution_count": 52,
   "metadata": {},
   "outputs": [
    {
     "data": {
      "text/html": [
       "<table>\n",
       "<thead><tr><th scope=col>city</th><th scope=col>tmpd</th><th scope=col>dptp</th><th scope=col>pm25tmean2</th></tr></thead>\n",
       "<tbody>\n",
       "\t<tr><td>chic   </td><td>81     </td><td>71.2   </td><td>39.6000</td></tr>\n",
       "\t<tr><td>chic   </td><td>81     </td><td>70.4   </td><td>31.5000</td></tr>\n",
       "\t<tr><td>chic   </td><td>82     </td><td>72.2   </td><td>32.3000</td></tr>\n",
       "\t<tr><td>chic   </td><td>84     </td><td>72.9   </td><td>43.7000</td></tr>\n",
       "\t<tr><td>chic   </td><td>85     </td><td>72.6   </td><td>38.8375</td></tr>\n",
       "\t<tr><td>chic   </td><td>84     </td><td>72.6   </td><td>38.2000</td></tr>\n",
       "\t<tr><td>chic   </td><td>82     </td><td>67.4   </td><td>33.0000</td></tr>\n",
       "\t<tr><td>chic   </td><td>82     </td><td>63.5   </td><td>42.5000</td></tr>\n",
       "\t<tr><td>chic   </td><td>81     </td><td>70.4   </td><td>33.1000</td></tr>\n",
       "\t<tr><td>chic   </td><td>82     </td><td>66.2   </td><td>38.8500</td></tr>\n",
       "</tbody>\n",
       "</table>\n"
      ],
      "text/latex": [
       "\\begin{tabular}{r|llll}\n",
       " city & tmpd & dptp & pm25tmean2\\\\\n",
       "\\hline\n",
       "\t chic    & 81      & 71.2    & 39.6000\\\\\n",
       "\t chic    & 81      & 70.4    & 31.5000\\\\\n",
       "\t chic    & 82      & 72.2    & 32.3000\\\\\n",
       "\t chic    & 84      & 72.9    & 43.7000\\\\\n",
       "\t chic    & 85      & 72.6    & 38.8375\\\\\n",
       "\t chic    & 84      & 72.6    & 38.2000\\\\\n",
       "\t chic    & 82      & 67.4    & 33.0000\\\\\n",
       "\t chic    & 82      & 63.5    & 42.5000\\\\\n",
       "\t chic    & 81      & 70.4    & 33.1000\\\\\n",
       "\t chic    & 82      & 66.2    & 38.8500\\\\\n",
       "\\end{tabular}\n"
      ],
      "text/markdown": [
       "\n",
       "| city | tmpd | dptp | pm25tmean2 |\n",
       "|---|---|---|---|\n",
       "| chic    | 81      | 71.2    | 39.6000 |\n",
       "| chic    | 81      | 70.4    | 31.5000 |\n",
       "| chic    | 82      | 72.2    | 32.3000 |\n",
       "| chic    | 84      | 72.9    | 43.7000 |\n",
       "| chic    | 85      | 72.6    | 38.8375 |\n",
       "| chic    | 84      | 72.6    | 38.2000 |\n",
       "| chic    | 82      | 67.4    | 33.0000 |\n",
       "| chic    | 82      | 63.5    | 42.5000 |\n",
       "| chic    | 81      | 70.4    | 33.1000 |\n",
       "| chic    | 82      | 66.2    | 38.8500 |\n",
       "\n"
      ],
      "text/plain": [
       "   city tmpd dptp pm25tmean2\n",
       "1  chic 81   71.2 39.6000   \n",
       "2  chic 81   70.4 31.5000   \n",
       "3  chic 82   72.2 32.3000   \n",
       "4  chic 84   72.9 43.7000   \n",
       "5  chic 85   72.6 38.8375   \n",
       "6  chic 84   72.6 38.2000   \n",
       "7  chic 82   67.4 33.0000   \n",
       "8  chic 82   63.5 42.5000   \n",
       "9  chic 81   70.4 33.1000   \n",
       "10 chic 82   66.2 38.8500   "
      ]
     },
     "metadata": {},
     "output_type": "display_data"
    }
   ],
   "source": [
    "chic.f <- filter(chicago, pm25tmean2 > 30 & tmpd > 80)\n",
    "head(select(chic.f, 1:3, pm25tmean2, tmpd), 10)"
   ]
  },
  {
   "cell_type": "markdown",
   "metadata": {},
   "source": [
    "### `arrange`\n",
    "\n",
    "Reordering rows of a data frame (while preserving corresponding order\n",
    "of other columns) is normally a pain to do in R."
   ]
  },
  {
   "cell_type": "code",
   "execution_count": 53,
   "metadata": {},
   "outputs": [
    {
     "data": {
      "text/html": [
       "<table>\n",
       "<thead><tr><th scope=col>date</th><th scope=col>pm25tmean2</th></tr></thead>\n",
       "<tbody>\n",
       "\t<tr><td>1987-01-01</td><td>NA        </td></tr>\n",
       "\t<tr><td>1987-01-02</td><td>NA        </td></tr>\n",
       "\t<tr><td>1987-01-03</td><td>NA        </td></tr>\n",
       "</tbody>\n",
       "</table>\n"
      ],
      "text/latex": [
       "\\begin{tabular}{r|ll}\n",
       " date & pm25tmean2\\\\\n",
       "\\hline\n",
       "\t 1987-01-01 & NA        \\\\\n",
       "\t 1987-01-02 & NA        \\\\\n",
       "\t 1987-01-03 & NA        \\\\\n",
       "\\end{tabular}\n"
      ],
      "text/markdown": [
       "\n",
       "| date | pm25tmean2 |\n",
       "|---|---|\n",
       "| 1987-01-01 | NA         |\n",
       "| 1987-01-02 | NA         |\n",
       "| 1987-01-03 | NA         |\n",
       "\n"
      ],
      "text/plain": [
       "  date       pm25tmean2\n",
       "1 1987-01-01 NA        \n",
       "2 1987-01-02 NA        \n",
       "3 1987-01-03 NA        "
      ]
     },
     "metadata": {},
     "output_type": "display_data"
    },
    {
     "data": {
      "text/html": [
       "<table>\n",
       "<thead><tr><th></th><th scope=col>date</th><th scope=col>pm25tmean2</th></tr></thead>\n",
       "<tbody>\n",
       "\t<tr><th scope=row>6938</th><td>2005-12-29</td><td> 7.45000  </td></tr>\n",
       "\t<tr><th scope=row>6939</th><td>2005-12-30</td><td>15.05714  </td></tr>\n",
       "\t<tr><th scope=row>6940</th><td>2005-12-31</td><td>15.00000  </td></tr>\n",
       "</tbody>\n",
       "</table>\n"
      ],
      "text/latex": [
       "\\begin{tabular}{r|ll}\n",
       "  & date & pm25tmean2\\\\\n",
       "\\hline\n",
       "\t6938 & 2005-12-29 &  7.45000  \\\\\n",
       "\t6939 & 2005-12-30 & 15.05714  \\\\\n",
       "\t6940 & 2005-12-31 & 15.00000  \\\\\n",
       "\\end{tabular}\n"
      ],
      "text/markdown": [
       "\n",
       "| <!--/--> | date | pm25tmean2 |\n",
       "|---|---|---|\n",
       "| 6938 | 2005-12-29 |  7.45000   |\n",
       "| 6939 | 2005-12-30 | 15.05714   |\n",
       "| 6940 | 2005-12-31 | 15.00000   |\n",
       "\n"
      ],
      "text/plain": [
       "     date       pm25tmean2\n",
       "6938 2005-12-29  7.45000  \n",
       "6939 2005-12-30 15.05714  \n",
       "6940 2005-12-31 15.00000  "
      ]
     },
     "metadata": {},
     "output_type": "display_data"
    }
   ],
   "source": [
    "chicago <- arrange(chicago, date)\n",
    "head(select(chicago, date, pm25tmean2), 3)\n",
    "tail(select(chicago, date, pm25tmean2), 3)\n"
   ]
  },
  {
   "cell_type": "markdown",
   "metadata": {},
   "source": [
    "### `arrange`\n",
    "\n",
    "Columns can be arranged in descending order too."
   ]
  },
  {
   "cell_type": "code",
   "execution_count": 54,
   "metadata": {},
   "outputs": [
    {
     "data": {
      "text/html": [
       "<table>\n",
       "<thead><tr><th scope=col>date</th><th scope=col>pm25tmean2</th></tr></thead>\n",
       "<tbody>\n",
       "\t<tr><td>2005-12-31</td><td>15.00000  </td></tr>\n",
       "\t<tr><td>2005-12-30</td><td>15.05714  </td></tr>\n",
       "\t<tr><td>2005-12-29</td><td> 7.45000  </td></tr>\n",
       "</tbody>\n",
       "</table>\n"
      ],
      "text/latex": [
       "\\begin{tabular}{r|ll}\n",
       " date & pm25tmean2\\\\\n",
       "\\hline\n",
       "\t 2005-12-31 & 15.00000  \\\\\n",
       "\t 2005-12-30 & 15.05714  \\\\\n",
       "\t 2005-12-29 &  7.45000  \\\\\n",
       "\\end{tabular}\n"
      ],
      "text/markdown": [
       "\n",
       "| date | pm25tmean2 |\n",
       "|---|---|\n",
       "| 2005-12-31 | 15.00000   |\n",
       "| 2005-12-30 | 15.05714   |\n",
       "| 2005-12-29 |  7.45000   |\n",
       "\n"
      ],
      "text/plain": [
       "  date       pm25tmean2\n",
       "1 2005-12-31 15.00000  \n",
       "2 2005-12-30 15.05714  \n",
       "3 2005-12-29  7.45000  "
      ]
     },
     "metadata": {},
     "output_type": "display_data"
    },
    {
     "data": {
      "text/html": [
       "<table>\n",
       "<thead><tr><th></th><th scope=col>date</th><th scope=col>pm25tmean2</th></tr></thead>\n",
       "<tbody>\n",
       "\t<tr><th scope=row>6938</th><td>1987-01-03</td><td>NA        </td></tr>\n",
       "\t<tr><th scope=row>6939</th><td>1987-01-02</td><td>NA        </td></tr>\n",
       "\t<tr><th scope=row>6940</th><td>1987-01-01</td><td>NA        </td></tr>\n",
       "</tbody>\n",
       "</table>\n"
      ],
      "text/latex": [
       "\\begin{tabular}{r|ll}\n",
       "  & date & pm25tmean2\\\\\n",
       "\\hline\n",
       "\t6938 & 1987-01-03 & NA        \\\\\n",
       "\t6939 & 1987-01-02 & NA        \\\\\n",
       "\t6940 & 1987-01-01 & NA        \\\\\n",
       "\\end{tabular}\n"
      ],
      "text/markdown": [
       "\n",
       "| <!--/--> | date | pm25tmean2 |\n",
       "|---|---|---|\n",
       "| 6938 | 1987-01-03 | NA         |\n",
       "| 6939 | 1987-01-02 | NA         |\n",
       "| 6940 | 1987-01-01 | NA         |\n",
       "\n"
      ],
      "text/plain": [
       "     date       pm25tmean2\n",
       "6938 1987-01-03 NA        \n",
       "6939 1987-01-02 NA        \n",
       "6940 1987-01-01 NA        "
      ]
     },
     "metadata": {},
     "output_type": "display_data"
    }
   ],
   "source": [
    "chicago <- arrange(chicago, desc(date))\n",
    "head(select(chicago, date, pm25tmean2), 3)\n",
    "tail(select(chicago, date, pm25tmean2), 3)"
   ]
  },
  {
   "cell_type": "markdown",
   "metadata": {},
   "source": [
    "### `rename`\n",
    "\n",
    "Renaming a variable in a data frame in R is surprising hard to do!"
   ]
  },
  {
   "cell_type": "code",
   "execution_count": 55,
   "metadata": {},
   "outputs": [
    {
     "data": {
      "text/html": [
       "<table>\n",
       "<thead><tr><th scope=col>city</th><th scope=col>tmpd</th><th scope=col>dptp</th><th scope=col>date</th><th scope=col>pm25tmean2</th></tr></thead>\n",
       "<tbody>\n",
       "\t<tr><td>chic      </td><td>35        </td><td>30.1      </td><td>2005-12-31</td><td>15.00000  </td></tr>\n",
       "\t<tr><td>chic      </td><td>36        </td><td>31.0      </td><td>2005-12-30</td><td>15.05714  </td></tr>\n",
       "\t<tr><td>chic      </td><td>35        </td><td>29.4      </td><td>2005-12-29</td><td> 7.45000  </td></tr>\n",
       "</tbody>\n",
       "</table>\n"
      ],
      "text/latex": [
       "\\begin{tabular}{r|lllll}\n",
       " city & tmpd & dptp & date & pm25tmean2\\\\\n",
       "\\hline\n",
       "\t chic       & 35         & 30.1       & 2005-12-31 & 15.00000  \\\\\n",
       "\t chic       & 36         & 31.0       & 2005-12-30 & 15.05714  \\\\\n",
       "\t chic       & 35         & 29.4       & 2005-12-29 &  7.45000  \\\\\n",
       "\\end{tabular}\n"
      ],
      "text/markdown": [
       "\n",
       "| city | tmpd | dptp | date | pm25tmean2 |\n",
       "|---|---|---|---|---|\n",
       "| chic       | 35         | 30.1       | 2005-12-31 | 15.00000   |\n",
       "| chic       | 36         | 31.0       | 2005-12-30 | 15.05714   |\n",
       "| chic       | 35         | 29.4       | 2005-12-29 |  7.45000   |\n",
       "\n"
      ],
      "text/plain": [
       "  city tmpd dptp date       pm25tmean2\n",
       "1 chic 35   30.1 2005-12-31 15.00000  \n",
       "2 chic 36   31.0 2005-12-30 15.05714  \n",
       "3 chic 35   29.4 2005-12-29  7.45000  "
      ]
     },
     "metadata": {},
     "output_type": "display_data"
    },
    {
     "data": {
      "text/html": [
       "<table>\n",
       "<thead><tr><th scope=col>city</th><th scope=col>tmpd</th><th scope=col>dewpoint</th><th scope=col>date</th><th scope=col>pm25</th></tr></thead>\n",
       "<tbody>\n",
       "\t<tr><td>chic      </td><td>35        </td><td>30.1      </td><td>2005-12-31</td><td>15.00000  </td></tr>\n",
       "\t<tr><td>chic      </td><td>36        </td><td>31.0      </td><td>2005-12-30</td><td>15.05714  </td></tr>\n",
       "\t<tr><td>chic      </td><td>35        </td><td>29.4      </td><td>2005-12-29</td><td> 7.45000  </td></tr>\n",
       "</tbody>\n",
       "</table>\n"
      ],
      "text/latex": [
       "\\begin{tabular}{r|lllll}\n",
       " city & tmpd & dewpoint & date & pm25\\\\\n",
       "\\hline\n",
       "\t chic       & 35         & 30.1       & 2005-12-31 & 15.00000  \\\\\n",
       "\t chic       & 36         & 31.0       & 2005-12-30 & 15.05714  \\\\\n",
       "\t chic       & 35         & 29.4       & 2005-12-29 &  7.45000  \\\\\n",
       "\\end{tabular}\n"
      ],
      "text/markdown": [
       "\n",
       "| city | tmpd | dewpoint | date | pm25 |\n",
       "|---|---|---|---|---|\n",
       "| chic       | 35         | 30.1       | 2005-12-31 | 15.00000   |\n",
       "| chic       | 36         | 31.0       | 2005-12-30 | 15.05714   |\n",
       "| chic       | 35         | 29.4       | 2005-12-29 |  7.45000   |\n",
       "\n"
      ],
      "text/plain": [
       "  city tmpd dewpoint date       pm25    \n",
       "1 chic 35   30.1     2005-12-31 15.00000\n",
       "2 chic 36   31.0     2005-12-30 15.05714\n",
       "3 chic 35   29.4     2005-12-29  7.45000"
      ]
     },
     "metadata": {},
     "output_type": "display_data"
    }
   ],
   "source": [
    "head(chicago[, 1:5], 3)\n",
    "chicago <- rename(chicago, dewpoint = dptp, \n",
    "                  pm25 = pm25tmean2)\n",
    "head(chicago[, 1:5], 3)"
   ]
  },
  {
   "cell_type": "markdown",
   "metadata": {},
   "source": [
    "### `mutate`"
   ]
  },
  {
   "cell_type": "code",
   "execution_count": 56,
   "metadata": {},
   "outputs": [
    {
     "data": {
      "text/html": [
       "<table>\n",
       "<thead><tr><th scope=col>pm25</th><th scope=col>pm25detrend</th></tr></thead>\n",
       "<tbody>\n",
       "\t<tr><td>15.00000 </td><td>-1.230958</td></tr>\n",
       "\t<tr><td>15.05714 </td><td>-1.173815</td></tr>\n",
       "\t<tr><td> 7.45000 </td><td>-8.780958</td></tr>\n",
       "\t<tr><td>17.75000 </td><td> 1.519042</td></tr>\n",
       "\t<tr><td>23.56000 </td><td> 7.329042</td></tr>\n",
       "\t<tr><td> 8.40000 </td><td>-7.830958</td></tr>\n",
       "</tbody>\n",
       "</table>\n"
      ],
      "text/latex": [
       "\\begin{tabular}{r|ll}\n",
       " pm25 & pm25detrend\\\\\n",
       "\\hline\n",
       "\t 15.00000  & -1.230958\\\\\n",
       "\t 15.05714  & -1.173815\\\\\n",
       "\t  7.45000  & -8.780958\\\\\n",
       "\t 17.75000  &  1.519042\\\\\n",
       "\t 23.56000  &  7.329042\\\\\n",
       "\t  8.40000  & -7.830958\\\\\n",
       "\\end{tabular}\n"
      ],
      "text/markdown": [
       "\n",
       "| pm25 | pm25detrend |\n",
       "|---|---|\n",
       "| 15.00000  | -1.230958 |\n",
       "| 15.05714  | -1.173815 |\n",
       "|  7.45000  | -8.780958 |\n",
       "| 17.75000  |  1.519042 |\n",
       "| 23.56000  |  7.329042 |\n",
       "|  8.40000  | -7.830958 |\n",
       "\n"
      ],
      "text/plain": [
       "  pm25     pm25detrend\n",
       "1 15.00000 -1.230958  \n",
       "2 15.05714 -1.173815  \n",
       "3  7.45000 -8.780958  \n",
       "4 17.75000  1.519042  \n",
       "5 23.56000  7.329042  \n",
       "6  8.40000 -7.830958  "
      ]
     },
     "metadata": {},
     "output_type": "display_data"
    }
   ],
   "source": [
    "chicago <- mutate(chicago, \n",
    "                  pm25detrend=pm25-mean(pm25, na.rm=TRUE))\n",
    "head(select(chicago, pm25, pm25detrend))"
   ]
  },
  {
   "cell_type": "markdown",
   "metadata": {},
   "source": [
    "### `group_by`\n",
    "\n",
    "Generating summary statistics by stratum"
   ]
  },
  {
   "cell_type": "code",
   "execution_count": 57,
   "metadata": {},
   "outputs": [
    {
     "data": {
      "text/html": [
       "<table>\n",
       "<thead><tr><th scope=col>tempcat</th><th scope=col>pm25</th><th scope=col>o3</th><th scope=col>no2</th></tr></thead>\n",
       "<tbody>\n",
       "\t<tr><td>cold     </td><td>15.97807 </td><td>66.587500</td><td>24.54924 </td></tr>\n",
       "\t<tr><td>hot      </td><td>26.48118 </td><td>62.969656</td><td>24.93870 </td></tr>\n",
       "\t<tr><td>NA       </td><td>47.73750 </td><td> 9.416667</td><td>37.44444 </td></tr>\n",
       "</tbody>\n",
       "</table>\n"
      ],
      "text/latex": [
       "\\begin{tabular}{r|llll}\n",
       " tempcat & pm25 & o3 & no2\\\\\n",
       "\\hline\n",
       "\t cold      & 15.97807  & 66.587500 & 24.54924 \\\\\n",
       "\t hot       & 26.48118  & 62.969656 & 24.93870 \\\\\n",
       "\t NA        & 47.73750  &  9.416667 & 37.44444 \\\\\n",
       "\\end{tabular}\n"
      ],
      "text/markdown": [
       "\n",
       "| tempcat | pm25 | o3 | no2 |\n",
       "|---|---|---|---|\n",
       "| cold      | 15.97807  | 66.587500 | 24.54924  |\n",
       "| hot       | 26.48118  | 62.969656 | 24.93870  |\n",
       "| NA        | 47.73750  |  9.416667 | 37.44444  |\n",
       "\n"
      ],
      "text/plain": [
       "  tempcat pm25     o3        no2     \n",
       "1 cold    15.97807 66.587500 24.54924\n",
       "2 hot     26.48118 62.969656 24.93870\n",
       "3 NA      47.73750  9.416667 37.44444"
      ]
     },
     "metadata": {},
     "output_type": "display_data"
    }
   ],
   "source": [
    "chicago <- mutate(chicago, \n",
    "                  tempcat = factor(1 * (tmpd > 80), \n",
    "                                   labels = c(\"cold\", \"hot\")))\n",
    "hotcold <- group_by(chicago, tempcat)\n",
    "summarize(hotcold, pm25 = mean(pm25, na.rm = TRUE), \n",
    "          o3 = max(o3tmean2), \n",
    "          no2 = median(no2tmean2))"
   ]
  },
  {
   "cell_type": "markdown",
   "metadata": {},
   "source": [
    "### `group_by`\n",
    "\n",
    "Generating summary statistics by stratum"
   ]
  },
  {
   "cell_type": "code",
   "execution_count": 61,
   "metadata": {},
   "outputs": [
    {
     "data": {
      "text/html": [
       "<table>\n",
       "<thead><tr><th scope=col>year</th><th scope=col>pm25</th><th scope=col>o3</th><th scope=col>no2</th></tr></thead>\n",
       "<tbody>\n",
       "\t<tr><td>1987    </td><td>     NaN</td><td>62.96966</td><td>23.49369</td></tr>\n",
       "\t<tr><td>1988    </td><td>     NaN</td><td>61.67708</td><td>24.52296</td></tr>\n",
       "\t<tr><td>1989    </td><td>     NaN</td><td>59.72727</td><td>26.14062</td></tr>\n",
       "\t<tr><td>1990    </td><td>     NaN</td><td>52.22917</td><td>22.59583</td></tr>\n",
       "\t<tr><td>1991    </td><td>     NaN</td><td>63.10417</td><td>21.38194</td></tr>\n",
       "\t<tr><td>1992    </td><td>     NaN</td><td>50.82870</td><td>24.78921</td></tr>\n",
       "\t<tr><td>1993    </td><td>     NaN</td><td>44.30093</td><td>25.76993</td></tr>\n",
       "\t<tr><td>1994    </td><td>     NaN</td><td>52.17844</td><td>28.47500</td></tr>\n",
       "\t<tr><td>1995    </td><td>     NaN</td><td>66.58750</td><td>27.26042</td></tr>\n",
       "\t<tr><td>1996    </td><td>     NaN</td><td>58.39583</td><td>26.38715</td></tr>\n",
       "\t<tr><td>1997    </td><td>     NaN</td><td>56.54167</td><td>25.48143</td></tr>\n",
       "\t<tr><td>1998    </td><td>18.26467</td><td>50.66250</td><td>24.58649</td></tr>\n",
       "\t<tr><td>1999    </td><td>18.49646</td><td>57.48864</td><td>24.66667</td></tr>\n",
       "\t<tr><td>2000    </td><td>16.93806</td><td>55.76103</td><td>23.46082</td></tr>\n",
       "\t<tr><td>2001    </td><td>16.92632</td><td>51.81984</td><td>25.06522</td></tr>\n",
       "\t<tr><td>2002    </td><td>15.27335</td><td>54.88043</td><td>22.73750</td></tr>\n",
       "\t<tr><td>2003    </td><td>15.23183</td><td>56.16608</td><td>24.62500</td></tr>\n",
       "\t<tr><td>2004    </td><td>14.62864</td><td>44.48240</td><td>23.39130</td></tr>\n",
       "\t<tr><td>2005    </td><td>16.18556</td><td>58.84126</td><td>22.62387</td></tr>\n",
       "</tbody>\n",
       "</table>\n"
      ],
      "text/latex": [
       "\\begin{tabular}{r|llll}\n",
       " year & pm25 & o3 & no2\\\\\n",
       "\\hline\n",
       "\t 1987     &      NaN & 62.96966 & 23.49369\\\\\n",
       "\t 1988     &      NaN & 61.67708 & 24.52296\\\\\n",
       "\t 1989     &      NaN & 59.72727 & 26.14062\\\\\n",
       "\t 1990     &      NaN & 52.22917 & 22.59583\\\\\n",
       "\t 1991     &      NaN & 63.10417 & 21.38194\\\\\n",
       "\t 1992     &      NaN & 50.82870 & 24.78921\\\\\n",
       "\t 1993     &      NaN & 44.30093 & 25.76993\\\\\n",
       "\t 1994     &      NaN & 52.17844 & 28.47500\\\\\n",
       "\t 1995     &      NaN & 66.58750 & 27.26042\\\\\n",
       "\t 1996     &      NaN & 58.39583 & 26.38715\\\\\n",
       "\t 1997     &      NaN & 56.54167 & 25.48143\\\\\n",
       "\t 1998     & 18.26467 & 50.66250 & 24.58649\\\\\n",
       "\t 1999     & 18.49646 & 57.48864 & 24.66667\\\\\n",
       "\t 2000     & 16.93806 & 55.76103 & 23.46082\\\\\n",
       "\t 2001     & 16.92632 & 51.81984 & 25.06522\\\\\n",
       "\t 2002     & 15.27335 & 54.88043 & 22.73750\\\\\n",
       "\t 2003     & 15.23183 & 56.16608 & 24.62500\\\\\n",
       "\t 2004     & 14.62864 & 44.48240 & 23.39130\\\\\n",
       "\t 2005     & 16.18556 & 58.84126 & 22.62387\\\\\n",
       "\\end{tabular}\n"
      ],
      "text/markdown": [
       "\n",
       "| year | pm25 | o3 | no2 |\n",
       "|---|---|---|---|\n",
       "| 1987     |      NaN | 62.96966 | 23.49369 |\n",
       "| 1988     |      NaN | 61.67708 | 24.52296 |\n",
       "| 1989     |      NaN | 59.72727 | 26.14062 |\n",
       "| 1990     |      NaN | 52.22917 | 22.59583 |\n",
       "| 1991     |      NaN | 63.10417 | 21.38194 |\n",
       "| 1992     |      NaN | 50.82870 | 24.78921 |\n",
       "| 1993     |      NaN | 44.30093 | 25.76993 |\n",
       "| 1994     |      NaN | 52.17844 | 28.47500 |\n",
       "| 1995     |      NaN | 66.58750 | 27.26042 |\n",
       "| 1996     |      NaN | 58.39583 | 26.38715 |\n",
       "| 1997     |      NaN | 56.54167 | 25.48143 |\n",
       "| 1998     | 18.26467 | 50.66250 | 24.58649 |\n",
       "| 1999     | 18.49646 | 57.48864 | 24.66667 |\n",
       "| 2000     | 16.93806 | 55.76103 | 23.46082 |\n",
       "| 2001     | 16.92632 | 51.81984 | 25.06522 |\n",
       "| 2002     | 15.27335 | 54.88043 | 22.73750 |\n",
       "| 2003     | 15.23183 | 56.16608 | 24.62500 |\n",
       "| 2004     | 14.62864 | 44.48240 | 23.39130 |\n",
       "| 2005     | 16.18556 | 58.84126 | 22.62387 |\n",
       "\n"
      ],
      "text/plain": [
       "   year pm25     o3       no2     \n",
       "1  1987      NaN 62.96966 23.49369\n",
       "2  1988      NaN 61.67708 24.52296\n",
       "3  1989      NaN 59.72727 26.14062\n",
       "4  1990      NaN 52.22917 22.59583\n",
       "5  1991      NaN 63.10417 21.38194\n",
       "6  1992      NaN 50.82870 24.78921\n",
       "7  1993      NaN 44.30093 25.76993\n",
       "8  1994      NaN 52.17844 28.47500\n",
       "9  1995      NaN 66.58750 27.26042\n",
       "10 1996      NaN 58.39583 26.38715\n",
       "11 1997      NaN 56.54167 25.48143\n",
       "12 1998 18.26467 50.66250 24.58649\n",
       "13 1999 18.49646 57.48864 24.66667\n",
       "14 2000 16.93806 55.76103 23.46082\n",
       "15 2001 16.92632 51.81984 25.06522\n",
       "16 2002 15.27335 54.88043 22.73750\n",
       "17 2003 15.23183 56.16608 24.62500\n",
       "18 2004 14.62864 44.48240 23.39130\n",
       "19 2005 16.18556 58.84126 22.62387"
      ]
     },
     "metadata": {},
     "output_type": "display_data"
    }
   ],
   "source": [
    "chicago <- mutate(chicago, \n",
    "                  year = as.POSIXlt(date)$year + 1900)\n",
    "years <- group_by(chicago, year)\n",
    "summarize(years, pm25 = mean(pm25, na.rm = TRUE), \n",
    "          o3 = max(o3tmean2, na.rm = TRUE), \n",
    "          no2 = median(no2tmean2, na.rm = TRUE))\n",
    "chicago$year <- NULL  ## Can't use mutate to create an existing variable"
   ]
  },
  {
   "cell_type": "markdown",
   "metadata": {},
   "source": [
    "### `%>%`"
   ]
  },
  {
   "cell_type": "code",
   "execution_count": 74,
   "metadata": {},
   "outputs": [
    {
     "data": {
      "text/html": [
       "<table>\n",
       "<thead><tr><th scope=col>month</th><th scope=col>pm25</th><th scope=col>o3</th><th scope=col>no2</th></tr></thead>\n",
       "<tbody>\n",
       "\t<tr><td> 1      </td><td>17.76996</td><td>28.22222</td><td>25.35417</td></tr>\n",
       "\t<tr><td> 2      </td><td>20.37513</td><td>37.37500</td><td>26.78034</td></tr>\n",
       "\t<tr><td> 3      </td><td>17.40818</td><td>39.05000</td><td>26.76984</td></tr>\n",
       "\t<tr><td> 4      </td><td>13.85879</td><td>47.94907</td><td>25.03125</td></tr>\n",
       "\t<tr><td> 5      </td><td>14.07420</td><td>52.75000</td><td>24.22222</td></tr>\n",
       "\t<tr><td> 6      </td><td>15.86461</td><td>66.58750</td><td>25.01140</td></tr>\n",
       "\t<tr><td> 7      </td><td>16.57087</td><td>59.54167</td><td>22.38442</td></tr>\n",
       "\t<tr><td> 8      </td><td>16.93380</td><td>53.96701</td><td>22.98333</td></tr>\n",
       "\t<tr><td> 9      </td><td>15.91279</td><td>57.48864</td><td>24.47917</td></tr>\n",
       "\t<tr><td>10      </td><td>14.23557</td><td>47.09275</td><td>24.15217</td></tr>\n",
       "\t<tr><td>11      </td><td>15.15794</td><td>29.45833</td><td>23.56537</td></tr>\n",
       "\t<tr><td>12      </td><td>17.52221</td><td>27.70833</td><td>24.45773</td></tr>\n",
       "</tbody>\n",
       "</table>\n"
      ],
      "text/latex": [
       "\\begin{tabular}{r|llll}\n",
       " month & pm25 & o3 & no2\\\\\n",
       "\\hline\n",
       "\t  1       & 17.76996 & 28.22222 & 25.35417\\\\\n",
       "\t  2       & 20.37513 & 37.37500 & 26.78034\\\\\n",
       "\t  3       & 17.40818 & 39.05000 & 26.76984\\\\\n",
       "\t  4       & 13.85879 & 47.94907 & 25.03125\\\\\n",
       "\t  5       & 14.07420 & 52.75000 & 24.22222\\\\\n",
       "\t  6       & 15.86461 & 66.58750 & 25.01140\\\\\n",
       "\t  7       & 16.57087 & 59.54167 & 22.38442\\\\\n",
       "\t  8       & 16.93380 & 53.96701 & 22.98333\\\\\n",
       "\t  9       & 15.91279 & 57.48864 & 24.47917\\\\\n",
       "\t 10       & 14.23557 & 47.09275 & 24.15217\\\\\n",
       "\t 11       & 15.15794 & 29.45833 & 23.56537\\\\\n",
       "\t 12       & 17.52221 & 27.70833 & 24.45773\\\\\n",
       "\\end{tabular}\n"
      ],
      "text/markdown": [
       "\n",
       "| month | pm25 | o3 | no2 |\n",
       "|---|---|---|---|\n",
       "|  1       | 17.76996 | 28.22222 | 25.35417 |\n",
       "|  2       | 20.37513 | 37.37500 | 26.78034 |\n",
       "|  3       | 17.40818 | 39.05000 | 26.76984 |\n",
       "|  4       | 13.85879 | 47.94907 | 25.03125 |\n",
       "|  5       | 14.07420 | 52.75000 | 24.22222 |\n",
       "|  6       | 15.86461 | 66.58750 | 25.01140 |\n",
       "|  7       | 16.57087 | 59.54167 | 22.38442 |\n",
       "|  8       | 16.93380 | 53.96701 | 22.98333 |\n",
       "|  9       | 15.91279 | 57.48864 | 24.47917 |\n",
       "| 10       | 14.23557 | 47.09275 | 24.15217 |\n",
       "| 11       | 15.15794 | 29.45833 | 23.56537 |\n",
       "| 12       | 17.52221 | 27.70833 | 24.45773 |\n",
       "\n"
      ],
      "text/plain": [
       "   month pm25     o3       no2     \n",
       "1   1    17.76996 28.22222 25.35417\n",
       "2   2    20.37513 37.37500 26.78034\n",
       "3   3    17.40818 39.05000 26.76984\n",
       "4   4    13.85879 47.94907 25.03125\n",
       "5   5    14.07420 52.75000 24.22222\n",
       "6   6    15.86461 66.58750 25.01140\n",
       "7   7    16.57087 59.54167 22.38442\n",
       "8   8    16.93380 53.96701 22.98333\n",
       "9   9    15.91279 57.48864 24.47917\n",
       "10 10    14.23557 47.09275 24.15217\n",
       "11 11    15.15794 29.45833 23.56537\n",
       "12 12    17.52221 27.70833 24.45773"
      ]
     },
     "metadata": {},
     "output_type": "display_data"
    }
   ],
   "source": [
    "chicago %>% \n",
    "    mutate(month = as.POSIXlt(date)$mon + 1) %>% \n",
    "    group_by(month) %>% \n",
    "    summarize(pm25 = mean(pm25, na.rm = TRUE), \n",
    "              o3 = max(o3tmean2, na.rm = TRUE), \n",
    "              no2 = median(no2tmean2, na.rm = TRUE))                                                                         "
   ]
  },
  {
   "cell_type": "code",
   "execution_count": 75,
   "metadata": {},
   "outputs": [
    {
     "data": {
      "text/html": [
       "<table>\n",
       "<thead><tr><th scope=col>month</th><th scope=col>pm25</th><th scope=col>o3</th><th scope=col>no2</th></tr></thead>\n",
       "<tbody>\n",
       "\t<tr><td> 1      </td><td>17.76996</td><td>28.22222</td><td>25.35417</td></tr>\n",
       "\t<tr><td> 2      </td><td>20.37513</td><td>37.37500</td><td>26.78034</td></tr>\n",
       "\t<tr><td> 3      </td><td>17.40818</td><td>39.05000</td><td>26.76984</td></tr>\n",
       "\t<tr><td> 4      </td><td>13.85879</td><td>47.94907</td><td>25.03125</td></tr>\n",
       "\t<tr><td> 5      </td><td>14.07420</td><td>52.75000</td><td>24.22222</td></tr>\n",
       "\t<tr><td> 6      </td><td>15.86461</td><td>66.58750</td><td>25.01140</td></tr>\n",
       "\t<tr><td> 7      </td><td>16.57087</td><td>59.54167</td><td>22.38442</td></tr>\n",
       "\t<tr><td> 8      </td><td>16.93380</td><td>53.96701</td><td>22.98333</td></tr>\n",
       "\t<tr><td> 9      </td><td>15.91279</td><td>57.48864</td><td>24.47917</td></tr>\n",
       "\t<tr><td>10      </td><td>14.23557</td><td>47.09275</td><td>24.15217</td></tr>\n",
       "\t<tr><td>11      </td><td>15.15794</td><td>29.45833</td><td>23.56537</td></tr>\n",
       "\t<tr><td>12      </td><td>17.52221</td><td>27.70833</td><td>24.45773</td></tr>\n",
       "</tbody>\n",
       "</table>\n"
      ],
      "text/latex": [
       "\\begin{tabular}{r|llll}\n",
       " month & pm25 & o3 & no2\\\\\n",
       "\\hline\n",
       "\t  1       & 17.76996 & 28.22222 & 25.35417\\\\\n",
       "\t  2       & 20.37513 & 37.37500 & 26.78034\\\\\n",
       "\t  3       & 17.40818 & 39.05000 & 26.76984\\\\\n",
       "\t  4       & 13.85879 & 47.94907 & 25.03125\\\\\n",
       "\t  5       & 14.07420 & 52.75000 & 24.22222\\\\\n",
       "\t  6       & 15.86461 & 66.58750 & 25.01140\\\\\n",
       "\t  7       & 16.57087 & 59.54167 & 22.38442\\\\\n",
       "\t  8       & 16.93380 & 53.96701 & 22.98333\\\\\n",
       "\t  9       & 15.91279 & 57.48864 & 24.47917\\\\\n",
       "\t 10       & 14.23557 & 47.09275 & 24.15217\\\\\n",
       "\t 11       & 15.15794 & 29.45833 & 23.56537\\\\\n",
       "\t 12       & 17.52221 & 27.70833 & 24.45773\\\\\n",
       "\\end{tabular}\n"
      ],
      "text/markdown": [
       "\n",
       "| month | pm25 | o3 | no2 |\n",
       "|---|---|---|---|\n",
       "|  1       | 17.76996 | 28.22222 | 25.35417 |\n",
       "|  2       | 20.37513 | 37.37500 | 26.78034 |\n",
       "|  3       | 17.40818 | 39.05000 | 26.76984 |\n",
       "|  4       | 13.85879 | 47.94907 | 25.03125 |\n",
       "|  5       | 14.07420 | 52.75000 | 24.22222 |\n",
       "|  6       | 15.86461 | 66.58750 | 25.01140 |\n",
       "|  7       | 16.57087 | 59.54167 | 22.38442 |\n",
       "|  8       | 16.93380 | 53.96701 | 22.98333 |\n",
       "|  9       | 15.91279 | 57.48864 | 24.47917 |\n",
       "| 10       | 14.23557 | 47.09275 | 24.15217 |\n",
       "| 11       | 15.15794 | 29.45833 | 23.56537 |\n",
       "| 12       | 17.52221 | 27.70833 | 24.45773 |\n",
       "\n"
      ],
      "text/plain": [
       "   month pm25     o3       no2     \n",
       "1   1    17.76996 28.22222 25.35417\n",
       "2   2    20.37513 37.37500 26.78034\n",
       "3   3    17.40818 39.05000 26.76984\n",
       "4   4    13.85879 47.94907 25.03125\n",
       "5   5    14.07420 52.75000 24.22222\n",
       "6   6    15.86461 66.58750 25.01140\n",
       "7   7    16.57087 59.54167 22.38442\n",
       "8   8    16.93380 53.96701 22.98333\n",
       "9   9    15.91279 57.48864 24.47917\n",
       "10 10    14.23557 47.09275 24.15217\n",
       "11 11    15.15794 29.45833 23.56537\n",
       "12 12    17.52221 27.70833 24.45773"
      ]
     },
     "metadata": {},
     "output_type": "display_data"
    }
   ],
   "source": [
    "chicago %>% mutate(month = as.POSIXlt(date)$mon + 1) %>% group_by(month) %>% \n",
    "summarize(pm25 = mean(pm25, na.rm = TRUE), o3 = max(o3tmean2, na.rm = TRUE), no2 = median(no2tmean2, na.rm = TRUE))"
   ]
  },
  {
   "cell_type": "markdown",
   "metadata": {},
   "source": [
    "### dplyr\n",
    "\n",
    "Once you learn the dplyr \"grammar\" there are a few additional benefits\n",
    "\n",
    "* dplyr can work with other data frame \"backends\"\n",
    "\n",
    "* `data.table` for large fast tables\n",
    "\n",
    "* SQL interface for relational databases via the DBI package\n"
   ]
  },
  {
   "cell_type": "markdown",
   "metadata": {},
   "source": [
    "## Merging data"
   ]
  },
  {
   "cell_type": "markdown",
   "metadata": {},
   "source": [
    "### Peer review experiment data\n",
    "\n",
    "\n",
    "<img class=center src=\"https://raw.githubusercontent.com/DataScienceSpecialization/courses/master/assets/img/03_ObtainingData/cooperation.png\" height=500 />\n",
    "\n",
    "\n",
    "[http://www.plosone.org/article/info:doi/10.1371/journal.pone.0026895](http://www.plosone.org/article/info:doi/10.1371/journal.pone.0026895)"
   ]
  },
  {
   "cell_type": "markdown",
   "metadata": {},
   "source": [
    "### Peer review data"
   ]
  },
  {
   "cell_type": "code",
   "execution_count": 77,
   "metadata": {},
   "outputs": [
    {
     "data": {
      "text/html": [
       "<table>\n",
       "<thead><tr><th scope=col>id</th><th scope=col>solution_id</th><th scope=col>reviewer_id</th><th scope=col>start</th><th scope=col>stop</th><th scope=col>time_left</th><th scope=col>accept</th></tr></thead>\n",
       "<tbody>\n",
       "\t<tr><td>1         </td><td>3         </td><td>27        </td><td>1304095698</td><td>1304095758</td><td>1754      </td><td>1         </td></tr>\n",
       "\t<tr><td>2         </td><td>4         </td><td>22        </td><td>1304095188</td><td>1304095206</td><td>2306      </td><td>1         </td></tr>\n",
       "</tbody>\n",
       "</table>\n"
      ],
      "text/latex": [
       "\\begin{tabular}{r|lllllll}\n",
       " id & solution\\_id & reviewer\\_id & start & stop & time\\_left & accept\\\\\n",
       "\\hline\n",
       "\t 1          & 3          & 27         & 1304095698 & 1304095758 & 1754       & 1         \\\\\n",
       "\t 2          & 4          & 22         & 1304095188 & 1304095206 & 2306       & 1         \\\\\n",
       "\\end{tabular}\n"
      ],
      "text/markdown": [
       "\n",
       "| id | solution_id | reviewer_id | start | stop | time_left | accept |\n",
       "|---|---|---|---|---|---|---|\n",
       "| 1          | 3          | 27         | 1304095698 | 1304095758 | 1754       | 1          |\n",
       "| 2          | 4          | 22         | 1304095188 | 1304095206 | 2306       | 1          |\n",
       "\n"
      ],
      "text/plain": [
       "  id solution_id reviewer_id start      stop       time_left accept\n",
       "1 1  3           27          1304095698 1304095758 1754      1     \n",
       "2 2  4           22          1304095188 1304095206 2306      1     "
      ]
     },
     "metadata": {},
     "output_type": "display_data"
    },
    {
     "data": {
      "text/html": [
       "<table>\n",
       "<thead><tr><th scope=col>id</th><th scope=col>problem_id</th><th scope=col>subject_id</th><th scope=col>start</th><th scope=col>stop</th><th scope=col>time_left</th><th scope=col>answer</th></tr></thead>\n",
       "<tbody>\n",
       "\t<tr><td>1         </td><td>156       </td><td>29        </td><td>1304095119</td><td>1304095169</td><td>2343      </td><td>B         </td></tr>\n",
       "\t<tr><td>2         </td><td>269       </td><td>25        </td><td>1304095119</td><td>1304095183</td><td>2329      </td><td>C         </td></tr>\n",
       "</tbody>\n",
       "</table>\n"
      ],
      "text/latex": [
       "\\begin{tabular}{r|lllllll}\n",
       " id & problem\\_id & subject\\_id & start & stop & time\\_left & answer\\\\\n",
       "\\hline\n",
       "\t 1          & 156        & 29         & 1304095119 & 1304095169 & 2343       & B         \\\\\n",
       "\t 2          & 269        & 25         & 1304095119 & 1304095183 & 2329       & C         \\\\\n",
       "\\end{tabular}\n"
      ],
      "text/markdown": [
       "\n",
       "| id | problem_id | subject_id | start | stop | time_left | answer |\n",
       "|---|---|---|---|---|---|---|\n",
       "| 1          | 156        | 29         | 1304095119 | 1304095169 | 2343       | B          |\n",
       "| 2          | 269        | 25         | 1304095119 | 1304095183 | 2329       | C          |\n",
       "\n"
      ],
      "text/plain": [
       "  id problem_id subject_id start      stop       time_left answer\n",
       "1 1  156        29         1304095119 1304095169 2343      B     \n",
       "2 2  269        25         1304095119 1304095183 2329      C     "
      ]
     },
     "metadata": {},
     "output_type": "display_data"
    }
   ],
   "source": [
    "if(!file.exists(\"./data\")){dir.create(\"./data\")}\n",
    "fileUrl1 = \"https://raw.githubusercontent.com/DataScienceSpecialization/courses/master/03_GettingData/03_05_mergingData/data/reviews.csv\"\n",
    "fileUrl2 = \"https://raw.githubusercontent.com/DataScienceSpecialization/courses/master/03_GettingData/03_05_mergingData/data/solutions.csv\"\n",
    "download.file(fileUrl1,destfile=\"./data/reviews.csv\",method=\"curl\")\n",
    "download.file(fileUrl2,destfile=\"./data/solutions.csv\",method=\"curl\")\n",
    "reviews = read.csv(\"./data/reviews.csv\"); solutions <- read.csv(\"./data/solutions.csv\")\n",
    "head(reviews,2)\n",
    "head(solutions,2)"
   ]
  },
  {
   "cell_type": "markdown",
   "metadata": {},
   "source": [
    "### Merging data - merge()\n",
    "\n",
    "* Merges data frames\n",
    "* Important parameters: _x_,_y_,_by_,_by.x_,_by.y_,_all_"
   ]
  },
  {
   "cell_type": "code",
   "execution_count": 79,
   "metadata": {},
   "outputs": [
    {
     "data": {
      "text/html": [
       "<ol class=list-inline>\n",
       "\t<li>'id'</li>\n",
       "\t<li>'solution_id'</li>\n",
       "\t<li>'reviewer_id'</li>\n",
       "\t<li>'start'</li>\n",
       "\t<li>'stop'</li>\n",
       "\t<li>'time_left'</li>\n",
       "\t<li>'accept'</li>\n",
       "</ol>\n"
      ],
      "text/latex": [
       "\\begin{enumerate*}\n",
       "\\item 'id'\n",
       "\\item 'solution\\_id'\n",
       "\\item 'reviewer\\_id'\n",
       "\\item 'start'\n",
       "\\item 'stop'\n",
       "\\item 'time\\_left'\n",
       "\\item 'accept'\n",
       "\\end{enumerate*}\n"
      ],
      "text/markdown": [
       "1. 'id'\n",
       "2. 'solution_id'\n",
       "3. 'reviewer_id'\n",
       "4. 'start'\n",
       "5. 'stop'\n",
       "6. 'time_left'\n",
       "7. 'accept'\n",
       "\n",
       "\n"
      ],
      "text/plain": [
       "[1] \"id\"          \"solution_id\" \"reviewer_id\" \"start\"       \"stop\"       \n",
       "[6] \"time_left\"   \"accept\"     "
      ]
     },
     "metadata": {},
     "output_type": "display_data"
    },
    {
     "data": {
      "text/html": [
       "<ol class=list-inline>\n",
       "\t<li>'id'</li>\n",
       "\t<li>'problem_id'</li>\n",
       "\t<li>'subject_id'</li>\n",
       "\t<li>'start'</li>\n",
       "\t<li>'stop'</li>\n",
       "\t<li>'time_left'</li>\n",
       "\t<li>'answer'</li>\n",
       "</ol>\n"
      ],
      "text/latex": [
       "\\begin{enumerate*}\n",
       "\\item 'id'\n",
       "\\item 'problem\\_id'\n",
       "\\item 'subject\\_id'\n",
       "\\item 'start'\n",
       "\\item 'stop'\n",
       "\\item 'time\\_left'\n",
       "\\item 'answer'\n",
       "\\end{enumerate*}\n"
      ],
      "text/markdown": [
       "1. 'id'\n",
       "2. 'problem_id'\n",
       "3. 'subject_id'\n",
       "4. 'start'\n",
       "5. 'stop'\n",
       "6. 'time_left'\n",
       "7. 'answer'\n",
       "\n",
       "\n"
      ],
      "text/plain": [
       "[1] \"id\"         \"problem_id\" \"subject_id\" \"start\"      \"stop\"      \n",
       "[6] \"time_left\"  \"answer\"    "
      ]
     },
     "metadata": {},
     "output_type": "display_data"
    }
   ],
   "source": [
    "names(reviews)\n",
    "names(solutions)"
   ]
  },
  {
   "cell_type": "markdown",
   "metadata": {},
   "source": [
    "### Merging data - merge()"
   ]
  },
  {
   "cell_type": "code",
   "execution_count": 80,
   "metadata": {},
   "outputs": [
    {
     "data": {
      "text/html": [
       "<table>\n",
       "<thead><tr><th scope=col>solution_id</th><th scope=col>id</th><th scope=col>reviewer_id</th><th scope=col>start.x</th><th scope=col>stop.x</th><th scope=col>time_left.x</th><th scope=col>accept</th><th scope=col>problem_id</th><th scope=col>subject_id</th><th scope=col>start.y</th><th scope=col>stop.y</th><th scope=col>time_left.y</th><th scope=col>answer</th></tr></thead>\n",
       "<tbody>\n",
       "\t<tr><td>1         </td><td> 4        </td><td>26        </td><td>1304095267</td><td>1304095423</td><td>2089      </td><td>1         </td><td>156       </td><td>29        </td><td>1304095119</td><td>1304095169</td><td>2343      </td><td>B         </td></tr>\n",
       "\t<tr><td>2         </td><td> 6        </td><td>29        </td><td>1304095471</td><td>1304095513</td><td>1999      </td><td>1         </td><td>269       </td><td>25        </td><td>1304095119</td><td>1304095183</td><td>2329      </td><td>C         </td></tr>\n",
       "\t<tr><td>3         </td><td> 1        </td><td>27        </td><td>1304095698</td><td>1304095758</td><td>1754      </td><td>1         </td><td> 34       </td><td>22        </td><td>1304095127</td><td>1304095146</td><td>2366      </td><td>C         </td></tr>\n",
       "\t<tr><td>4         </td><td> 2        </td><td>22        </td><td>1304095188</td><td>1304095206</td><td>2306      </td><td>1         </td><td> 19       </td><td>23        </td><td>1304095127</td><td>1304095150</td><td>2362      </td><td>D         </td></tr>\n",
       "\t<tr><td>5         </td><td> 3        </td><td>28        </td><td>1304095276</td><td>1304095320</td><td>2192      </td><td>1         </td><td>605       </td><td>26        </td><td>1304095127</td><td>1304095167</td><td>2345      </td><td>A         </td></tr>\n",
       "\t<tr><td>6         </td><td>16        </td><td>22        </td><td>1304095303</td><td>1304095471</td><td>2041      </td><td>1         </td><td>384       </td><td>27        </td><td>1304095131</td><td>1304095270</td><td>2242      </td><td>C         </td></tr>\n",
       "</tbody>\n",
       "</table>\n"
      ],
      "text/latex": [
       "\\begin{tabular}{r|lllllllllllll}\n",
       " solution\\_id & id & reviewer\\_id & start.x & stop.x & time\\_left.x & accept & problem\\_id & subject\\_id & start.y & stop.y & time\\_left.y & answer\\\\\n",
       "\\hline\n",
       "\t 1          &  4         & 26         & 1304095267 & 1304095423 & 2089       & 1          & 156        & 29         & 1304095119 & 1304095169 & 2343       & B         \\\\\n",
       "\t 2          &  6         & 29         & 1304095471 & 1304095513 & 1999       & 1          & 269        & 25         & 1304095119 & 1304095183 & 2329       & C         \\\\\n",
       "\t 3          &  1         & 27         & 1304095698 & 1304095758 & 1754       & 1          &  34        & 22         & 1304095127 & 1304095146 & 2366       & C         \\\\\n",
       "\t 4          &  2         & 22         & 1304095188 & 1304095206 & 2306       & 1          &  19        & 23         & 1304095127 & 1304095150 & 2362       & D         \\\\\n",
       "\t 5          &  3         & 28         & 1304095276 & 1304095320 & 2192       & 1          & 605        & 26         & 1304095127 & 1304095167 & 2345       & A         \\\\\n",
       "\t 6          & 16         & 22         & 1304095303 & 1304095471 & 2041       & 1          & 384        & 27         & 1304095131 & 1304095270 & 2242       & C         \\\\\n",
       "\\end{tabular}\n"
      ],
      "text/markdown": [
       "\n",
       "| solution_id | id | reviewer_id | start.x | stop.x | time_left.x | accept | problem_id | subject_id | start.y | stop.y | time_left.y | answer |\n",
       "|---|---|---|---|---|---|---|---|---|---|---|---|---|\n",
       "| 1          |  4         | 26         | 1304095267 | 1304095423 | 2089       | 1          | 156        | 29         | 1304095119 | 1304095169 | 2343       | B          |\n",
       "| 2          |  6         | 29         | 1304095471 | 1304095513 | 1999       | 1          | 269        | 25         | 1304095119 | 1304095183 | 2329       | C          |\n",
       "| 3          |  1         | 27         | 1304095698 | 1304095758 | 1754       | 1          |  34        | 22         | 1304095127 | 1304095146 | 2366       | C          |\n",
       "| 4          |  2         | 22         | 1304095188 | 1304095206 | 2306       | 1          |  19        | 23         | 1304095127 | 1304095150 | 2362       | D          |\n",
       "| 5          |  3         | 28         | 1304095276 | 1304095320 | 2192       | 1          | 605        | 26         | 1304095127 | 1304095167 | 2345       | A          |\n",
       "| 6          | 16         | 22         | 1304095303 | 1304095471 | 2041       | 1          | 384        | 27         | 1304095131 | 1304095270 | 2242       | C          |\n",
       "\n"
      ],
      "text/plain": [
       "  solution_id id reviewer_id start.x    stop.x     time_left.x accept\n",
       "1 1            4 26          1304095267 1304095423 2089        1     \n",
       "2 2            6 29          1304095471 1304095513 1999        1     \n",
       "3 3            1 27          1304095698 1304095758 1754        1     \n",
       "4 4            2 22          1304095188 1304095206 2306        1     \n",
       "5 5            3 28          1304095276 1304095320 2192        1     \n",
       "6 6           16 22          1304095303 1304095471 2041        1     \n",
       "  problem_id subject_id start.y    stop.y     time_left.y answer\n",
       "1 156        29         1304095119 1304095169 2343        B     \n",
       "2 269        25         1304095119 1304095183 2329        C     \n",
       "3  34        22         1304095127 1304095146 2366        C     \n",
       "4  19        23         1304095127 1304095150 2362        D     \n",
       "5 605        26         1304095127 1304095167 2345        A     \n",
       "6 384        27         1304095131 1304095270 2242        C     "
      ]
     },
     "metadata": {},
     "output_type": "display_data"
    }
   ],
   "source": [
    "mergedData = merge(reviews,solutions,by.x=\"solution_id\",by.y=\"id\",all=TRUE)\n",
    "head(mergedData)"
   ]
  },
  {
   "cell_type": "markdown",
   "metadata": {},
   "source": [
    "### Default - merge all common column names"
   ]
  },
  {
   "cell_type": "code",
   "execution_count": 81,
   "metadata": {},
   "outputs": [
    {
     "data": {
      "text/html": [
       "<ol class=list-inline>\n",
       "\t<li>'id'</li>\n",
       "\t<li>'start'</li>\n",
       "\t<li>'stop'</li>\n",
       "\t<li>'time_left'</li>\n",
       "</ol>\n"
      ],
      "text/latex": [
       "\\begin{enumerate*}\n",
       "\\item 'id'\n",
       "\\item 'start'\n",
       "\\item 'stop'\n",
       "\\item 'time\\_left'\n",
       "\\end{enumerate*}\n"
      ],
      "text/markdown": [
       "1. 'id'\n",
       "2. 'start'\n",
       "3. 'stop'\n",
       "4. 'time_left'\n",
       "\n",
       "\n"
      ],
      "text/plain": [
       "[1] \"id\"        \"start\"     \"stop\"      \"time_left\""
      ]
     },
     "metadata": {},
     "output_type": "display_data"
    },
    {
     "data": {
      "text/html": [
       "<table>\n",
       "<thead><tr><th scope=col>id</th><th scope=col>start</th><th scope=col>stop</th><th scope=col>time_left</th><th scope=col>solution_id</th><th scope=col>reviewer_id</th><th scope=col>accept</th><th scope=col>problem_id</th><th scope=col>subject_id</th><th scope=col>answer</th></tr></thead>\n",
       "<tbody>\n",
       "\t<tr><td>1         </td><td>1304095119</td><td>1304095169</td><td>2343      </td><td>NA        </td><td>NA        </td><td>NA        </td><td>156       </td><td>29        </td><td>B         </td></tr>\n",
       "\t<tr><td>1         </td><td>1304095698</td><td>1304095758</td><td>1754      </td><td> 3        </td><td>27        </td><td> 1        </td><td> NA       </td><td>NA        </td><td>NA        </td></tr>\n",
       "\t<tr><td>2         </td><td>1304095119</td><td>1304095183</td><td>2329      </td><td>NA        </td><td>NA        </td><td>NA        </td><td>269       </td><td>25        </td><td>C         </td></tr>\n",
       "\t<tr><td>2         </td><td>1304095188</td><td>1304095206</td><td>2306      </td><td> 4        </td><td>22        </td><td> 1        </td><td> NA       </td><td>NA        </td><td>NA        </td></tr>\n",
       "\t<tr><td>3         </td><td>1304095127</td><td>1304095146</td><td>2366      </td><td>NA        </td><td>NA        </td><td>NA        </td><td> 34       </td><td>22        </td><td>C         </td></tr>\n",
       "\t<tr><td>3         </td><td>1304095276</td><td>1304095320</td><td>2192      </td><td> 5        </td><td>28        </td><td> 1        </td><td> NA       </td><td>NA        </td><td>NA        </td></tr>\n",
       "</tbody>\n",
       "</table>\n"
      ],
      "text/latex": [
       "\\begin{tabular}{r|llllllllll}\n",
       " id & start & stop & time\\_left & solution\\_id & reviewer\\_id & accept & problem\\_id & subject\\_id & answer\\\\\n",
       "\\hline\n",
       "\t 1          & 1304095119 & 1304095169 & 2343       & NA         & NA         & NA         & 156        & 29         & B         \\\\\n",
       "\t 1          & 1304095698 & 1304095758 & 1754       &  3         & 27         &  1         &  NA        & NA         & NA        \\\\\n",
       "\t 2          & 1304095119 & 1304095183 & 2329       & NA         & NA         & NA         & 269        & 25         & C         \\\\\n",
       "\t 2          & 1304095188 & 1304095206 & 2306       &  4         & 22         &  1         &  NA        & NA         & NA        \\\\\n",
       "\t 3          & 1304095127 & 1304095146 & 2366       & NA         & NA         & NA         &  34        & 22         & C         \\\\\n",
       "\t 3          & 1304095276 & 1304095320 & 2192       &  5         & 28         &  1         &  NA        & NA         & NA        \\\\\n",
       "\\end{tabular}\n"
      ],
      "text/markdown": [
       "\n",
       "| id | start | stop | time_left | solution_id | reviewer_id | accept | problem_id | subject_id | answer |\n",
       "|---|---|---|---|---|---|---|---|---|---|\n",
       "| 1          | 1304095119 | 1304095169 | 2343       | NA         | NA         | NA         | 156        | 29         | B          |\n",
       "| 1          | 1304095698 | 1304095758 | 1754       |  3         | 27         |  1         |  NA        | NA         | NA         |\n",
       "| 2          | 1304095119 | 1304095183 | 2329       | NA         | NA         | NA         | 269        | 25         | C          |\n",
       "| 2          | 1304095188 | 1304095206 | 2306       |  4         | 22         |  1         |  NA        | NA         | NA         |\n",
       "| 3          | 1304095127 | 1304095146 | 2366       | NA         | NA         | NA         |  34        | 22         | C          |\n",
       "| 3          | 1304095276 | 1304095320 | 2192       |  5         | 28         |  1         |  NA        | NA         | NA         |\n",
       "\n"
      ],
      "text/plain": [
       "  id start      stop       time_left solution_id reviewer_id accept problem_id\n",
       "1 1  1304095119 1304095169 2343      NA          NA          NA     156       \n",
       "2 1  1304095698 1304095758 1754       3          27           1      NA       \n",
       "3 2  1304095119 1304095183 2329      NA          NA          NA     269       \n",
       "4 2  1304095188 1304095206 2306       4          22           1      NA       \n",
       "5 3  1304095127 1304095146 2366      NA          NA          NA      34       \n",
       "6 3  1304095276 1304095320 2192       5          28           1      NA       \n",
       "  subject_id answer\n",
       "1 29         B     \n",
       "2 NA         NA    \n",
       "3 25         C     \n",
       "4 NA         NA    \n",
       "5 22         C     \n",
       "6 NA         NA    "
      ]
     },
     "metadata": {},
     "output_type": "display_data"
    }
   ],
   "source": [
    "intersect(names(solutions),names(reviews))\n",
    "mergedData2 = merge(reviews,solutions,all=TRUE)\n",
    "head(mergedData2)"
   ]
  },
  {
   "cell_type": "markdown",
   "metadata": {},
   "source": [
    "### Using join in the plyr package \n",
    "\n",
    "_Faster, but less full featured - defaults to left join, see help file for more_"
   ]
  },
  {
   "cell_type": "code",
   "execution_count": 82,
   "metadata": {},
   "outputs": [
    {
     "name": "stderr",
     "output_type": "stream",
     "text": [
      "Joining by: id\n"
     ]
    },
    {
     "data": {
      "text/html": [
       "<table>\n",
       "<thead><tr><th scope=col>id</th><th scope=col>x</th><th scope=col>y</th></tr></thead>\n",
       "<tbody>\n",
       "\t<tr><td> 1         </td><td>-1.12776022</td><td>-0.2511562 </td></tr>\n",
       "\t<tr><td> 2         </td><td> 0.12237495</td><td>-1.8707042 </td></tr>\n",
       "\t<tr><td> 3         </td><td> 1.15277358</td><td>-0.2262397 </td></tr>\n",
       "\t<tr><td> 4         </td><td> 0.77392390</td><td> 0.2800294 </td></tr>\n",
       "\t<tr><td> 5         </td><td>-0.06356345</td><td> 0.6836208 </td></tr>\n",
       "\t<tr><td> 6         </td><td> 1.20481314</td><td>-0.4803662 </td></tr>\n",
       "\t<tr><td> 7         </td><td> 0.85872874</td><td> 2.1103220 </td></tr>\n",
       "\t<tr><td> 8         </td><td>-1.66200452</td><td>-0.4037880 </td></tr>\n",
       "\t<tr><td> 9         </td><td>-0.33168102</td><td>-1.1575186 </td></tr>\n",
       "\t<tr><td>10         </td><td> 0.22187199</td><td>-2.0727900 </td></tr>\n",
       "</tbody>\n",
       "</table>\n"
      ],
      "text/latex": [
       "\\begin{tabular}{r|lll}\n",
       " id & x & y\\\\\n",
       "\\hline\n",
       "\t  1          & -1.12776022 & -0.2511562 \\\\\n",
       "\t  2          &  0.12237495 & -1.8707042 \\\\\n",
       "\t  3          &  1.15277358 & -0.2262397 \\\\\n",
       "\t  4          &  0.77392390 &  0.2800294 \\\\\n",
       "\t  5          & -0.06356345 &  0.6836208 \\\\\n",
       "\t  6          &  1.20481314 & -0.4803662 \\\\\n",
       "\t  7          &  0.85872874 &  2.1103220 \\\\\n",
       "\t  8          & -1.66200452 & -0.4037880 \\\\\n",
       "\t  9          & -0.33168102 & -1.1575186 \\\\\n",
       "\t 10          &  0.22187199 & -2.0727900 \\\\\n",
       "\\end{tabular}\n"
      ],
      "text/markdown": [
       "\n",
       "| id | x | y |\n",
       "|---|---|---|\n",
       "|  1          | -1.12776022 | -0.2511562  |\n",
       "|  2          |  0.12237495 | -1.8707042  |\n",
       "|  3          |  1.15277358 | -0.2262397  |\n",
       "|  4          |  0.77392390 |  0.2800294  |\n",
       "|  5          | -0.06356345 |  0.6836208  |\n",
       "|  6          |  1.20481314 | -0.4803662  |\n",
       "|  7          |  0.85872874 |  2.1103220  |\n",
       "|  8          | -1.66200452 | -0.4037880  |\n",
       "|  9          | -0.33168102 | -1.1575186  |\n",
       "| 10          |  0.22187199 | -2.0727900  |\n",
       "\n"
      ],
      "text/plain": [
       "   id x           y         \n",
       "1   1 -1.12776022 -0.2511562\n",
       "2   2  0.12237495 -1.8707042\n",
       "3   3  1.15277358 -0.2262397\n",
       "4   4  0.77392390  0.2800294\n",
       "5   5 -0.06356345  0.6836208\n",
       "6   6  1.20481314 -0.4803662\n",
       "7   7  0.85872874  2.1103220\n",
       "8   8 -1.66200452 -0.4037880\n",
       "9   9 -0.33168102 -1.1575186\n",
       "10 10  0.22187199 -2.0727900"
      ]
     },
     "metadata": {},
     "output_type": "display_data"
    }
   ],
   "source": [
    "df1 = data.frame(id=sample(1:10),x=rnorm(10))\n",
    "df2 = data.frame(id=sample(1:10),y=rnorm(10))\n",
    "arrange(join(df1,df2),id)"
   ]
  },
  {
   "cell_type": "markdown",
   "metadata": {},
   "source": [
    "### If you have multiple data frames"
   ]
  },
  {
   "cell_type": "code",
   "execution_count": 83,
   "metadata": {},
   "outputs": [
    {
     "name": "stderr",
     "output_type": "stream",
     "text": [
      "Joining by: id\n",
      "Joining by: id\n"
     ]
    },
    {
     "data": {
      "text/html": [
       "<table>\n",
       "<thead><tr><th scope=col>id</th><th scope=col>x</th><th scope=col>y</th><th scope=col>z</th></tr></thead>\n",
       "<tbody>\n",
       "\t<tr><td> 1          </td><td>-0.3313171  </td><td> 0.095952941</td><td> 0.89247231 </td></tr>\n",
       "\t<tr><td> 8          </td><td> 0.0902374  </td><td> 0.355782558</td><td>-0.04642470 </td></tr>\n",
       "\t<tr><td> 4          </td><td>-1.0156393  </td><td>-0.002788904</td><td>-1.10335279 </td></tr>\n",
       "\t<tr><td>10          </td><td> 1.0728304  </td><td> 0.412972922</td><td> 0.86268372 </td></tr>\n",
       "\t<tr><td> 6          </td><td>-0.2168830  </td><td> 1.846073745</td><td> 1.40645167 </td></tr>\n",
       "\t<tr><td> 9          </td><td>-0.8451512  </td><td> 0.271928758</td><td> 0.03163361 </td></tr>\n",
       "\t<tr><td> 3          </td><td> 0.1696061  </td><td>-0.121032591</td><td>-0.66245901 </td></tr>\n",
       "\t<tr><td> 2          </td><td>-0.5499409  </td><td>-0.644574775</td><td>-0.49926052 </td></tr>\n",
       "\t<tr><td> 5          </td><td>-0.7746011  </td><td> 0.943470973</td><td> 0.40611362 </td></tr>\n",
       "\t<tr><td> 7          </td><td>-0.7813288  </td><td> 1.855544110</td><td>-0.74399529 </td></tr>\n",
       "</tbody>\n",
       "</table>\n"
      ],
      "text/latex": [
       "\\begin{tabular}{r|llll}\n",
       " id & x & y & z\\\\\n",
       "\\hline\n",
       "\t  1           & -0.3313171   &  0.095952941 &  0.89247231 \\\\\n",
       "\t  8           &  0.0902374   &  0.355782558 & -0.04642470 \\\\\n",
       "\t  4           & -1.0156393   & -0.002788904 & -1.10335279 \\\\\n",
       "\t 10           &  1.0728304   &  0.412972922 &  0.86268372 \\\\\n",
       "\t  6           & -0.2168830   &  1.846073745 &  1.40645167 \\\\\n",
       "\t  9           & -0.8451512   &  0.271928758 &  0.03163361 \\\\\n",
       "\t  3           &  0.1696061   & -0.121032591 & -0.66245901 \\\\\n",
       "\t  2           & -0.5499409   & -0.644574775 & -0.49926052 \\\\\n",
       "\t  5           & -0.7746011   &  0.943470973 &  0.40611362 \\\\\n",
       "\t  7           & -0.7813288   &  1.855544110 & -0.74399529 \\\\\n",
       "\\end{tabular}\n"
      ],
      "text/markdown": [
       "\n",
       "| id | x | y | z |\n",
       "|---|---|---|---|\n",
       "|  1           | -0.3313171   |  0.095952941 |  0.89247231  |\n",
       "|  8           |  0.0902374   |  0.355782558 | -0.04642470  |\n",
       "|  4           | -1.0156393   | -0.002788904 | -1.10335279  |\n",
       "| 10           |  1.0728304   |  0.412972922 |  0.86268372  |\n",
       "|  6           | -0.2168830   |  1.846073745 |  1.40645167  |\n",
       "|  9           | -0.8451512   |  0.271928758 |  0.03163361  |\n",
       "|  3           |  0.1696061   | -0.121032591 | -0.66245901  |\n",
       "|  2           | -0.5499409   | -0.644574775 | -0.49926052  |\n",
       "|  5           | -0.7746011   |  0.943470973 |  0.40611362  |\n",
       "|  7           | -0.7813288   |  1.855544110 | -0.74399529  |\n",
       "\n"
      ],
      "text/plain": [
       "   id x          y            z          \n",
       "1   1 -0.3313171  0.095952941  0.89247231\n",
       "2   8  0.0902374  0.355782558 -0.04642470\n",
       "3   4 -1.0156393 -0.002788904 -1.10335279\n",
       "4  10  1.0728304  0.412972922  0.86268372\n",
       "5   6 -0.2168830  1.846073745  1.40645167\n",
       "6   9 -0.8451512  0.271928758  0.03163361\n",
       "7   3  0.1696061 -0.121032591 -0.66245901\n",
       "8   2 -0.5499409 -0.644574775 -0.49926052\n",
       "9   5 -0.7746011  0.943470973  0.40611362\n",
       "10  7 -0.7813288  1.855544110 -0.74399529"
      ]
     },
     "metadata": {},
     "output_type": "display_data"
    }
   ],
   "source": [
    "df1 = data.frame(id=sample(1:10),x=rnorm(10))\n",
    "df2 = data.frame(id=sample(1:10),y=rnorm(10))\n",
    "df3 = data.frame(id=sample(1:10),z=rnorm(10))\n",
    "dfList = list(df1,df2,df3)\n",
    "join_all(dfList)"
   ]
  },
  {
   "cell_type": "markdown",
   "metadata": {},
   "source": [
    "### More on merging data\n",
    "\n",
    "* The quick R data merging page - [http://www.statmethods.net/management/merging.html](http://www.statmethods.net/management/merging.html)\n",
    "* plyr information - [http://plyr.had.co.nz/](http://plyr.had.co.nz/)\n",
    "* Types of joins - [http://en.wikipedia.org/wiki/Join_(SQL)](http://en.wikipedia.org/wiki/Join_(SQL))"
   ]
  },
  {
   "cell_type": "markdown",
   "metadata": {},
   "source": [
    "## Editing text variables"
   ]
  },
  {
   "cell_type": "markdown",
   "metadata": {},
   "source": [
    "### Example - Baltimore camera data\n",
    "\n",
    "<img class=center src=https://raw.githubusercontent.com/DataScienceSpecialization/courses/master/assets/img/03_ObtainingData/cameras.png height=500>\n",
    "\n",
    "[https://data.baltimorecity.gov/Transportation/Baltimore-Fixed-Speed-Cameras/dz54-2aru](https://data.baltimorecity.gov/Transportation/Baltimore-Fixed-Speed-Cameras/dz54-2aru)\n"
   ]
  },
  {
   "cell_type": "markdown",
   "metadata": {},
   "source": [
    "### Fixing character vectors - tolower(), toupper()"
   ]
  },
  {
   "cell_type": "code",
   "execution_count": 84,
   "metadata": {},
   "outputs": [
    {
     "data": {
      "text/html": [
       "<ol class=list-inline>\n",
       "\t<li>'address'</li>\n",
       "\t<li>'direction'</li>\n",
       "\t<li>'street'</li>\n",
       "\t<li>'crossStreet'</li>\n",
       "\t<li>'intersection'</li>\n",
       "\t<li>'Location.1'</li>\n",
       "</ol>\n"
      ],
      "text/latex": [
       "\\begin{enumerate*}\n",
       "\\item 'address'\n",
       "\\item 'direction'\n",
       "\\item 'street'\n",
       "\\item 'crossStreet'\n",
       "\\item 'intersection'\n",
       "\\item 'Location.1'\n",
       "\\end{enumerate*}\n"
      ],
      "text/markdown": [
       "1. 'address'\n",
       "2. 'direction'\n",
       "3. 'street'\n",
       "4. 'crossStreet'\n",
       "5. 'intersection'\n",
       "6. 'Location.1'\n",
       "\n",
       "\n"
      ],
      "text/plain": [
       "[1] \"address\"      \"direction\"    \"street\"       \"crossStreet\"  \"intersection\"\n",
       "[6] \"Location.1\"  "
      ]
     },
     "metadata": {},
     "output_type": "display_data"
    },
    {
     "data": {
      "text/html": [
       "<ol class=list-inline>\n",
       "\t<li>'address'</li>\n",
       "\t<li>'direction'</li>\n",
       "\t<li>'street'</li>\n",
       "\t<li>'crossstreet'</li>\n",
       "\t<li>'intersection'</li>\n",
       "\t<li>'location.1'</li>\n",
       "</ol>\n"
      ],
      "text/latex": [
       "\\begin{enumerate*}\n",
       "\\item 'address'\n",
       "\\item 'direction'\n",
       "\\item 'street'\n",
       "\\item 'crossstreet'\n",
       "\\item 'intersection'\n",
       "\\item 'location.1'\n",
       "\\end{enumerate*}\n"
      ],
      "text/markdown": [
       "1. 'address'\n",
       "2. 'direction'\n",
       "3. 'street'\n",
       "4. 'crossstreet'\n",
       "5. 'intersection'\n",
       "6. 'location.1'\n",
       "\n",
       "\n"
      ],
      "text/plain": [
       "[1] \"address\"      \"direction\"    \"street\"       \"crossstreet\"  \"intersection\"\n",
       "[6] \"location.1\"  "
      ]
     },
     "metadata": {},
     "output_type": "display_data"
    }
   ],
   "source": [
    "if(!file.exists(\"./data\")){dir.create(\"./data\")}\n",
    "fileUrl <- \"https://data.baltimorecity.gov/api/views/dz54-2aru/rows.csv?accessType=DOWNLOAD\"\n",
    "download.file(fileUrl,destfile=\"./data/cameras.csv\",method=\"curl\")\n",
    "cameraData <- read.csv(\"./data/cameras.csv\")\n",
    "names(cameraData)\n",
    "tolower(names(cameraData))"
   ]
  },
  {
   "cell_type": "markdown",
   "metadata": {},
   "source": [
    "### Fixing character vectors - strsplit()\n",
    "\n",
    "* Good for automatically splitting variable names\n",
    "* Important parameters: _x_, _split_"
   ]
  },
  {
   "cell_type": "code",
   "execution_count": 85,
   "metadata": {},
   "outputs": [
    {
     "data": {
      "text/html": [
       "'intersection'"
      ],
      "text/latex": [
       "'intersection'"
      ],
      "text/markdown": [
       "'intersection'"
      ],
      "text/plain": [
       "[1] \"intersection\""
      ]
     },
     "metadata": {},
     "output_type": "display_data"
    },
    {
     "data": {
      "text/html": [
       "<ol class=list-inline>\n",
       "\t<li>'Location'</li>\n",
       "\t<li>'1'</li>\n",
       "</ol>\n"
      ],
      "text/latex": [
       "\\begin{enumerate*}\n",
       "\\item 'Location'\n",
       "\\item '1'\n",
       "\\end{enumerate*}\n"
      ],
      "text/markdown": [
       "1. 'Location'\n",
       "2. '1'\n",
       "\n",
       "\n"
      ],
      "text/plain": [
       "[1] \"Location\" \"1\"       "
      ]
     },
     "metadata": {},
     "output_type": "display_data"
    }
   ],
   "source": [
    "splitNames = strsplit(names(cameraData),\"\\\\.\")\n",
    "splitNames[[5]]\n",
    "splitNames[[6]]"
   ]
  },
  {
   "cell_type": "markdown",
   "metadata": {},
   "source": [
    "### Quick aside - lists\n",
    "\n",
    "[http://www.biostat.jhsph.edu/~ajaffe/lec_winterR/Lecture%203.pdf](http://www.biostat.jhsph.edu/~ajaffe/lec_winterR/Lecture%203.pdf)\n"
   ]
  },
  {
   "cell_type": "code",
   "execution_count": 86,
   "metadata": {},
   "outputs": [
    {
     "data": {
      "text/html": [
       "<dl>\n",
       "\t<dt>$letters</dt>\n",
       "\t\t<dd><ol class=list-inline>\n",
       "\t<li>'A'</li>\n",
       "\t<li>'b'</li>\n",
       "\t<li>'c'</li>\n",
       "</ol>\n",
       "</dd>\n",
       "\t<dt>$numbers</dt>\n",
       "\t\t<dd><ol class=list-inline>\n",
       "\t<li>1</li>\n",
       "\t<li>2</li>\n",
       "\t<li>3</li>\n",
       "</ol>\n",
       "</dd>\n",
       "\t<dt>[[3]]</dt>\n",
       "\t\t<dd><table>\n",
       "<tbody>\n",
       "\t<tr><td>1 </td><td> 6</td><td>11</td><td>16</td><td>21</td></tr>\n",
       "\t<tr><td>2 </td><td> 7</td><td>12</td><td>17</td><td>22</td></tr>\n",
       "\t<tr><td>3 </td><td> 8</td><td>13</td><td>18</td><td>23</td></tr>\n",
       "\t<tr><td>4 </td><td> 9</td><td>14</td><td>19</td><td>24</td></tr>\n",
       "\t<tr><td>5 </td><td>10</td><td>15</td><td>20</td><td>25</td></tr>\n",
       "</tbody>\n",
       "</table>\n",
       "</dd>\n",
       "</dl>\n"
      ],
      "text/latex": [
       "\\begin{description}\n",
       "\\item[\\$letters] \\begin{enumerate*}\n",
       "\\item 'A'\n",
       "\\item 'b'\n",
       "\\item 'c'\n",
       "\\end{enumerate*}\n",
       "\n",
       "\\item[\\$numbers] \\begin{enumerate*}\n",
       "\\item 1\n",
       "\\item 2\n",
       "\\item 3\n",
       "\\end{enumerate*}\n",
       "\n",
       "\\item[{[[3]]}] \\begin{tabular}{lllll}\n",
       "\t 1  &  6 & 11 & 16 & 21\\\\\n",
       "\t 2  &  7 & 12 & 17 & 22\\\\\n",
       "\t 3  &  8 & 13 & 18 & 23\\\\\n",
       "\t 4  &  9 & 14 & 19 & 24\\\\\n",
       "\t 5  & 10 & 15 & 20 & 25\\\\\n",
       "\\end{tabular}\n",
       "\n",
       "\\end{description}\n"
      ],
      "text/markdown": [
       "$letters\n",
       ":   1. 'A'\n",
       "2. 'b'\n",
       "3. 'c'\n",
       "\n",
       "\n",
       "\n",
       "$numbers\n",
       ":   1. 1\n",
       "2. 2\n",
       "3. 3\n",
       "\n",
       "\n",
       "\n",
       "[[3]]\n",
       ":   \n",
       "| 1  |  6 | 11 | 16 | 21 |\n",
       "| 2  |  7 | 12 | 17 | 22 |\n",
       "| 3  |  8 | 13 | 18 | 23 |\n",
       "| 4  |  9 | 14 | 19 | 24 |\n",
       "| 5  | 10 | 15 | 20 | 25 |\n",
       "\n",
       "\n",
       "\n",
       "\n"
      ],
      "text/plain": [
       "$letters\n",
       "[1] \"A\" \"b\" \"c\"\n",
       "\n",
       "$numbers\n",
       "[1] 1 2 3\n",
       "\n",
       "[[3]]\n",
       "     [,1] [,2] [,3] [,4] [,5]\n",
       "[1,]    1    6   11   16   21\n",
       "[2,]    2    7   12   17   22\n",
       "[3,]    3    8   13   18   23\n",
       "[4,]    4    9   14   19   24\n",
       "[5,]    5   10   15   20   25\n"
      ]
     },
     "metadata": {},
     "output_type": "display_data"
    }
   ],
   "source": [
    "mylist <- list(letters = c(\"A\", \"b\", \"c\"), numbers = 1:3, matrix(1:25, ncol = 5))\n",
    "head(mylist)\n"
   ]
  },
  {
   "cell_type": "markdown",
   "metadata": {},
   "source": [
    "### Quick aside - lists\n",
    "\n",
    "[http://www.biostat.jhsph.edu/~ajaffe/lec_winterR/Lecture%203.pdf](http://www.biostat.jhsph.edu/~ajaffe/lec_winterR/Lecture%203.pdf)\n"
   ]
  },
  {
   "cell_type": "code",
   "execution_count": 87,
   "metadata": {},
   "outputs": [
    {
     "data": {
      "text/html": [
       "<strong>$letters</strong> = <ol class=list-inline>\n",
       "\t<li>'A'</li>\n",
       "\t<li>'b'</li>\n",
       "\t<li>'c'</li>\n",
       "</ol>\n"
      ],
      "text/latex": [
       "\\textbf{\\$letters} = \\begin{enumerate*}\n",
       "\\item 'A'\n",
       "\\item 'b'\n",
       "\\item 'c'\n",
       "\\end{enumerate*}\n"
      ],
      "text/markdown": [
       "**$letters** = 1. 'A'\n",
       "2. 'b'\n",
       "3. 'c'\n",
       "\n",
       "\n"
      ],
      "text/plain": [
       "$letters\n",
       "[1] \"A\" \"b\" \"c\"\n"
      ]
     },
     "metadata": {},
     "output_type": "display_data"
    },
    {
     "data": {
      "text/html": [
       "<ol class=list-inline>\n",
       "\t<li>'A'</li>\n",
       "\t<li>'b'</li>\n",
       "\t<li>'c'</li>\n",
       "</ol>\n"
      ],
      "text/latex": [
       "\\begin{enumerate*}\n",
       "\\item 'A'\n",
       "\\item 'b'\n",
       "\\item 'c'\n",
       "\\end{enumerate*}\n"
      ],
      "text/markdown": [
       "1. 'A'\n",
       "2. 'b'\n",
       "3. 'c'\n",
       "\n",
       "\n"
      ],
      "text/plain": [
       "[1] \"A\" \"b\" \"c\""
      ]
     },
     "metadata": {},
     "output_type": "display_data"
    },
    {
     "data": {
      "text/html": [
       "<ol class=list-inline>\n",
       "\t<li>'A'</li>\n",
       "\t<li>'b'</li>\n",
       "\t<li>'c'</li>\n",
       "</ol>\n"
      ],
      "text/latex": [
       "\\begin{enumerate*}\n",
       "\\item 'A'\n",
       "\\item 'b'\n",
       "\\item 'c'\n",
       "\\end{enumerate*}\n"
      ],
      "text/markdown": [
       "1. 'A'\n",
       "2. 'b'\n",
       "3. 'c'\n",
       "\n",
       "\n"
      ],
      "text/plain": [
       "[1] \"A\" \"b\" \"c\""
      ]
     },
     "metadata": {},
     "output_type": "display_data"
    }
   ],
   "source": [
    "mylist[1]\n",
    "mylist$letters\n",
    "mylist[[1]]\n"
   ]
  },
  {
   "cell_type": "markdown",
   "metadata": {},
   "source": [
    "### Fixing character vectors - sapply()\n",
    "\n",
    "* Applies a function to each element in a vector or list\n",
    "* Important parameters: _X_,_FUN_"
   ]
  },
  {
   "cell_type": "code",
   "execution_count": 88,
   "metadata": {},
   "outputs": [
    {
     "data": {
      "text/html": [
       "'Location'"
      ],
      "text/latex": [
       "'Location'"
      ],
      "text/markdown": [
       "'Location'"
      ],
      "text/plain": [
       "[1] \"Location\""
      ]
     },
     "metadata": {},
     "output_type": "display_data"
    },
    {
     "data": {
      "text/html": [
       "<ol class=list-inline>\n",
       "\t<li>'address'</li>\n",
       "\t<li>'direction'</li>\n",
       "\t<li>'street'</li>\n",
       "\t<li>'crossStreet'</li>\n",
       "\t<li>'intersection'</li>\n",
       "\t<li>'Location'</li>\n",
       "</ol>\n"
      ],
      "text/latex": [
       "\\begin{enumerate*}\n",
       "\\item 'address'\n",
       "\\item 'direction'\n",
       "\\item 'street'\n",
       "\\item 'crossStreet'\n",
       "\\item 'intersection'\n",
       "\\item 'Location'\n",
       "\\end{enumerate*}\n"
      ],
      "text/markdown": [
       "1. 'address'\n",
       "2. 'direction'\n",
       "3. 'street'\n",
       "4. 'crossStreet'\n",
       "5. 'intersection'\n",
       "6. 'Location'\n",
       "\n",
       "\n"
      ],
      "text/plain": [
       "[1] \"address\"      \"direction\"    \"street\"       \"crossStreet\"  \"intersection\"\n",
       "[6] \"Location\"    "
      ]
     },
     "metadata": {},
     "output_type": "display_data"
    }
   ],
   "source": [
    "splitNames[[6]][1]\n",
    "firstElement <- function(x){x[1]}\n",
    "sapply(splitNames,firstElement)"
   ]
  },
  {
   "cell_type": "markdown",
   "metadata": {},
   "source": [
    "### Peer review experiment data\n",
    "\n",
    "\n",
    "<img class=center src=\"https://raw.githubusercontent.com/DataScienceSpecialization/courses/master/assets/img/03_ObtainingData/cooperation.png\" height=500 />\n",
    "\n",
    "\n",
    "[http://www.plosone.org/article/info:doi/10.1371/journal.pone.0026895](http://www.plosone.org/article/info:doi/10.1371/journal.pone.0026895)\n"
   ]
  },
  {
   "cell_type": "markdown",
   "metadata": {},
   "source": [
    "### Fixing character vectors - sub()\n",
    "\n",
    "* Important parameters: _pattern_, _replacement_, _x_"
   ]
  },
  {
   "cell_type": "code",
   "execution_count": 89,
   "metadata": {},
   "outputs": [
    {
     "data": {
      "text/html": [
       "<ol class=list-inline>\n",
       "\t<li>'id'</li>\n",
       "\t<li>'solution_id'</li>\n",
       "\t<li>'reviewer_id'</li>\n",
       "\t<li>'start'</li>\n",
       "\t<li>'stop'</li>\n",
       "\t<li>'time_left'</li>\n",
       "\t<li>'accept'</li>\n",
       "</ol>\n"
      ],
      "text/latex": [
       "\\begin{enumerate*}\n",
       "\\item 'id'\n",
       "\\item 'solution\\_id'\n",
       "\\item 'reviewer\\_id'\n",
       "\\item 'start'\n",
       "\\item 'stop'\n",
       "\\item 'time\\_left'\n",
       "\\item 'accept'\n",
       "\\end{enumerate*}\n"
      ],
      "text/markdown": [
       "1. 'id'\n",
       "2. 'solution_id'\n",
       "3. 'reviewer_id'\n",
       "4. 'start'\n",
       "5. 'stop'\n",
       "6. 'time_left'\n",
       "7. 'accept'\n",
       "\n",
       "\n"
      ],
      "text/plain": [
       "[1] \"id\"          \"solution_id\" \"reviewer_id\" \"start\"       \"stop\"       \n",
       "[6] \"time_left\"   \"accept\"     "
      ]
     },
     "metadata": {},
     "output_type": "display_data"
    },
    {
     "data": {
      "text/html": [
       "<ol class=list-inline>\n",
       "\t<li>'id'</li>\n",
       "\t<li>'solutionid'</li>\n",
       "\t<li>'reviewerid'</li>\n",
       "\t<li>'start'</li>\n",
       "\t<li>'stop'</li>\n",
       "\t<li>'timeleft'</li>\n",
       "\t<li>'accept'</li>\n",
       "</ol>\n"
      ],
      "text/latex": [
       "\\begin{enumerate*}\n",
       "\\item 'id'\n",
       "\\item 'solutionid'\n",
       "\\item 'reviewerid'\n",
       "\\item 'start'\n",
       "\\item 'stop'\n",
       "\\item 'timeleft'\n",
       "\\item 'accept'\n",
       "\\end{enumerate*}\n"
      ],
      "text/markdown": [
       "1. 'id'\n",
       "2. 'solutionid'\n",
       "3. 'reviewerid'\n",
       "4. 'start'\n",
       "5. 'stop'\n",
       "6. 'timeleft'\n",
       "7. 'accept'\n",
       "\n",
       "\n"
      ],
      "text/plain": [
       "[1] \"id\"         \"solutionid\" \"reviewerid\" \"start\"      \"stop\"      \n",
       "[6] \"timeleft\"   \"accept\"    "
      ]
     },
     "metadata": {},
     "output_type": "display_data"
    }
   ],
   "source": [
    "names(reviews)\n",
    "sub(\"_\",\"\",names(reviews),)"
   ]
  },
  {
   "cell_type": "markdown",
   "metadata": {},
   "source": [
    "### Fixing character vectors - gsub()"
   ]
  },
  {
   "cell_type": "code",
   "execution_count": 90,
   "metadata": {},
   "outputs": [
    {
     "data": {
      "text/html": [
       "'thisis_a_test'"
      ],
      "text/latex": [
       "'thisis\\_a\\_test'"
      ],
      "text/markdown": [
       "'thisis_a_test'"
      ],
      "text/plain": [
       "[1] \"thisis_a_test\""
      ]
     },
     "metadata": {},
     "output_type": "display_data"
    },
    {
     "data": {
      "text/html": [
       "'thisisatest'"
      ],
      "text/latex": [
       "'thisisatest'"
      ],
      "text/markdown": [
       "'thisisatest'"
      ],
      "text/plain": [
       "[1] \"thisisatest\""
      ]
     },
     "metadata": {},
     "output_type": "display_data"
    }
   ],
   "source": [
    "testName <- \"this_is_a_test\"\n",
    "sub(\"_\",\"\",testName)\n",
    "gsub(\"_\",\"\",testName)"
   ]
  },
  {
   "cell_type": "markdown",
   "metadata": {},
   "source": [
    "### Finding values - grep(),grepl()"
   ]
  },
  {
   "cell_type": "code",
   "execution_count": 91,
   "metadata": {},
   "outputs": [
    {
     "data": {
      "text/html": [
       "<ol class=list-inline>\n",
       "\t<li>4</li>\n",
       "\t<li>5</li>\n",
       "\t<li>36</li>\n",
       "</ol>\n"
      ],
      "text/latex": [
       "\\begin{enumerate*}\n",
       "\\item 4\n",
       "\\item 5\n",
       "\\item 36\n",
       "\\end{enumerate*}\n"
      ],
      "text/markdown": [
       "1. 4\n",
       "2. 5\n",
       "3. 36\n",
       "\n",
       "\n"
      ],
      "text/plain": [
       "[1]  4  5 36"
      ]
     },
     "metadata": {},
     "output_type": "display_data"
    },
    {
     "data": {
      "text/plain": [
       "\n",
       "FALSE  TRUE \n",
       "   77     3 "
      ]
     },
     "metadata": {},
     "output_type": "display_data"
    }
   ],
   "source": [
    "grep(\"Alameda\",cameraData$intersection)\n",
    "table(grepl(\"Alameda\",cameraData$intersection))\n",
    "cameraData2 <- cameraData[!grepl(\"Alameda\",cameraData$intersection),]"
   ]
  },
  {
   "cell_type": "markdown",
   "metadata": {},
   "source": [
    "### More on grep()\n",
    "\n",
    "[http://www.biostat.jhsph.edu/~ajaffe/lec_winterR/Lecture%203.pdf](http://www.biostat.jhsph.edu/~ajaffe/lec_winterR/Lecture%203.pdf)\n",
    "\n"
   ]
  },
  {
   "cell_type": "code",
   "execution_count": 93,
   "metadata": {},
   "outputs": [
    {
     "data": {
      "text/html": [
       "<ol class=list-inline>\n",
       "\t<li><span style=white-space:pre-wrap>'The Alameda  &amp; 33rd St'</span></li>\n",
       "\t<li><span style=white-space:pre-wrap>'E 33rd  &amp; The Alameda'</span></li>\n",
       "\t<li>'Harford \\n &amp; The Alameda'</li>\n",
       "</ol>\n"
      ],
      "text/latex": [
       "\\begin{enumerate*}\n",
       "\\item 'The Alameda  \\& 33rd St'\n",
       "\\item 'E 33rd  \\& The Alameda'\n",
       "\\item 'Harford \\textbackslash{}n \\& The Alameda'\n",
       "\\end{enumerate*}\n"
      ],
      "text/markdown": [
       "1. <span style=white-space:pre-wrap>'The Alameda  &amp; 33rd St'</span>\n",
       "2. <span style=white-space:pre-wrap>'E 33rd  &amp; The Alameda'</span>\n",
       "3. 'Harford \\n &amp; The Alameda'\n",
       "\n",
       "\n"
      ],
      "text/plain": [
       "[1] \"The Alameda  & 33rd St\"   \"E 33rd  & The Alameda\"   \n",
       "[3] \"Harford \\n & The Alameda\""
      ]
     },
     "metadata": {},
     "output_type": "display_data"
    },
    {
     "data": {
      "text/html": [],
      "text/latex": [],
      "text/markdown": [],
      "text/plain": [
       "integer(0)"
      ]
     },
     "metadata": {},
     "output_type": "display_data"
    },
    {
     "data": {
      "text/html": [
       "0"
      ],
      "text/latex": [
       "0"
      ],
      "text/markdown": [
       "0"
      ],
      "text/plain": [
       "[1] 0"
      ]
     },
     "metadata": {},
     "output_type": "display_data"
    }
   ],
   "source": [
    "grep(\"Alameda\",cameraData$intersection,value=TRUE)\n",
    "grep(\"JeffStreet\",cameraData$intersection)\n",
    "length(grep(\"JeffStreet\",cameraData$intersection))"
   ]
  },
  {
   "cell_type": "markdown",
   "metadata": {},
   "source": [
    "### More useful string functions\n"
   ]
  },
  {
   "cell_type": "code",
   "execution_count": 94,
   "metadata": {},
   "outputs": [
    {
     "data": {
      "text/html": [
       "12"
      ],
      "text/latex": [
       "12"
      ],
      "text/markdown": [
       "12"
      ],
      "text/plain": [
       "[1] 12"
      ]
     },
     "metadata": {},
     "output_type": "display_data"
    },
    {
     "data": {
      "text/html": [
       "'Jeffrey'"
      ],
      "text/latex": [
       "'Jeffrey'"
      ],
      "text/markdown": [
       "'Jeffrey'"
      ],
      "text/plain": [
       "[1] \"Jeffrey\""
      ]
     },
     "metadata": {},
     "output_type": "display_data"
    },
    {
     "data": {
      "text/html": [
       "'Jeffrey Leek'"
      ],
      "text/latex": [
       "'Jeffrey Leek'"
      ],
      "text/markdown": [
       "'Jeffrey Leek'"
      ],
      "text/plain": [
       "[1] \"Jeffrey Leek\""
      ]
     },
     "metadata": {},
     "output_type": "display_data"
    }
   ],
   "source": [
    "library(stringr)\n",
    "nchar(\"Jeffrey Leek\")\n",
    "substr(\"Jeffrey Leek\",1,7)\n",
    "paste(\"Jeffrey\",\"Leek\")"
   ]
  },
  {
   "cell_type": "markdown",
   "metadata": {},
   "source": [
    "### More useful string functions"
   ]
  },
  {
   "cell_type": "code",
   "execution_count": 95,
   "metadata": {},
   "outputs": [
    {
     "data": {
      "text/html": [
       "'JeffreyLeek'"
      ],
      "text/latex": [
       "'JeffreyLeek'"
      ],
      "text/markdown": [
       "'JeffreyLeek'"
      ],
      "text/plain": [
       "[1] \"JeffreyLeek\""
      ]
     },
     "metadata": {},
     "output_type": "display_data"
    },
    {
     "data": {
      "text/html": [
       "'Jeff'"
      ],
      "text/latex": [
       "'Jeff'"
      ],
      "text/markdown": [
       "'Jeff'"
      ],
      "text/plain": [
       "[1] \"Jeff\""
      ]
     },
     "metadata": {},
     "output_type": "display_data"
    }
   ],
   "source": [
    "paste0(\"Jeffrey\",\"Leek\")\n",
    "str_trim(\"Jeff      \")"
   ]
  },
  {
   "cell_type": "markdown",
   "metadata": {},
   "source": [
    "### Important points about text in data sets\n",
    "\n",
    "* Names of variables should be \n",
    "  * All lower case when possible\n",
    "  * Descriptive (Diagnosis versus Dx)\n",
    "  * Not duplicated\n",
    "  * Not have underscores or dots or white spaces\n",
    "* Variables with character values\n",
    "  * Should usually be made into factor variables (depends on application)\n",
    "  * Should be descriptive (use TRUE/FALSE instead of 0/1 and Male/Female versus 0/1 or M/F)"
   ]
  },
  {
   "cell_type": "markdown",
   "metadata": {},
   "source": [
    "## Regular expressions"
   ]
  },
  {
   "cell_type": "markdown",
   "metadata": {},
   "source": [
    "### Regular expressions\n",
    "\n",
    "- Regular expressions can be thought of as a combination of literals and _metacharacters_\n",
    "- To draw an analogy with natural language, think of literal text forming the words of this language, and the metacharacters defining its grammar\n",
    "- Regular expressions have a rich set of metacharacters\n"
   ]
  },
  {
   "cell_type": "markdown",
   "metadata": {},
   "source": [
    "### Literals\n",
    "\n",
    "Simplest pattern consists only of literals. The literal “nuclear” would match to the following lines:\n",
    "\n",
    "```markdown\n",
    "Ooh. I just learned that to keep myself alive after a\n",
    "nuclear blast! All I have to do is milk some rats\n",
    "then drink the milk. Aweosme. :}\n",
    "\n",
    "Laozi says nuclear weapons are mas macho\n",
    "\n",
    "Chaos in a country that has nuclear weapons -- not good.\n",
    "\n",
    "my nephew is trying to teach me nuclear physics, or\n",
    "possibly just trying to show me how smart he is\n",
    "so I’ll be proud of him [which I am].\n",
    "\n",
    "lol if you ever say \"nuclear\" people immediately think\n",
    "DEATH by radiation LOL\n",
    "```"
   ]
  },
  {
   "cell_type": "markdown",
   "metadata": {},
   "source": [
    "### Literals\n",
    "\n",
    "The literal “Obama” would match to the following lines\n",
    "\n",
    "```markdown\n",
    "Politics r dum. Not 2 long ago Clinton was sayin Obama\n",
    "was crap n now she sez vote 4 him n unite? WTF?\n",
    "Screw em both + Mcain. Go Ron Paul!\n",
    "\n",
    "Clinton conceeds to Obama but will her followers listen??\n",
    "\n",
    "Are we sure Chelsea didn’t vote for Obama?\n",
    "\n",
    "thinking ... Michelle Obama is terrific!\n",
    "\n",
    "jetlag..no sleep...early mornig to starbux..Ms. Obama\n",
    "was moving\n",
    "```"
   ]
  },
  {
   "cell_type": "markdown",
   "metadata": {},
   "source": [
    "### Regular Expressions\n",
    "\n",
    "- Simplest pattern consists only of literals; a match occurs if the sequence of literals occurs anywhere in the text being tested\n",
    "\n",
    "- What if we only want the word “Obama”? or sentences that end in the word “Clinton”, or “clinton” or “clinto”?\n"
   ]
  },
  {
   "cell_type": "markdown",
   "metadata": {},
   "source": [
    "### Regular Expressions\n",
    "\n",
    "We need a way to express \n",
    "- whitespace word boundaries \n",
    "- sets of literals\n",
    "- the beginning and end of a line \n",
    "- alternatives (“war” or “peace”)\n",
    "Metacharacters to the rescue!"
   ]
  },
  {
   "cell_type": "markdown",
   "metadata": {},
   "source": [
    "### Metacharacters\n",
    "\n",
    "Some metacharacters represent the start of a line\n",
    "\n",
    "```markdown\n",
    "^i think\n",
    "```"
   ]
  },
  {
   "cell_type": "markdown",
   "metadata": {},
   "source": [
    "will match the lines\n",
    "\n",
    "```markdown\n",
    "i think we all rule for participating\n",
    "i think i have been outed\n",
    "i think this will be quite fun actually\n",
    "i think i need to go to work\n",
    "i think i first saw zombo in 1999.\n",
    "```"
   ]
  },
  {
   "cell_type": "markdown",
   "metadata": {},
   "source": [
    "### Metacharacters\n",
    "\n",
    "$ represents the end of a line\n",
    "\n",
    "```markdown\n",
    "morning$\n",
    "```\n",
    "\n",
    "will match the lines\n",
    "\n",
    "```markdown\n",
    "well they had something this morning\n",
    "then had to catch a tram home in the morning\n",
    "dog obedience school in the morning\n",
    "and yes happy birthday i forgot to say it earlier this morning\n",
    "I walked in the rain this morning\n",
    "good morning\n",
    "```"
   ]
  },
  {
   "cell_type": "markdown",
   "metadata": {},
   "source": [
    "### Character Classes with []\n",
    "\n",
    "We can list a set of characters we will accept at a given point in the match\n",
    "\n",
    "```markdown\n",
    "[Bb][Uu][Ss][Hh]\n",
    "```\n",
    "\n",
    "will match the lines\n",
    "\n",
    "```markdown\n",
    "The democrats are playing, \"Name the worst thing about Bush!\"\n",
    "I smelled the desert creosote bush, brownies, BBQ chicken\n",
    "BBQ and bushwalking at Molonglo Gorge\n",
    "Bush TOLD you that North Korea is part of the Axis of Evil\n",
    "I’m listening to Bush - Hurricane (Album Version)\n",
    "```"
   ]
  },
  {
   "cell_type": "markdown",
   "metadata": {},
   "source": [
    "### Character Classes with []\n",
    "\n",
    "```markdown\n",
    "^[Ii] am\n",
    "```\n",
    "\n",
    "will match\n",
    "\n",
    "```markdown\n",
    "i am so angry at my boyfriend i can’t even bear to\n",
    "look at him\n",
    "\n",
    "i am boycotting the apple store\n",
    "\n",
    "I am twittering from iPhone\n",
    "\n",
    "I am a very vengeful person when you ruin my sweetheart.\n",
    "\n",
    "I am so over this. I need food. Mmmm bacon...\n",
    "```"
   ]
  },
  {
   "cell_type": "markdown",
   "metadata": {},
   "source": [
    "### Character Classes with []\n",
    "\n",
    "Similarly, you can specify a range of letters [a-z] or [a-zA-Z]; notice that the order doesn’t matter\n",
    "\n",
    "```markdown\n",
    "^[0-9][a-zA-Z]\n",
    "```\n",
    "\n",
    "will match the lines\n",
    "\n",
    "```markdown\n",
    "7th inning stretch\n",
    "2nd half soon to begin. OSU did just win something\n",
    "3am - cant sleep - too hot still.. :(\n",
    "5ft 7 sent from heaven\n",
    "1st sign of starvagtion\n",
    "```"
   ]
  },
  {
   "cell_type": "markdown",
   "metadata": {},
   "source": [
    "### Character Classes with []\n",
    "\n",
    "When used at the beginning of a character class, the “\\^” is also a metacharacter and indicates matching characters NOT in the indicated class\n",
    "\n",
    "```markdown\n",
    "[^?.]$\n",
    "```\n",
    "\n",
    "will match the lines\n",
    "\n",
    "```markdown\n",
    "i like basketballs\n",
    "6 and 9\n",
    "dont worry... we all die anyway!\n",
    "Not in Baghdad\n",
    "helicopter under water? hmmm\n",
    "```\n"
   ]
  },
  {
   "cell_type": "markdown",
   "metadata": {},
   "source": [
    "## Regular expressions II"
   ]
  },
  {
   "cell_type": "markdown",
   "metadata": {},
   "source": [
    "### More Metacharacters\n",
    "\n",
    "“.” is used to refer to any character. So\n",
    "\n",
    "```markdown\n",
    "9.11\n",
    "```\n",
    "\n",
    "will match the lines\n",
    "\n",
    "```markdown\n",
    "its stupid the post 9-11 rules\n",
    "if any 1 of us did 9/11 we would have been caught in days.\n",
    "NetBios: scanning ip 203.169.114.66\n",
    "Front Door 9:11:46 AM\n",
    "Sings: 0118999881999119725...3 !\n",
    "```"
   ]
  },
  {
   "cell_type": "markdown",
   "metadata": {},
   "source": [
    "### More Metacharacters: |\n",
    "\n",
    "This does not mean “pipe” in the context of regular expressions; instead it translates to “or”; we can use it to combine two expressions, the subexpressions being called alternatives\n",
    "\n",
    "```markdown\n",
    "flood|fire\n",
    "```\n",
    "\n",
    "will match the lines\n",
    "\n",
    "```markdown\n",
    "is firewire like usb on none macs?\n",
    "the global flood makes sense within the context of the bible\n",
    "yeah ive had the fire on tonight\n",
    "... and the floods, hurricanes, killer heatwaves, rednecks, gun nuts, etc.\n",
    "￼\n",
    "```\n"
   ]
  },
  {
   "cell_type": "markdown",
   "metadata": {},
   "source": [
    "### More Metacharacters: |\n",
    "\n",
    "We can include any number of alternatives...\n",
    "\n",
    "```markdown\n",
    "flood|earthquake|hurricane|coldfire\n",
    "```\n",
    "\n",
    "will match the lines\n",
    "\n",
    "```markdown\n",
    "Not a whole lot of hurricanes in the Arctic.\n",
    "We do have earthquakes nearly every day somewhere in our State\n",
    "hurricanes swirl in the other direction\n",
    "coldfire is STRAIGHT!\n",
    "’cause we keep getting earthquakes\n",
    "```"
   ]
  },
  {
   "cell_type": "markdown",
   "metadata": {},
   "source": [
    "### More Metacharacters: |\n",
    "\n",
    "The alternatives can be real expressions and not just literals\n",
    "\n",
    "```markdown\n",
    "^[Gg]ood|[Bb]ad\n",
    "```\n",
    "\n",
    "will match the lines\n",
    "\n",
    "```markdown\n",
    "good to hear some good knews from someone here\n",
    "Good afternoon fellow american infidels!\n",
    "good on you-what do you drive?\n",
    "Katie... guess they had bad experiences...\n",
    "my middle name is trouble, Miss Bad News\n",
    "```"
   ]
  },
  {
   "cell_type": "markdown",
   "metadata": {},
   "source": [
    "### More Metacharacters: ( and )\n",
    "\n",
    "Subexpressions are often contained in parentheses to constrain the alternatives\n",
    "\n",
    "```markdown\n",
    "^([Gg]ood|[Bb]ad)\n",
    "```\n",
    "\n",
    "will match the lines\n",
    "\n",
    "```markdown\n",
    "bad habbit\n",
    "bad coordination today\n",
    "good, becuase there is nothing worse than a man in kinky underwear\n",
    "Badcop, its because people want to use drugs\n",
    "Good Monday Holiday\n",
    "Good riddance to Limey\n",
    "```"
   ]
  },
  {
   "cell_type": "markdown",
   "metadata": {},
   "source": [
    "### More Metacharacters: ?\n",
    "\n",
    "The question mark indicates that the indicated expression is optional\n",
    "\n",
    "```markdown\n",
    "[Gg]eorge( [Ww]\\.)? [Bb]ush\n",
    "```\n",
    "\n",
    "will match the lines\n",
    "\n",
    "```markdown\n",
    "i bet i can spell better than you and george bush combined\n",
    "BBC reported that President George W. Bush claimed God told him to invade I\n",
    "a bird in the hand is worth two george bushes\n",
    "```\n"
   ]
  },
  {
   "cell_type": "markdown",
   "metadata": {},
   "source": [
    "### One thing to note...\n",
    "\n",
    "In the following\n",
    "\n",
    "```markdown\n",
    "[Gg]eorge( [Ww]\\.)? [Bb]ush\n",
    "```\n",
    "\n",
    "we wanted to match a “.” as a literal period; to do that, we had to “escape” the metacharacter, preceding it with a backslash In general, we have to do this for any metacharacter we want to include in our match"
   ]
  },
  {
   "cell_type": "markdown",
   "metadata": {},
   "source": [
    "### More metacharacters: * and +\n",
    "\n",
    "The * and + signs are metacharacters used to indicate repetition; * means “any number, including none, of the item” and + means “at least one of the item”\n",
    "\n",
    "```markdown\n",
    "(.*)\n",
    "```\n",
    "will match the lines\n",
    "```markdown\n",
    "anyone wanna chat? (24, m, germany)\n",
    "hello, 20.m here... ( east area + drives + webcam )\n",
    "(he means older men)\n",
    "()\n",
    "```"
   ]
  },
  {
   "cell_type": "markdown",
   "metadata": {},
   "source": [
    "### More metacharacters: * and +\n",
    "The * and + signs are metacharacters used to indicate repetition; * means “any number, including none, of the item” and + means “at least one of the item”\n",
    "```markdown\n",
    "[0-9]+ (.*)[0-9]+\n",
    "```\n",
    "\n",
    "will match the lines\n",
    "\n",
    "```markdown\n",
    "working as MP here 720 MP battallion, 42nd birgade\n",
    "so say 2 or 3 years at colleage and 4 at uni makes us 23 when and if we fin\n",
    "it went down on several occasions for like, 3 or 4 *days*\n",
    "Mmmm its time 4 me 2 go 2 bed\n",
    "```"
   ]
  },
  {
   "cell_type": "markdown",
   "metadata": {},
   "source": [
    "### More metacharacters: { and }\n",
    "\n",
    "{ and } are referred to as interval quantifiers; the let us specify the minimum and maximum number of matches of an expression\n",
    "\n",
    "```markdown\n",
    "[Bb]ush( +[^ ]+ +){1,5} debate\n",
    "```\n",
    "\n",
    "will match the lines\n",
    "\n",
    "```markdown\n",
    "Bush has historically won all major debates he’s done.\n",
    "in my view, Bush doesn’t need these debates..\n",
    "bush doesn’t need the debates? maybe you are right\n",
    "That’s what Bush supporters are doing about the debate.\n",
    "Felix, I don’t disagree that Bush was poorly prepared for the debate.\n",
    "indeed, but still, Bush should have taken the debate more seriously.\n",
    "Keep repeating that Bush smirked and scowled during the debate\n",
    "```"
   ]
  },
  {
   "cell_type": "markdown",
   "metadata": {},
   "source": [
    "### More metacharacters: and\n",
    "\n",
    "- m,n means at least m but not more than n matches \n",
    "- m means exactly m matches\n",
    "- m, means at least m matches\n"
   ]
  },
  {
   "cell_type": "markdown",
   "metadata": {},
   "source": [
    "### More metacharacters: ( and ) revisited\n",
    "\n",
    "- In most implementations of regular expressions, the parentheses not only limit the scope of alternatives divided by a “|”, but also can be used to “remember” text matched by the subexpression enclosed\n",
    "- We refer to the matched text with \\1, \\2, etc.\n"
   ]
  },
  {
   "cell_type": "markdown",
   "metadata": {},
   "source": [
    "### More metacharacters: ( and ) revisited\n",
    "\n",
    "So the expression\n",
    "\n",
    "```markdown\n",
    "+([a-zA-Z]+) +\\1 +\n",
    "```\n",
    "\n",
    "will match the lines\n",
    "\n",
    "```markdown\n",
    "time for bed, night night twitter!\n",
    "blah blah blah blah\n",
    "my tattoo is so so itchy today\n",
    "i was standing all all alone against the world outside...\n",
    "hi anybody anybody at home\n",
    "estudiando css css css css.... que desastritooooo\n",
    "```\n"
   ]
  },
  {
   "cell_type": "markdown",
   "metadata": {},
   "source": [
    "### More metacharacters: ( and ) revisited\n",
    "\n",
    "The * is “greedy” so it always matches the _longest_ possible string that satisfies the regular expression. So\n",
    "\n",
    "```markdown\n",
    "^s(.*)s\n",
    "```\n",
    "matches\n",
    "```markdown\n",
    "sitting at starbucks\n",
    "setting up mysql and rails\n",
    "studying stuff for the exams\n",
    "spaghetti with marshmallows\n",
    "stop fighting with crackers\n",
    "sore shoulders, stupid ergonomics\n",
    "```"
   ]
  },
  {
   "cell_type": "markdown",
   "metadata": {},
   "source": [
    "### More metacharacters: ( and ) revisited\n",
    "The greediness of * can be turned off with the ?, as in\n",
    "```markdown\n",
    "^s(.*?)s$\n",
    "```\n"
   ]
  },
  {
   "cell_type": "markdown",
   "metadata": {},
   "source": [
    "### Summary\n",
    "\n",
    "- Regular expressions are used in many different languages; not unique to R.\n",
    "- Regular expressions are composed of literals and metacharacters that represent sets or classes of characters/words\n",
    "- Text processing via regular expressions is a very powerful way to extract data from “unfriendly” sources (not all data comes as a CSV file)\n",
    "- Used with the functions `grep`,`grepl`,`sub`,`gsub` and others that involve searching for text strings"
   ]
  },
  {
   "cell_type": "markdown",
   "metadata": {},
   "source": [
    "## Working with dates"
   ]
  },
  {
   "cell_type": "markdown",
   "metadata": {},
   "source": [
    "### Starting simple"
   ]
  },
  {
   "cell_type": "code",
   "execution_count": 96,
   "metadata": {},
   "outputs": [
    {
     "data": {
      "text/html": [
       "<span style=white-space:pre-wrap>'Mon Mar  4 22:48:44 2019'</span>"
      ],
      "text/latex": [
       "'Mon Mar  4 22:48:44 2019'"
      ],
      "text/markdown": [
       "<span style=white-space:pre-wrap>'Mon Mar  4 22:48:44 2019'</span>"
      ],
      "text/plain": [
       "[1] \"Mon Mar  4 22:48:44 2019\""
      ]
     },
     "metadata": {},
     "output_type": "display_data"
    },
    {
     "data": {
      "text/html": [
       "'character'"
      ],
      "text/latex": [
       "'character'"
      ],
      "text/markdown": [
       "'character'"
      ],
      "text/plain": [
       "[1] \"character\""
      ]
     },
     "metadata": {},
     "output_type": "display_data"
    }
   ],
   "source": [
    "d1 = date()\n",
    "d1\n",
    "class(d1)"
   ]
  },
  {
   "cell_type": "markdown",
   "metadata": {},
   "source": [
    "### Date class"
   ]
  },
  {
   "cell_type": "code",
   "execution_count": 97,
   "metadata": {},
   "outputs": [
    {
     "data": {
      "text/html": [
       "<time datetime=\"2019-03-04\">2019-03-04</time>"
      ],
      "text/latex": [
       "2019-03-04"
      ],
      "text/markdown": [
       "2019-03-04"
      ],
      "text/plain": [
       "[1] \"2019-03-04\""
      ]
     },
     "metadata": {},
     "output_type": "display_data"
    },
    {
     "data": {
      "text/html": [
       "'Date'"
      ],
      "text/latex": [
       "'Date'"
      ],
      "text/markdown": [
       "'Date'"
      ],
      "text/plain": [
       "[1] \"Date\""
      ]
     },
     "metadata": {},
     "output_type": "display_data"
    }
   ],
   "source": [
    "d2 = Sys.Date()\n",
    "d2\n",
    "class(d2)\n"
   ]
  },
  {
   "cell_type": "markdown",
   "metadata": {},
   "source": [
    "### Formatting dates\n",
    "\n",
    "`%d` = day as number (0-31), `%a` = abbreviated weekday,`%A` = unabbreviated weekday, `%m` = month (00-12), `%b` = abbreviated month,\n",
    "`%B` = unabbrevidated month, `%y` = 2 digit year, `%Y` = four digit year"
   ]
  },
  {
   "cell_type": "code",
   "execution_count": 98,
   "metadata": {},
   "outputs": [
    {
     "data": {
      "text/html": [
       "'Mon Mar 04'"
      ],
      "text/latex": [
       "'Mon Mar 04'"
      ],
      "text/markdown": [
       "'Mon Mar 04'"
      ],
      "text/plain": [
       "[1] \"Mon Mar 04\""
      ]
     },
     "metadata": {},
     "output_type": "display_data"
    }
   ],
   "source": [
    "format(d2,\"%a %b %d\")\n"
   ]
  },
  {
   "cell_type": "markdown",
   "metadata": {},
   "source": [
    "### Creating dates"
   ]
  },
  {
   "cell_type": "code",
   "execution_count": 99,
   "metadata": {},
   "outputs": [
    {
     "data": {
      "text/html": [
       "<ol class=list-inline>\n",
       "\t<li><time datetime=\"1960-01-01\">1960-01-01</time></li>\n",
       "\t<li><time datetime=\"1960-01-02\">1960-01-02</time></li>\n",
       "\t<li><time datetime=\"1960-03-31\">1960-03-31</time></li>\n",
       "\t<li><time datetime=\"1960-07-30\">1960-07-30</time></li>\n",
       "</ol>\n"
      ],
      "text/latex": [
       "\\begin{enumerate*}\n",
       "\\item 1960-01-01\n",
       "\\item 1960-01-02\n",
       "\\item 1960-03-31\n",
       "\\item 1960-07-30\n",
       "\\end{enumerate*}\n"
      ],
      "text/markdown": [
       "1. 1960-01-01\n",
       "2. 1960-01-02\n",
       "3. 1960-03-31\n",
       "4. 1960-07-30\n",
       "\n",
       "\n"
      ],
      "text/plain": [
       "[1] \"1960-01-01\" \"1960-01-02\" \"1960-03-31\" \"1960-07-30\""
      ]
     },
     "metadata": {},
     "output_type": "display_data"
    },
    {
     "data": {
      "text/plain": [
       "Time difference of -1 days"
      ]
     },
     "metadata": {},
     "output_type": "display_data"
    },
    {
     "data": {
      "text/html": [
       "-1"
      ],
      "text/latex": [
       "-1"
      ],
      "text/markdown": [
       "-1"
      ],
      "text/plain": [
       "[1] -1"
      ]
     },
     "metadata": {},
     "output_type": "display_data"
    }
   ],
   "source": [
    "x = c(\"1jan1960\", \"2jan1960\", \"31mar1960\", \"30jul1960\"); z = as.Date(x, \"%d%b%Y\")\n",
    "z\n",
    "z[1] - z[2]\n",
    "as.numeric(z[1]-z[2])"
   ]
  },
  {
   "cell_type": "markdown",
   "metadata": {},
   "source": [
    "### Converting to Julian "
   ]
  },
  {
   "cell_type": "code",
   "execution_count": 100,
   "metadata": {},
   "outputs": [
    {
     "data": {
      "text/html": [
       "'Monday'"
      ],
      "text/latex": [
       "'Monday'"
      ],
      "text/markdown": [
       "'Monday'"
      ],
      "text/plain": [
       "[1] \"Monday\""
      ]
     },
     "metadata": {},
     "output_type": "display_data"
    },
    {
     "data": {
      "text/html": [
       "'March'"
      ],
      "text/latex": [
       "'March'"
      ],
      "text/markdown": [
       "'March'"
      ],
      "text/plain": [
       "[1] \"March\""
      ]
     },
     "metadata": {},
     "output_type": "display_data"
    },
    {
     "data": {
      "text/html": [
       "17959"
      ],
      "text/latex": [
       "17959"
      ],
      "text/markdown": [
       "17959"
      ],
      "text/plain": [
       "[1] 17959\n",
       "attr(,\"origin\")\n",
       "[1] \"1970-01-01\""
      ]
     },
     "metadata": {},
     "output_type": "display_data"
    }
   ],
   "source": [
    "weekdays(d2)\n",
    "months(d2)\n",
    "julian(d2)"
   ]
  },
  {
   "cell_type": "markdown",
   "metadata": {},
   "source": [
    "### Lubridate \n",
    "\n",
    "[http://www.r-statistics.com/2012/03/do-more-with-dates-and-times-in-r-with-lubridate-1-1-0/](http://www.r-statistics.com/2012/03/do-more-with-dates-and-times-in-r-with-lubridate-1-1-0/)\n"
   ]
  },
  {
   "cell_type": "code",
   "execution_count": 101,
   "metadata": {},
   "outputs": [
    {
     "name": "stderr",
     "output_type": "stream",
     "text": [
      "\n",
      "Attaching package: ‘lubridate’\n",
      "\n",
      "The following object is masked from ‘package:plyr’:\n",
      "\n",
      "    here\n",
      "\n",
      "The following object is masked from ‘package:base’:\n",
      "\n",
      "    date\n",
      "\n"
     ]
    },
    {
     "data": {
      "text/html": [
       "<time datetime=\"2014-01-08\">2014-01-08</time>"
      ],
      "text/latex": [
       "2014-01-08"
      ],
      "text/markdown": [
       "2014-01-08"
      ],
      "text/plain": [
       "[1] \"2014-01-08\""
      ]
     },
     "metadata": {},
     "output_type": "display_data"
    },
    {
     "data": {
      "text/html": [
       "<time datetime=\"2013-08-04\">2013-08-04</time>"
      ],
      "text/latex": [
       "2013-08-04"
      ],
      "text/markdown": [
       "2013-08-04"
      ],
      "text/plain": [
       "[1] \"2013-08-04\""
      ]
     },
     "metadata": {},
     "output_type": "display_data"
    },
    {
     "data": {
      "text/html": [
       "<time datetime=\"2013-04-03\">2013-04-03</time>"
      ],
      "text/latex": [
       "2013-04-03"
      ],
      "text/markdown": [
       "2013-04-03"
      ],
      "text/plain": [
       "[1] \"2013-04-03\""
      ]
     },
     "metadata": {},
     "output_type": "display_data"
    }
   ],
   "source": [
    "library(lubridate); ymd(\"20140108\")\n",
    "mdy(\"08/04/2013\")\n",
    "dmy(\"03-04-2013\")"
   ]
  },
  {
   "cell_type": "markdown",
   "metadata": {},
   "source": [
    "### Dealing with times\n",
    "\n",
    "[http://www.r-statistics.com/2012/03/do-more-with-dates-and-times-in-r-with-lubridate-1-1-0/](http://www.r-statistics.com/2012/03/do-more-with-dates-and-times-in-r-with-lubridate-1-1-0/)\n"
   ]
  },
  {
   "cell_type": "code",
   "execution_count": 102,
   "metadata": {},
   "outputs": [
    {
     "data": {
      "text/plain": [
       "[1] \"2011-08-03 10:15:03 UTC\""
      ]
     },
     "metadata": {},
     "output_type": "display_data"
    },
    {
     "data": {
      "text/plain": [
       "[1] \"2011-08-03 10:15:03 NZST\""
      ]
     },
     "metadata": {},
     "output_type": "display_data"
    }
   ],
   "source": [
    "ymd_hms(\"2011-08-03 10:15:03\")\n",
    "ymd_hms(\"2011-08-03 10:15:03\",tz=\"Pacific/Auckland\")\n",
    "?Sys.timezone"
   ]
  },
  {
   "cell_type": "markdown",
   "metadata": {},
   "source": [
    "### Some functions have slightly different syntax"
   ]
  },
  {
   "cell_type": "code",
   "execution_count": 103,
   "metadata": {},
   "outputs": [
    {
     "data": {
      "text/html": [
       "3"
      ],
      "text/latex": [
       "3"
      ],
      "text/markdown": [
       "3"
      ],
      "text/plain": [
       "[1] 3"
      ]
     },
     "metadata": {},
     "output_type": "display_data"
    },
    {
     "data": {
      "text/html": [
       "Tue\n",
       "<details>\n",
       "\t<summary style=display:list-item;cursor:pointer>\n",
       "\t\t<strong>Levels</strong>:\n",
       "\t</summary>\n",
       "\t<ol class=list-inline>\n",
       "\t\t<li>'Sun'</li>\n",
       "\t\t<li>'Mon'</li>\n",
       "\t\t<li>'Tue'</li>\n",
       "\t\t<li>'Wed'</li>\n",
       "\t\t<li>'Thu'</li>\n",
       "\t\t<li>'Fri'</li>\n",
       "\t\t<li>'Sat'</li>\n",
       "\t</ol>\n",
       "</details>"
      ],
      "text/latex": [
       "Tue\n",
       "\\emph{Levels}: \\begin{enumerate*}\n",
       "\\item 'Sun'\n",
       "\\item 'Mon'\n",
       "\\item 'Tue'\n",
       "\\item 'Wed'\n",
       "\\item 'Thu'\n",
       "\\item 'Fri'\n",
       "\\item 'Sat'\n",
       "\\end{enumerate*}\n"
      ],
      "text/markdown": [
       "Tue\n",
       "**Levels**: 1. 'Sun'\n",
       "2. 'Mon'\n",
       "3. 'Tue'\n",
       "4. 'Wed'\n",
       "5. 'Thu'\n",
       "6. 'Fri'\n",
       "7. 'Sat'\n",
       "\n",
       "\n"
      ],
      "text/plain": [
       "[1] Tue\n",
       "Levels: Sun < Mon < Tue < Wed < Thu < Fri < Sat"
      ]
     },
     "metadata": {},
     "output_type": "display_data"
    }
   ],
   "source": [
    "x = dmy(c(\"1jan2013\", \"2jan2013\", \"31mar2013\", \"30jul2013\"))\n",
    "wday(x[1])\n",
    "wday(x[1],label=TRUE)\n"
   ]
  },
  {
   "cell_type": "markdown",
   "metadata": {},
   "source": [
    "### Notes and further resources\n",
    "\n",
    "* More information in this nice lubridate tutorial [http://www.r-statistics.com/2012/03/do-more-with-dates-and-times-in-r-with-lubridate-1-1-0/](http://www.r-statistics.com/2012/03/do-more-with-dates-and-times-in-r-with-lubridate-1-1-0/)\n",
    "* The lubridate vignette is the same content [http://cran.r-project.org/web/packages/lubridate/vignettes/lubridate.html](http://cran.r-project.org/web/packages/lubridate/vignettes/lubridate.html)\n",
    "* Ultimately you want your dates and times as class \"Date\" or the classes \"POSIXct\", \"POSIXlt\". For more information type `?POSIXlt`"
   ]
  },
  {
   "cell_type": "markdown",
   "metadata": {},
   "source": [
    "## Data resources"
   ]
  },
  {
   "cell_type": "markdown",
   "metadata": {},
   "source": [
    "### Open Government Sites\n",
    "\n",
    "* United Nations [http://data.un.org/](http://data.un.org/)\n",
    "* U.S. [http://www.data.gov/](http://www.data.gov/)\n",
    "  * [List of cities/states with open data](http://simplystatistics.org/2012/01/02/list-of-cities-states-with-open-data-help-me-find/)\n",
    "* United Kingdom [http://data.gov.uk/](http://data.gov.uk/)\n",
    "* France [http://www.data.gouv.fr/](http://www.data.gouv.fr/)\n",
    "* Ghana [http://data.gov.gh/](http://data.gov.gh/)\n",
    "* Australia [http://data.gov.au/](http://data.gov.au/)\n",
    "* Germany [https://www.govdata.de/](https://www.govdata.de/) \n",
    "* Hong Kong [http://www.gov.hk/en/theme/psi/datasets/](http://www.gov.hk/en/theme/psi/datasets/)\n",
    "* Japan [http://www.data.go.jp/](http://www.data.go.jp/)\n",
    "* Many more [http://www.data.gov/opendatasites](http://www.data.gov/opendatasites)\n"
   ]
  },
  {
   "cell_type": "markdown",
   "metadata": {},
   "source": [
    "### Gapminder\n",
    "\n",
    "<img class=center src=https://raw.githubusercontent.com/DataScienceSpecialization/courses/master/assets/img/03_ObtainingData/gapminder.png height=400/>\n",
    "\n",
    "[http://www.gapminder.org/](http://www.gapminder.org/)\n"
   ]
  },
  {
   "cell_type": "markdown",
   "metadata": {},
   "source": [
    "### Survey data from the United States\n",
    "\n",
    "<img class=center src=https://raw.githubusercontent.com/DataScienceSpecialization/courses/master/assets/img/03_ObtainingData/asdfree.png height=400/>\n",
    "\n",
    "[http://www.asdfree.com/](http://www.asdfree.com/)"
   ]
  },
  {
   "cell_type": "markdown",
   "metadata": {},
   "source": [
    "### Infochimps Marketplace\n",
    "\n",
    "<img class=center src=https://raw.githubusercontent.com/DataScienceSpecialization/courses/master/assets/img/03_ObtainingData/infochimps.png height=400/>\n",
    "\n",
    "[http://www.infochimps.com/marketplace](http://www.infochimps.com/marketplace)\n"
   ]
  },
  {
   "cell_type": "markdown",
   "metadata": {},
   "source": [
    "### Kaggle\n",
    "\n",
    "<img class=center src=https://raw.githubusercontent.com/DataScienceSpecialization/courses/master/assets/img/03_ObtainingData/kaggle.png  height=400 />\n",
    "\n",
    "[http://www.kaggle.com/](http://www.kaggle.com/)\n"
   ]
  },
  {
   "cell_type": "markdown",
   "metadata": {},
   "source": [
    "### Collections by data scientists\n",
    "\n",
    "* Hilary Mason http://bitly.com/bundles/hmason/1\n",
    "* Peter Skomoroch https://delicious.com/pskomoroch/dataset\n",
    "* Jeff Hammerbacher http://www.quora.com/Jeff-Hammerbacher/Introduction-to-Data-Science-Data-Sets\n",
    "* Gregory Piatetsky-Shapiro http://www.kdnuggets.com/gps.html\n",
    "* [http://blog.mortardata.com/post/67652898761/6-dataset-lists-curated-by-data-scientists](http://blog.mortardata.com/post/67652898761/6-dataset-lists-curated-by-data-scientists)\n"
   ]
  },
  {
   "cell_type": "markdown",
   "metadata": {},
   "source": [
    "### More specialized collections\n",
    "\n",
    "* [Stanford Large Network Data](http://snap.stanford.edu/data/)\n",
    "* [UCI Machine Learning](http://archive.ics.uci.edu/ml/)\n",
    "* [KDD Nugets Datasets](http://www.kdnuggets.com/datasets/index.html)\n",
    "* [CMU Statlib](http://lib.stat.cmu.edu/datasets/)\n",
    "* [Gene expression omnibus](http://www.ncbi.nlm.nih.gov/geo/)\n",
    "* [ArXiv Data](http://arxiv.org/help/bulk_data)\n",
    "* [Public Data Sets on Amazon Web Services](http://aws.amazon.com/publicdatasets/)\n"
   ]
  },
  {
   "cell_type": "markdown",
   "metadata": {},
   "source": [
    "### Some API's with R interfaces\n",
    "\n",
    "* [twitter](https://dev.twitter.com/) and [twitteR](http://cran.r-project.org/web/packages/twitteR/index.html) package\n",
    "* [figshare](http://api.figshare.com/docs/intro.html) and [rfigshare](http://cran.r-project.org/web/packages/rfigshare/index.html)\n",
    "* [PLoS](http://api.plos.org/) and [rplos](http://cran.r-project.org/web/packages/rplos/rplos.pdf)\n",
    "* [rOpenSci](http://ropensci.org/packages/index.html)\n",
    "* [Facebook](https://developers.facebook.com/) and [RFacebook](http://cran.r-project.org/web/packages/Rfacebook/)\n",
    "* [Google maps](https://developers.google.com/maps/) and [RGoogleMaps](http://cran.r-project.org/web/packages/RgoogleMaps/index.html)"
   ]
  },
  {
   "cell_type": "markdown",
   "metadata": {},
   "source": [
    "## Questions"
   ]
  }
 ],
 "metadata": {
  "celltoolbar": "Slideshow",
  "kernelspec": {
   "display_name": "R",
   "language": "R",
   "name": "ir"
  },
  "language_info": {
   "codemirror_mode": "r",
   "file_extension": ".r",
   "mimetype": "text/x-r-source",
   "name": "R",
   "pygments_lexer": "r",
   "version": "3.5.1"
  },
  "toc": {
   "base_numbering": 1,
   "nav_menu": {},
   "number_sections": true,
   "sideBar": true,
   "skip_h1_title": false,
   "title_cell": "Table of Contents",
   "title_sidebar": "Contents",
   "toc_cell": false,
   "toc_position": {
    "height": "calc(100% - 180px)",
    "left": "10px",
    "top": "150px",
    "width": "165px"
   },
   "toc_section_display": true,
   "toc_window_display": true
  }
 },
 "nbformat": 4,
 "nbformat_minor": 2
}
